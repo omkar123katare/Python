{
  "nbformat": 4,
  "nbformat_minor": 0,
  "metadata": {
    "colab": {
      "name": "Python.ipynb",
      "provenance": [],
      "authorship_tag": "ABX9TyMdgNrjHZwPjmFgXV8lHAT2",
      "include_colab_link": true
    },
    "kernelspec": {
      "name": "python3",
      "display_name": "Python 3"
    },
    "language_info": {
      "name": "python"
    }
  },
  "cells": [
    {
      "cell_type": "markdown",
      "metadata": {
        "id": "view-in-github",
        "colab_type": "text"
      },
      "source": [
        "<a href=\"https://colab.research.google.com/github/omkar123katare/Python/blob/main/Python.ipynb\" target=\"_parent\"><img src=\"https://colab.research.google.com/assets/colab-badge.svg\" alt=\"Open In Colab\"/></a>"
      ]
    },
    {
      "cell_type": "markdown",
      "source": [
        "# Print"
      ],
      "metadata": {
        "id": "DsQ-cIjNa-x_"
      }
    },
    {
      "cell_type": "code",
      "execution_count": 1,
      "metadata": {
        "colab": {
          "base_uri": "https://localhost:8080/"
        },
        "id": "Kyjs2TeDVYGf",
        "outputId": "2277741b-6e4f-4b49-b840-2f6f0e923f20"
      },
      "outputs": [
        {
          "output_type": "stream",
          "name": "stdout",
          "text": [
            "india pakistan nepal shrilanka\n"
          ]
        }
      ],
      "source": [
        "print(\"india\",\"pakistan\",'nepal',\"shrilanka\")"
      ]
    },
    {
      "cell_type": "code",
      "source": [
        "print('india',5,True)"
      ],
      "metadata": {
        "colab": {
          "base_uri": "https://localhost:8080/"
        },
        "id": "DqZA6Ec0Vl4d",
        "outputId": "321e7338-e1fd-4388-8921-a7d5111091b6"
      },
      "execution_count": 2,
      "outputs": [
        {
          "output_type": "stream",
          "name": "stdout",
          "text": [
            "india 5 True\n"
          ]
        }
      ]
    },
    {
      "cell_type": "markdown",
      "source": [
        "sep parameter in the print fucntion"
      ],
      "metadata": {
        "id": "zatFMn4uZ3Cc"
      }
    },
    {
      "cell_type": "code",
      "source": [
        "print(\"india\",\"pakistan\",'nepal',\"china\",sep='*')"
      ],
      "metadata": {
        "colab": {
          "base_uri": "https://localhost:8080/"
        },
        "id": "Ojv10TMbVuZc",
        "outputId": "37bf5262-3a9e-48db-c425-6353e904e4c0"
      },
      "execution_count": 3,
      "outputs": [
        {
          "output_type": "stream",
          "name": "stdout",
          "text": [
            "india*pakistan*nepal*china\n"
          ]
        }
      ]
    },
    {
      "cell_type": "markdown",
      "source": [
        "end parameter in the print function.\n",
        "This function has default value : end='/n'"
      ],
      "metadata": {
        "id": "saQ968jcaL9l"
      }
    },
    {
      "cell_type": "code",
      "source": [
        "print('Hello')\n",
        "print('Omkar')"
      ],
      "metadata": {
        "colab": {
          "base_uri": "https://localhost:8080/"
        },
        "id": "B7jzJOwUZ1h3",
        "outputId": "1874804d-5822-4fbb-f562-897f9fee5dac"
      },
      "execution_count": 4,
      "outputs": [
        {
          "output_type": "stream",
          "name": "stdout",
          "text": [
            "Hello\n",
            "Omkar\n"
          ]
        }
      ]
    },
    {
      "cell_type": "markdown",
      "source": [
        "instead off deafault value end='/n', we will put end=' '"
      ],
      "metadata": {
        "id": "saOIYoGdae4x"
      }
    },
    {
      "cell_type": "code",
      "source": [
        "print('hello',end=' ')\n",
        "print('omkar')"
      ],
      "metadata": {
        "colab": {
          "base_uri": "https://localhost:8080/"
        },
        "id": "t6OV4szCaKf_",
        "outputId": "eca622d6-a71e-4d59-be12-006076a741b9"
      },
      "execution_count": 5,
      "outputs": [
        {
          "output_type": "stream",
          "name": "stdout",
          "text": [
            "hello omkar\n"
          ]
        }
      ]
    },
    {
      "cell_type": "markdown",
      "source": [
        "# Data types"
      ],
      "metadata": {
        "id": "9BPVP0RkbBpD"
      }
    },
    {
      "cell_type": "markdown",
      "source": [
        "1. Basic- integer, float, complex, boolean, string\n",
        "2. Container- list, tuple, set, dictionary\n",
        "3. User defined- class\n",
        "\n",
        "\n"
      ],
      "metadata": {
        "id": "8dlKSc40bG_y"
      }
    },
    {
      "cell_type": "markdown",
      "source": [
        "In containers, Elements of multiple data types can be stored in a single data type"
      ],
      "metadata": {
        "id": "3QbYNSgMbjw8"
      }
    },
    {
      "cell_type": "code",
      "source": [
        "print(1e308)"
      ],
      "metadata": {
        "colab": {
          "base_uri": "https://localhost:8080/"
        },
        "id": "vnDYCBMladHC",
        "outputId": "183c95d7-92cf-483b-8653-c78c0345ec82"
      },
      "execution_count": 6,
      "outputs": [
        {
          "output_type": "stream",
          "name": "stdout",
          "text": [
            "1e+308\n"
          ]
        }
      ]
    },
    {
      "cell_type": "code",
      "source": [
        "print(1e309)"
      ],
      "metadata": {
        "colab": {
          "base_uri": "https://localhost:8080/"
        },
        "id": "ppxZyYsveNPL",
        "outputId": "a25491df-a877-4482-cb13-ac616531061c"
      },
      "execution_count": 7,
      "outputs": [
        {
          "output_type": "stream",
          "name": "stdout",
          "text": [
            "inf\n"
          ]
        }
      ]
    },
    {
      "cell_type": "code",
      "source": [
        "print(3.5)"
      ],
      "metadata": {
        "colab": {
          "base_uri": "https://localhost:8080/"
        },
        "id": "VRsO8ZUoeO-b",
        "outputId": "863f15a5-3afc-414b-e6dc-e34420d109f8"
      },
      "execution_count": 8,
      "outputs": [
        {
          "output_type": "stream",
          "name": "stdout",
          "text": [
            "3.5\n"
          ]
        }
      ]
    }
  ]
}