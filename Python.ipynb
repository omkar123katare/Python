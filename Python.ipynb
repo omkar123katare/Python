{
  "nbformat": 4,
  "nbformat_minor": 0,
  "metadata": {
    "colab": {
      "name": "Python.ipynb",
      "provenance": [],
      "authorship_tag": "ABX9TyOaDYkG+9TPPkw/KMlBy7G9",
      "include_colab_link": true
    },
    "kernelspec": {
      "name": "python3",
      "display_name": "Python 3"
    },
    "language_info": {
      "name": "python"
    }
  },
  "cells": [
    {
      "cell_type": "markdown",
      "metadata": {
        "id": "view-in-github",
        "colab_type": "text"
      },
      "source": [
        "<a href=\"https://colab.research.google.com/github/omkar123katare/Python/blob/main/Python.ipynb\" target=\"_parent\"><img src=\"https://colab.research.google.com/assets/colab-badge.svg\" alt=\"Open In Colab\"/></a>"
      ]
    },
    {
      "cell_type": "markdown",
      "source": [
        "# Print"
      ],
      "metadata": {
        "id": "DsQ-cIjNa-x_"
      }
    },
    {
      "cell_type": "code",
      "execution_count": null,
      "metadata": {
        "colab": {
          "base_uri": "https://localhost:8080/"
        },
        "id": "Kyjs2TeDVYGf",
        "outputId": "2277741b-6e4f-4b49-b840-2f6f0e923f20"
      },
      "outputs": [
        {
          "output_type": "stream",
          "name": "stdout",
          "text": [
            "india pakistan nepal shrilanka\n"
          ]
        }
      ],
      "source": [
        "print(\"india\",\"pakistan\",'nepal',\"shrilanka\")"
      ]
    },
    {
      "cell_type": "code",
      "source": [
        "print('india',5,True)"
      ],
      "metadata": {
        "colab": {
          "base_uri": "https://localhost:8080/"
        },
        "id": "DqZA6Ec0Vl4d",
        "outputId": "321e7338-e1fd-4388-8921-a7d5111091b6"
      },
      "execution_count": null,
      "outputs": [
        {
          "output_type": "stream",
          "name": "stdout",
          "text": [
            "india 5 True\n"
          ]
        }
      ]
    },
    {
      "cell_type": "markdown",
      "source": [
        "sep parameter in the print fucntion"
      ],
      "metadata": {
        "id": "zatFMn4uZ3Cc"
      }
    },
    {
      "cell_type": "code",
      "source": [
        "print(\"india\",\"pakistan\",'nepal',\"china\",sep='*')"
      ],
      "metadata": {
        "colab": {
          "base_uri": "https://localhost:8080/"
        },
        "id": "Ojv10TMbVuZc",
        "outputId": "37bf5262-3a9e-48db-c425-6353e904e4c0"
      },
      "execution_count": null,
      "outputs": [
        {
          "output_type": "stream",
          "name": "stdout",
          "text": [
            "india*pakistan*nepal*china\n"
          ]
        }
      ]
    },
    {
      "cell_type": "markdown",
      "source": [
        "end parameter in the print function.\n",
        "This function has default value : end='/n'"
      ],
      "metadata": {
        "id": "saQ968jcaL9l"
      }
    },
    {
      "cell_type": "code",
      "source": [
        "print('Hello')\n",
        "print('Omkar')"
      ],
      "metadata": {
        "colab": {
          "base_uri": "https://localhost:8080/"
        },
        "id": "B7jzJOwUZ1h3",
        "outputId": "1874804d-5822-4fbb-f562-897f9fee5dac"
      },
      "execution_count": null,
      "outputs": [
        {
          "output_type": "stream",
          "name": "stdout",
          "text": [
            "Hello\n",
            "Omkar\n"
          ]
        }
      ]
    },
    {
      "cell_type": "markdown",
      "source": [
        "instead off deafault value end='/n', we will put end=' '"
      ],
      "metadata": {
        "id": "saOIYoGdae4x"
      }
    },
    {
      "cell_type": "code",
      "source": [
        "print('hello',end=' ')\n",
        "print('omkar')"
      ],
      "metadata": {
        "colab": {
          "base_uri": "https://localhost:8080/"
        },
        "id": "t6OV4szCaKf_",
        "outputId": "eca622d6-a71e-4d59-be12-006076a741b9"
      },
      "execution_count": null,
      "outputs": [
        {
          "output_type": "stream",
          "name": "stdout",
          "text": [
            "hello omkar\n"
          ]
        }
      ]
    },
    {
      "cell_type": "markdown",
      "source": [
        "# Data types"
      ],
      "metadata": {
        "id": "9BPVP0RkbBpD"
      }
    },
    {
      "cell_type": "markdown",
      "source": [
        "1. Basic- integer, float, complex, boolean, string\n",
        "2. Container- list, tuple, set, dictionary\n",
        "3. User defined- class\n",
        "\n",
        "\n"
      ],
      "metadata": {
        "id": "8dlKSc40bG_y"
      }
    },
    {
      "cell_type": "markdown",
      "source": [
        "In containers, Elements of multiple data types can be stored in a single data type"
      ],
      "metadata": {
        "id": "3QbYNSgMbjw8"
      }
    },
    {
      "cell_type": "code",
      "source": [
        "print(1e308)"
      ],
      "metadata": {
        "colab": {
          "base_uri": "https://localhost:8080/"
        },
        "id": "vnDYCBMladHC",
        "outputId": "183c95d7-92cf-483b-8653-c78c0345ec82"
      },
      "execution_count": null,
      "outputs": [
        {
          "output_type": "stream",
          "name": "stdout",
          "text": [
            "1e+308\n"
          ]
        }
      ]
    },
    {
      "cell_type": "code",
      "source": [
        "print(1e309)"
      ],
      "metadata": {
        "colab": {
          "base_uri": "https://localhost:8080/"
        },
        "id": "ppxZyYsveNPL",
        "outputId": "a25491df-a877-4482-cb13-ac616531061c"
      },
      "execution_count": null,
      "outputs": [
        {
          "output_type": "stream",
          "name": "stdout",
          "text": [
            "inf\n"
          ]
        }
      ]
    },
    {
      "cell_type": "code",
      "source": [
        "print(3.5)"
      ],
      "metadata": {
        "colab": {
          "base_uri": "https://localhost:8080/"
        },
        "id": "VRsO8ZUoeO-b",
        "outputId": "863f15a5-3afc-414b-e6dc-e34420d109f8"
      },
      "execution_count": null,
      "outputs": [
        {
          "output_type": "stream",
          "name": "stdout",
          "text": [
            "3.5\n"
          ]
        }
      ]
    },
    {
      "cell_type": "markdown",
      "source": [
        "# Comments"
      ],
      "metadata": {
        "id": "dhCuzObDe2S5"
      }
    },
    {
      "cell_type": "code",
      "source": [
        "# This a comment, compiler won't execute this comment\n"
      ],
      "metadata": {
        "id": "7dBXlQF9e4o1"
      },
      "execution_count": 1,
      "outputs": []
    },
    {
      "cell_type": "markdown",
      "source": [
        "# Variables"
      ],
      "metadata": {
        "id": "-BLqkd3Qh4fB"
      }
    },
    {
      "cell_type": "code",
      "source": [
        "# Dynamic Typing - No need of specifying data type of new variable. ( In Python and PHP )\n",
        "# Static Typing - we need to specify the type of a variable.( In c )\n"
      ],
      "metadata": {
        "id": "q0eh7o1ce9qD"
      },
      "execution_count": 3,
      "outputs": []
    },
    {
      "cell_type": "code",
      "source": [
        "# Dynamic Binding - \n",
        "name= 'Omkar'\n",
        "print(name)\n",
        "name=9\n",
        "print(name)\n",
        "name=True\n",
        "print(name)\n",
        "# Data type is not bound to any variable. We can change the type of variable stored in the variable without any issue."
      ],
      "metadata": {
        "colab": {
          "base_uri": "https://localhost:8080/"
        },
        "id": "v7kS9i-6h-Tz",
        "outputId": "117a0bd5-cb56-4afc-80a9-6caf3605d74d"
      },
      "execution_count": 5,
      "outputs": [
        {
          "output_type": "stream",
          "name": "stdout",
          "text": [
            "Omkar\n",
            "9\n",
            "True\n"
          ]
        }
      ]
    },
    {
      "cell_type": "code",
      "source": [
        "# static binding - if a varible is declared as interger, we cannot store any value of other data type in the same variable."
      ],
      "metadata": {
        "id": "HO9eN2-mmoVS"
      },
      "execution_count": 6,
      "outputs": []
    },
    {
      "cell_type": "code",
      "source": [
        "a=5;b=90;c=5\n",
        "print(a)\n",
        "print(b)\n",
        "print(c)"
      ],
      "metadata": {
        "colab": {
          "base_uri": "https://localhost:8080/"
        },
        "id": "o2p0upuLnzAE",
        "outputId": "437a03bf-2180-4727-f328-e53609209d4e"
      },
      "execution_count": 7,
      "outputs": [
        {
          "output_type": "stream",
          "name": "stdout",
          "text": [
            "5\n",
            "90\n",
            "5\n"
          ]
        }
      ]
    },
    {
      "cell_type": "code",
      "source": [
        "a,b,c=5,90,7\n",
        "print(a)\n",
        "print(b)\n",
        "print(c)"
      ],
      "metadata": {
        "colab": {
          "base_uri": "https://localhost:8080/"
        },
        "id": "PKhtcc40n6Cx",
        "outputId": "280ada34-dd4b-4883-9e61-f80c3308c1c3"
      },
      "execution_count": 8,
      "outputs": [
        {
          "output_type": "stream",
          "name": "stdout",
          "text": [
            "5\n",
            "90\n",
            "7\n"
          ]
        }
      ]
    },
    {
      "cell_type": "code",
      "source": [
        "a=b=c=87\n",
        "print(a)\n",
        "print(b)\n",
        "print(c)"
      ],
      "metadata": {
        "colab": {
          "base_uri": "https://localhost:8080/"
        },
        "id": "Q_VMJlCCn_-b",
        "outputId": "13b9a7b5-219a-4707-b5af-473053459706"
      },
      "execution_count": 9,
      "outputs": [
        {
          "output_type": "stream",
          "name": "stdout",
          "text": [
            "87\n",
            "87\n",
            "87\n"
          ]
        }
      ]
    },
    {
      "cell_type": "markdown",
      "source": [
        "# Keywords in Python"
      ],
      "metadata": {
        "id": "ljJZzCyFoqc_"
      }
    },
    {
      "cell_type": "code",
      "source": [
        "import keyword\n",
        "keyword.kwlist"
      ],
      "metadata": {
        "colab": {
          "base_uri": "https://localhost:8080/"
        },
        "id": "jXNGG5Y7oKGF",
        "outputId": "801fbd85-ee7f-47db-be7b-8fe29a145571"
      },
      "execution_count": 2,
      "outputs": [
        {
          "output_type": "execute_result",
          "data": {
            "text/plain": [
              "['False',\n",
              " 'None',\n",
              " 'True',\n",
              " 'and',\n",
              " 'as',\n",
              " 'assert',\n",
              " 'async',\n",
              " 'await',\n",
              " 'break',\n",
              " 'class',\n",
              " 'continue',\n",
              " 'def',\n",
              " 'del',\n",
              " 'elif',\n",
              " 'else',\n",
              " 'except',\n",
              " 'finally',\n",
              " 'for',\n",
              " 'from',\n",
              " 'global',\n",
              " 'if',\n",
              " 'import',\n",
              " 'in',\n",
              " 'is',\n",
              " 'lambda',\n",
              " 'nonlocal',\n",
              " 'not',\n",
              " 'or',\n",
              " 'pass',\n",
              " 'raise',\n",
              " 'return',\n",
              " 'try',\n",
              " 'while',\n",
              " 'with',\n",
              " 'yield']"
            ]
          },
          "metadata": {},
          "execution_count": 2
        }
      ]
    },
    {
      "cell_type": "code",
      "source": [
        "len(keyword.kwlist)"
      ],
      "metadata": {
        "colab": {
          "base_uri": "https://localhost:8080/"
        },
        "id": "ArUUkH1u_61x",
        "outputId": "50d101b1-4c0d-44b1-b045-4ee6f56eed96"
      },
      "execution_count": 4,
      "outputs": [
        {
          "output_type": "execute_result",
          "data": {
            "text/plain": [
              "35"
            ]
          },
          "metadata": {},
          "execution_count": 4
        }
      ]
    },
    {
      "cell_type": "code",
      "source": [
        "# Dont use these names for your variables. Because compiler gest confused between these and these reserved keyworkds. If done error will occur."
      ],
      "metadata": {
        "id": "0p5m5PIKojXr"
      },
      "execution_count": 5,
      "outputs": []
    },
    {
      "cell_type": "markdown",
      "source": [
        "# Identifiers"
      ],
      "metadata": {
        "id": "XpAVY9z2Cfmq"
      }
    },
    {
      "cell_type": "code",
      "source": [
        "# An identifier is a name used to identify a variable, function, class, module, other object.\n",
        "''' Rules for naming identifiers - \n",
        "1. Can only start with an alphabet or _ only\n",
        "2. Can end with digit,_,alphabet. Special characters are not allowed.\n",
        "3. Variable names canot be from Keywords \n",
        "'''"
      ],
      "metadata": {
        "colab": {
          "base_uri": "https://localhost:8080/",
          "height": 70
        },
        "id": "9axszZlW_oTl",
        "outputId": "9a338c98-b1f7-47b4-fa76-62f92b8a0e4c"
      },
      "execution_count": 8,
      "outputs": [
        {
          "output_type": "execute_result",
          "data": {
            "text/plain": [
              "' Rules for naming identifiers - \\n1. Can only start with an alphabet or _ only\\n2. Can end with digit,_,alphabet. Special characters are not allowed.\\n3. Variable names canot be from Keywords \\n'"
            ],
            "application/vnd.google.colaboratory.intrinsic+json": {
              "type": "string"
            }
          },
          "metadata": {},
          "execution_count": 8
        }
      ]
    },
    {
      "cell_type": "markdown",
      "source": [
        "# Taking user input"
      ],
      "metadata": {
        "id": "GluXynI3EPRi"
      }
    },
    {
      "cell_type": "code",
      "source": [
        "input(\"What is Your Name?\")"
      ],
      "metadata": {
        "colab": {
          "base_uri": "https://localhost:8080/",
          "height": 53
        },
        "id": "BCLXjlHRDa_g",
        "outputId": "3e505852-d739-45c6-e4a3-546de1d10929"
      },
      "execution_count": 12,
      "outputs": [
        {
          "name": "stdout",
          "output_type": "stream",
          "text": [
            "What is Your Name?Omkar Dattatraya Katare\n"
          ]
        },
        {
          "output_type": "execute_result",
          "data": {
            "text/plain": [
              "'Omkar Dattatraya Katare'"
            ],
            "application/vnd.google.colaboratory.intrinsic+json": {
              "type": "string"
            }
          },
          "metadata": {},
          "execution_count": 12
        }
      ]
    },
    {
      "cell_type": "code",
      "source": [
        "num1=input(\"Enter first number \")\n",
        "print(type(num1))\n",
        "num2=input(\"Enter the second number \")\n",
        "print(type(num2))\n",
        "print(f\"product of these numbers is= {int(num1)*int(num2)}\")\n",
        "# Whenever user inputs anything, computer gets it in a string format. We need to change it everytime so as to avoid error."
      ],
      "metadata": {
        "colab": {
          "base_uri": "https://localhost:8080/"
        },
        "id": "7TJAQZJDHPvP",
        "outputId": "1d5d6659-5b64-4893-8079-ee7080889218"
      },
      "execution_count": 21,
      "outputs": [
        {
          "output_type": "stream",
          "name": "stdout",
          "text": [
            "Enter first number 34\n",
            "<class 'str'>\n",
            "Enter the second number 56\n",
            "<class 'str'>\n",
            "product of these numbers is= 1904\n"
          ]
        }
      ]
    },
    {
      "cell_type": "markdown",
      "source": [
        "# Type conversion"
      ],
      "metadata": {
        "id": "viJ-PD-lKR3f"
      }
    },
    {
      "cell_type": "markdown",
      "source": [
        "One data type can be converted into other data type. (if it is compatible)"
      ],
      "metadata": {
        "id": "0DpmDs_vgUnJ"
      }
    },
    {
      "cell_type": "markdown",
      "source": [
        "int()\n",
        "str()\n",
        "float()\n",
        "bool()\n",
        "complex()\n",
        "list()\n",
        "dict()"
      ],
      "metadata": {
        "id": "ZVQo03NEg00n"
      }
    },
    {
      "cell_type": "code",
      "source": [
        "x=str(5)\n",
        "print(x)\n",
        "print(type(x))\n",
        "y=int(x)\n",
        "print(y)\n",
        "print(type(y))\n",
        "z=bool(x)\n",
        "print(z)\n",
        "print(type(z))\n",
        "print(bool(0))\n",
        "print(bool([]))"
      ],
      "metadata": {
        "colab": {
          "base_uri": "https://localhost:8080/"
        },
        "id": "qgCS7YqAIgl-",
        "outputId": "5dcd6009-0243-429a-b815-6a3377c20410"
      },
      "execution_count": 9,
      "outputs": [
        {
          "output_type": "stream",
          "name": "stdout",
          "text": [
            "5\n",
            "<class 'str'>\n",
            "5\n",
            "<class 'int'>\n",
            "True\n",
            "<class 'bool'>\n",
            "False\n",
            "False\n"
          ]
        }
      ]
    },
    {
      "cell_type": "code",
      "source": [
        "import numpy as np"
      ],
      "metadata": {
        "id": "lDAe0yAFm-7Y"
      },
      "execution_count": 12,
      "outputs": []
    },
    {
      "cell_type": "code",
      "source": [
        "name='omkar_katare'\n",
        "print(name)\n",
        "print(list(name))\n",
        "print(set(name))\n"
      ],
      "metadata": {
        "colab": {
          "base_uri": "https://localhost:8080/"
        },
        "id": "Z8lTJflNhFUD",
        "outputId": "f809c654-6ffe-47c6-ce48-bda5a736c446"
      },
      "execution_count": 20,
      "outputs": [
        {
          "output_type": "stream",
          "name": "stdout",
          "text": [
            "omkar_katare\n",
            "['o', 'm', 'k', 'a', 'r', '_', 'k', 'a', 't', 'a', 'r', 'e']\n",
            "{'m', 'o', '_', 'a', 'e', 'r', 'k', 't'}\n"
          ]
        }
      ]
    },
    {
      "cell_type": "markdown",
      "source": [
        "# Literals"
      ],
      "metadata": {
        "id": "Q7STo3JGp6X8"
      }
    },
    {
      "cell_type": "code",
      "source": [
        "# Numeric Literals\n",
        "a=0b1010 # Binary Literal\n",
        "b=100 # Decimal Literal\n",
        "c=0o310 # Octal Literal\n",
        "d=0x12c # Hexagonal Literal\n",
        "\n",
        "print(a,b,c,d)"
      ],
      "metadata": {
        "colab": {
          "base_uri": "https://localhost:8080/"
        },
        "id": "qxALsQTgmzVi",
        "outputId": "d2270dd5-3798-4ea9-d2de-12ad741079de"
      },
      "execution_count": 23,
      "outputs": [
        {
          "output_type": "stream",
          "name": "stdout",
          "text": [
            "10 100 200 300\n"
          ]
        }
      ]
    },
    {
      "cell_type": "code",
      "source": [
        "# Float Literals\n",
        "float1=1.5\n",
        "float2=1.5e2\n",
        "float3=1.5e-2\n",
        "\n",
        "print(float1,float2,float3)"
      ],
      "metadata": {
        "colab": {
          "base_uri": "https://localhost:8080/"
        },
        "id": "Lud2lqQEqDjC",
        "outputId": "05470ad9-a357-4250-d62f-0642d50c8339"
      },
      "execution_count": 25,
      "outputs": [
        {
          "output_type": "stream",
          "name": "stdout",
          "text": [
            "1.5 150.0 0.015\n"
          ]
        }
      ]
    },
    {
      "cell_type": "code",
      "source": [
        "# Complex Literal\n",
        "p=3.14j + 67\n",
        "print(p)\n",
        "print(p.imag)\n",
        "print(p.real)"
      ],
      "metadata": {
        "colab": {
          "base_uri": "https://localhost:8080/"
        },
        "id": "h3dMFxhZq1tM",
        "outputId": "16fa3007-4d04-4ffd-82c9-01e02638f4d1"
      },
      "execution_count": 28,
      "outputs": [
        {
          "output_type": "stream",
          "name": "stdout",
          "text": [
            "(67+3.14j)\n",
            "3.14\n",
            "67.0\n"
          ]
        }
      ]
    },
    {
      "cell_type": "code",
      "source": [
        "# string Literals\n",
        "sentence1='This is Python'\n",
        "sentence2=\" This is also Python\"\n",
        "multiline_string=''' This could be a multiline string. Like a paragraph '''\n",
        "unicode= u'\\U0001F600'\n",
        "raw_string=r\"raw /n string\""
      ],
      "metadata": {
        "id": "ZSHGnT94rDTd"
      },
      "execution_count": 35,
      "outputs": []
    },
    {
      "cell_type": "code",
      "source": [
        "print(sentence1,sentence2,multiline_string,raw_string,sep='------')"
      ],
      "metadata": {
        "colab": {
          "base_uri": "https://localhost:8080/"
        },
        "id": "rIgH7wi-3UB4",
        "outputId": "fd18bb76-5a72-4287-9160-d40d7ca539b2"
      },
      "execution_count": 38,
      "outputs": [
        {
          "output_type": "stream",
          "name": "stdout",
          "text": [
            "This is Python------ This is also Python------ This could be a multiline string. Like a paragraph ------raw /n string\n"
          ]
        }
      ]
    },
    {
      "cell_type": "code",
      "source": [
        "# Boolean Literal\n",
        "a= True +4\n",
        "b= False+4\n",
        "print('a : ',a)\n",
        "print('b : ',b)"
      ],
      "metadata": {
        "colab": {
          "base_uri": "https://localhost:8080/"
        },
        "id": "RjLr-VoYuIc5",
        "outputId": "d8c5633d-3b90-497b-e5e3-c32fe5da17f9"
      },
      "execution_count": 40,
      "outputs": [
        {
          "output_type": "stream",
          "name": "stdout",
          "text": [
            "a :  5\n",
            "b :  4\n"
          ]
        }
      ]
    },
    {
      "cell_type": "code",
      "source": [
        "# special literal\n",
        "a=None\n",
        "print(a)\n",
        "# Then why did we define a ? We kind of declared variable a which we will use in later point of our progeam."
      ],
      "metadata": {
        "colab": {
          "base_uri": "https://localhost:8080/"
        },
        "id": "gOvF6aGsuKf0",
        "outputId": "69ae2f84-37c6-48a3-bf50-450eb8a09482"
      },
      "execution_count": 41,
      "outputs": [
        {
          "output_type": "stream",
          "name": "stdout",
          "text": [
            "None\n"
          ]
        }
      ]
    },
    {
      "cell_type": "markdown",
      "source": [
        "# Operators\n",
        "1.Arithmetic Operators\n",
        "\n",
        "2.Comaprison Operators\n",
        "\n",
        "3.Logical Operators\n",
        "\n",
        "4.Bitwise Operators\n",
        "\n",
        "5.Assignment Operators\n",
        "\n",
        "6.Identity Operators\n",
        "\n",
        "7.Membership Operators\n"
      ],
      "metadata": {
        "id": "lFJDzAvimuGE"
      }
    },
    {
      "cell_type": "code",
      "source": [
        "# Arithmetic Operators\n",
        "x=5\n",
        "y=2\n",
        "\n",
        "print(x+y)\n",
        "print(x-y)\n",
        "print(x*y)\n",
        "print(x/y)\n",
        "print(x%y)\n",
        "print(x**y)\n",
        "print(x//y)\n"
      ],
      "metadata": {
        "colab": {
          "base_uri": "https://localhost:8080/"
        },
        "id": "ytWE225944Cl",
        "outputId": "1ddd93b7-d1a2-4dca-efca-8a537ef4ba58"
      },
      "execution_count": 5,
      "outputs": [
        {
          "output_type": "stream",
          "name": "stdout",
          "text": [
            "7\n",
            "3\n",
            "10\n",
            "2.5\n",
            "1\n",
            "25\n",
            "2\n"
          ]
        }
      ]
    },
    {
      "cell_type": "code",
      "source": [
        "# Comparison or relational Operators\n",
        "print(x>y)\n",
        "print(x<y)\n",
        "print(x>=y)\n",
        "print(x<=y)\n",
        "print(x==y)\n",
        "print(x!=y)"
      ],
      "metadata": {
        "colab": {
          "base_uri": "https://localhost:8080/"
        },
        "id": "6D8T1dHKm-h3",
        "outputId": "05a0b6e0-bf5b-4046-e338-e06094a70a55"
      },
      "execution_count": 9,
      "outputs": [
        {
          "output_type": "stream",
          "name": "stdout",
          "text": [
            "True\n",
            "False\n",
            "True\n",
            "False\n",
            "False\n",
            "True\n"
          ]
        }
      ]
    },
    {
      "cell_type": "code",
      "source": [
        "# Logical Operators\n",
        "x = True\n",
        "y= False\n",
        "\n",
        "print(x and y)\n",
        "print(x or y)\n",
        "print(not y)\n",
        "print(not x)"
      ],
      "metadata": {
        "colab": {
          "base_uri": "https://localhost:8080/"
        },
        "id": "GVEs38IBoMmt",
        "outputId": "ec644ae4-4072-4537-9926-e811997832c1"
      },
      "execution_count": 13,
      "outputs": [
        {
          "output_type": "stream",
          "name": "stdout",
          "text": [
            "False\n",
            "True\n",
            "True\n",
            "False\n"
          ]
        }
      ]
    },
    {
      "cell_type": "code",
      "source": [
        "# Bitwise opearators - used in image processing while applying filters, image is converted into binary form. \n",
        "x=2  # 0010\n",
        "y=3  # 0011\n",
        "    \n",
        "print(x & y)  # 0010\n",
        "print(x | y)  # 0011\n",
        "print(x >> 2) # 0000\n",
        "print(x << 2) # 1000\n",
        "print(~x) # 1101 "
      ],
      "metadata": {
        "colab": {
          "base_uri": "https://localhost:8080/"
        },
        "id": "1mFuYgmqomfs",
        "outputId": "18502ff6-f48a-4ea7-f325-a073a5cb9604"
      },
      "execution_count": 26,
      "outputs": [
        {
          "output_type": "stream",
          "name": "stdout",
          "text": [
            "2\n",
            "3\n",
            "0\n",
            "8\n",
            "-3\n"
          ]
        }
      ]
    },
    {
      "cell_type": "code",
      "source": [
        "# Assignment operator\n",
        "\n",
        "a=5\n",
        "print(a)\n",
        "a+=4\n",
        "print(a)\n",
        "a-=2\n",
        "print(a)"
      ],
      "metadata": {
        "colab": {
          "base_uri": "https://localhost:8080/"
        },
        "id": "ci23bQCLo6Ps",
        "outputId": "cc889847-60f4-45ac-b69f-916b2dbc199e"
      },
      "execution_count": 29,
      "outputs": [
        {
          "output_type": "stream",
          "name": "stdout",
          "text": [
            "5\n",
            "9\n",
            "7\n"
          ]
        }
      ]
    },
    {
      "cell_type": "code",
      "source": [
        "# Identity operator - are the values stored in the same memory location or not?\n",
        "a=8\n",
        "b=8\n",
        "a is b"
      ],
      "metadata": {
        "colab": {
          "base_uri": "https://localhost:8080/"
        },
        "id": "OKcnddpLsS4q",
        "outputId": "65b25e7a-fdaa-485f-f618-969afe6fffac"
      },
      "execution_count": 30,
      "outputs": [
        {
          "output_type": "execute_result",
          "data": {
            "text/plain": [
              "True"
            ]
          },
          "metadata": {},
          "execution_count": 30
        }
      ]
    },
    {
      "cell_type": "code",
      "source": [
        "a='hello'\n",
        "b='hello'\n",
        "a is b"
      ],
      "metadata": {
        "colab": {
          "base_uri": "https://localhost:8080/"
        },
        "id": "f7xuksqgtTPc",
        "outputId": "35d53bbe-5862-4052-fcaa-d62c93f5022a"
      },
      "execution_count": 31,
      "outputs": [
        {
          "output_type": "execute_result",
          "data": {
            "text/plain": [
              "True"
            ]
          },
          "metadata": {},
          "execution_count": 31
        }
      ]
    },
    {
      "cell_type": "code",
      "source": [
        "a='hello-world'\n",
        "b='hello-world'\n",
        "a is b"
      ],
      "metadata": {
        "colab": {
          "base_uri": "https://localhost:8080/"
        },
        "id": "N2kpox63ybut",
        "outputId": "60f35b48-9435-492e-a72d-28189d14a5ae"
      },
      "execution_count": 41,
      "outputs": [
        {
          "output_type": "execute_result",
          "data": {
            "text/plain": [
              "False"
            ]
          },
          "metadata": {},
          "execution_count": 41
        }
      ]
    },
    {
      "cell_type": "code",
      "source": [
        "a is not b"
      ],
      "metadata": {
        "colab": {
          "base_uri": "https://localhost:8080/"
        },
        "id": "jVnqsMKNz-6A",
        "outputId": "3757acba-270d-4557-b119-80bf043ae2e8"
      },
      "execution_count": 42,
      "outputs": [
        {
          "output_type": "execute_result",
          "data": {
            "text/plain": [
              "True"
            ]
          },
          "metadata": {},
          "execution_count": 42
        }
      ]
    },
    {
      "cell_type": "code",
      "source": [
        "a=[10,20,30]\n",
        "b=[10,20,30]\n",
        "a is b"
      ],
      "metadata": {
        "colab": {
          "base_uri": "https://localhost:8080/"
        },
        "id": "emYP6I3LyjIs",
        "outputId": "dee0cbe8-8607-4d08-a961-1c7b074c4e22"
      },
      "execution_count": 33,
      "outputs": [
        {
          "output_type": "execute_result",
          "data": {
            "text/plain": [
              "False"
            ]
          },
          "metadata": {},
          "execution_count": 33
        }
      ]
    },
    {
      "cell_type": "code",
      "source": [
        "a=3\n",
        "b=3\n",
        "a is b"
      ],
      "metadata": {
        "colab": {
          "base_uri": "https://localhost:8080/"
        },
        "id": "Vu-cFtZbynRR",
        "outputId": "2e3e2c74-734b-41ad-ccfd-e4ecac1ac854"
      },
      "execution_count": 34,
      "outputs": [
        {
          "output_type": "execute_result",
          "data": {
            "text/plain": [
              "True"
            ]
          },
          "metadata": {},
          "execution_count": 34
        }
      ]
    },
    {
      "cell_type": "code",
      "source": [
        "# Membership oparators- In other languages we need to use a for loop. But, in python, we just use this member ship operator- 'in' and get solution.\n",
        "\"d\" in \"delhi\""
      ],
      "metadata": {
        "colab": {
          "base_uri": "https://localhost:8080/"
        },
        "id": "ZaEBXkmsypyZ",
        "outputId": "ad1b5e85-2377-4eca-8e50-801c32c0f878"
      },
      "execution_count": 38,
      "outputs": [
        {
          "output_type": "execute_result",
          "data": {
            "text/plain": [
              "True"
            ]
          },
          "metadata": {},
          "execution_count": 38
        }
      ]
    },
    {
      "cell_type": "code",
      "source": [
        "\"D\" not in \"delhi\""
      ],
      "metadata": {
        "colab": {
          "base_uri": "https://localhost:8080/"
        },
        "id": "VtJMiSB7y0Ai",
        "outputId": "6d94bc40-fd46-41d5-bd86-eee3a0c73f1d"
      },
      "execution_count": 36,
      "outputs": [
        {
          "output_type": "execute_result",
          "data": {
            "text/plain": [
              "True"
            ]
          },
          "metadata": {},
          "execution_count": 36
        }
      ]
    },
    {
      "cell_type": "code",
      "source": [
        "list=[2,5,6,7,8]\n",
        "2 in list"
      ],
      "metadata": {
        "colab": {
          "base_uri": "https://localhost:8080/"
        },
        "id": "gFhUlAJiy4oS",
        "outputId": "c931bb26-649d-418e-92ab-8afd89d34307"
      },
      "execution_count": 37,
      "outputs": [
        {
          "output_type": "execute_result",
          "data": {
            "text/plain": [
              "True"
            ]
          },
          "metadata": {},
          "execution_count": 37
        }
      ]
    },
    {
      "cell_type": "markdown",
      "source": [
        "# if else"
      ],
      "metadata": {
        "id": "Exlrc9Yi6luZ"
      }
    },
    {
      "cell_type": "code",
      "source": [
        "#correct email= omkarkatare123@gmal.com\n",
        "#correct password= dakvdkgdkvdkodk\n",
        "email=input(\"apna email bata \")\n",
        "if '@' in email:\n",
        "  \n",
        "  password=input(\"apna password bhi bata \")\n",
        "\n",
        "\n",
        "  if email==\"omkarkatare123@gmail.com\"  and password ==\"dakvdkgdkvdkodk\":\n",
        "    print(\"Sahi hai\")\n",
        "  elif email==\"omkarkatare123@gmail.com\"  and password !=\"dakvdkgdkvdkodk\":\n",
        "    print(\"Email sahi hai password sahi se bata \")\n",
        "    password=input(\"password sang \")\n",
        "    if password==\"dakvdkgdkvdkodk\":\n",
        "      print(\"finaaly correct\")\n",
        "    else:\n",
        "      print(\"phirse password galat\")\n",
        "  elif email!=\"omkarkatare123@gmail.com\"  and password ==\"dakvdkgdkvdkodk\":\n",
        "    email=input(\"email sang ata \")\n",
        "    print(\"email galat hai password thik hai\")\n",
        "    if email=='omkarkatare123@gmail.com':\n",
        "      print(\"finnaly correct\")\n",
        "    else:\n",
        "      print(\"phirse email galat\")\n",
        "\n",
        "else:\n",
        "  print(\"Email is wrong\")"
      ],
      "metadata": {
        "colab": {
          "base_uri": "https://localhost:8080/"
        },
        "id": "E6vp4W77y-EW",
        "outputId": "20f44772-100c-4ed9-b302-9943dd37cfae"
      },
      "execution_count": 4,
      "outputs": [
        {
          "output_type": "stream",
          "name": "stdout",
          "text": [
            "apna email bata omkarkatare123gmail.com\n",
            "Email is wrong\n"
          ]
        }
      ]
    },
    {
      "cell_type": "markdown",
      "source": [
        "# Indentation"
      ],
      "metadata": {
        "id": "H54oI-wy4xjQ"
      }
    },
    {
      "cell_type": "code",
      "source": [
        "# In python we dont use ; and {} . Here we use indentation\n"
      ],
      "metadata": {
        "id": "vmSik9mB8UWt"
      },
      "execution_count": null,
      "outputs": []
    },
    {
      "cell_type": "markdown",
      "source": [
        "# Loop"
      ],
      "metadata": {
        "id": "1RoQhZTw7cJJ"
      }
    },
    {
      "cell_type": "code",
      "source": [
        "# loop use - containers for flipkart webpage.\n",
        "#you wont make 1000s of containers. You just make one and using loops we loop this one over 1000s of containers."
      ],
      "metadata": {
        "id": "tHjsqwQi7i_r"
      },
      "execution_count": null,
      "outputs": []
    },
    {
      "cell_type": "markdown",
      "source": [
        "While loop"
      ],
      "metadata": {
        "id": "hfeVnNxcjCwR"
      }
    },
    {
      "cell_type": "code",
      "source": [
        "number=int(input(\"Enter a number\"))\n",
        "i=1\n",
        "while i<11:\n",
        "  print(number*i)\n",
        "  i=i+1"
      ],
      "metadata": {
        "colab": {
          "base_uri": "https://localhost:8080/"
        },
        "id": "AnQ35f2ZjIHi",
        "outputId": "ed611399-ac25-4d94-df25-b4b3e293e83b"
      },
      "execution_count": 2,
      "outputs": [
        {
          "output_type": "stream",
          "name": "stdout",
          "text": [
            "Enter a number5\n",
            "5\n",
            "10\n",
            "15\n",
            "20\n",
            "25\n",
            "30\n",
            "35\n",
            "40\n",
            "45\n",
            "50\n"
          ]
        }
      ]
    },
    {
      "cell_type": "markdown",
      "source": [
        "Guessing Game"
      ],
      "metadata": {
        "id": "MS1azwgukfT1"
      }
    },
    {
      "cell_type": "code",
      "source": [
        "import random"
      ],
      "metadata": {
        "id": "MYGfZuBDjcyk"
      },
      "execution_count": 6,
      "outputs": []
    },
    {
      "cell_type": "code",
      "source": [
        "#indefinite loop - while loop. (we dont know in advance the number of time loop is to be executed)"
      ],
      "metadata": {
        "id": "cObPiPXNpDGG"
      },
      "execution_count": 17,
      "outputs": []
    },
    {
      "cell_type": "code",
      "source": [
        "jackpot=random.randint(1,100)\n",
        "counter=1\n",
        "guess=int(input(\"chal guess kar\"))\n",
        "while guess != jackpot:\n",
        "  \n",
        "  if guess<jackpot:\n",
        "    print(\"Guess Higher\")\n",
        "  else: \n",
        "    print(\"Guess lower\")\n",
        "  \n",
        "  counter+=1\n",
        "  guess=int(input(\"Chal guess kar phirse\"))\n",
        "\n",
        "print(\"Sahi Jawab. You took\",counter,\"Number of attmpts\")"
      ],
      "metadata": {
        "colab": {
          "base_uri": "https://localhost:8080/"
        },
        "id": "U7QftnYEpNRr",
        "outputId": "8b07545f-ecd7-4d17-d8d8-0ca09e2e7bea"
      },
      "execution_count": 22,
      "outputs": [
        {
          "output_type": "stream",
          "name": "stdout",
          "text": [
            "chal guess kar56\n",
            "Guess lower\n",
            "Chal guess kar phirse20\n",
            "Guess Higher\n",
            "Chal guess kar phirse30\n",
            "Guess lower\n",
            "Chal guess kar phirse25\n",
            "Guess lower\n",
            "Chal guess kar phirse23\n",
            "Guess lower\n",
            "Chal guess kar phirse22\n",
            "Guess lower\n",
            "Chal guess kar phirse21\n",
            "Sahi Jawab. You took 7 Number of attmpts\n"
          ]
        }
      ]
    },
    {
      "cell_type": "code",
      "source": [
        "i=input('Enter i')\n",
        "j=input('Enter j')\n",
        "counter=1\n",
        "while i==j:\n",
        "  print('both are the same')\n",
        "  i=input('input i')\n",
        "  j=input('input j')\n",
        "  counter=counter+1\n",
        "print(f'You tried {counter} times')"
      ],
      "metadata": {
        "colab": {
          "base_uri": "https://localhost:8080/"
        },
        "id": "K6pqUNxt0DLD",
        "outputId": "dd8d93d3-b07b-4702-e600-5e762b265a7f"
      },
      "execution_count": 36,
      "outputs": [
        {
          "output_type": "stream",
          "name": "stdout",
          "text": [
            "Enter i4\n",
            "Enter j4\n",
            "both are the same\n",
            "input i6\n",
            "input j7\n",
            "You tried 2 times\n"
          ]
        }
      ]
    },
    {
      "cell_type": "markdown",
      "source": [
        "For loop\n"
      ],
      "metadata": {
        "id": "nOAfv_HZrUbv"
      }
    },
    {
      "cell_type": "markdown",
      "source": [
        "For loop iterated over range function OR a sequence. No need of termination, no need of incrementing, everythin will happen on its own. Unlike while loops, here we know how many times our loop will run before starting."
      ],
      "metadata": {
        "id": "1rdZLZeMxSo9"
      }
    },
    {
      "cell_type": "code",
      "source": [
        "# range fuction"
      ],
      "metadata": {
        "id": "AvocP5nFxyBt"
      },
      "execution_count": 15,
      "outputs": []
    },
    {
      "cell_type": "code",
      "source": [
        "\n",
        "set(range(1,11))"
      ],
      "metadata": {
        "colab": {
          "base_uri": "https://localhost:8080/"
        },
        "id": "HHGbHyhrsIg7",
        "outputId": "51d90e2b-075a-4786-b9d2-2394107a01a7"
      },
      "execution_count": 16,
      "outputs": [
        {
          "output_type": "execute_result",
          "data": {
            "text/plain": [
              "{1, 2, 3, 4, 5, 6, 7, 8, 9, 10}"
            ]
          },
          "metadata": {},
          "execution_count": 16
        }
      ]
    },
    {
      "cell_type": "code",
      "source": [
        "list(range(1,11))"
      ],
      "metadata": {
        "colab": {
          "base_uri": "https://localhost:8080/"
        },
        "id": "1BMDsb9FrY93",
        "outputId": "0bc9557d-b8f6-435f-87a1-9f7a3e8e1c8f"
      },
      "execution_count": 17,
      "outputs": [
        {
          "output_type": "execute_result",
          "data": {
            "text/plain": [
              "[1, 2, 3, 4, 5, 6, 7, 8, 9, 10]"
            ]
          },
          "metadata": {},
          "execution_count": 17
        }
      ]
    },
    {
      "cell_type": "code",
      "source": [
        "list(range(1,11,2))"
      ],
      "metadata": {
        "colab": {
          "base_uri": "https://localhost:8080/"
        },
        "id": "4vEwui4lrkKn",
        "outputId": "65f318ec-c93d-41dd-98e9-291adfb9c134"
      },
      "execution_count": 18,
      "outputs": [
        {
          "output_type": "execute_result",
          "data": {
            "text/plain": [
              "[1, 3, 5, 7, 9]"
            ]
          },
          "metadata": {},
          "execution_count": 18
        }
      ]
    },
    {
      "cell_type": "code",
      "source": [
        "list(range(11,1,-1))"
      ],
      "metadata": {
        "colab": {
          "base_uri": "https://localhost:8080/"
        },
        "id": "meD8zOXlrnBM",
        "outputId": "e7f6a9d1-d314-4723-b41c-e14894413dd8"
      },
      "execution_count": 19,
      "outputs": [
        {
          "output_type": "execute_result",
          "data": {
            "text/plain": [
              "[11, 10, 9, 8, 7, 6, 5, 4, 3, 2]"
            ]
          },
          "metadata": {},
          "execution_count": 19
        }
      ]
    },
    {
      "cell_type": "code",
      "source": [
        "for i in range(0,10):\n",
        "  print(i)"
      ],
      "metadata": {
        "colab": {
          "base_uri": "https://localhost:8080/"
        },
        "id": "OSH2uc8prwJZ",
        "outputId": "77fdb2ae-9ada-4c5e-81b4-b5f4a47a5e30"
      },
      "execution_count": 20,
      "outputs": [
        {
          "output_type": "stream",
          "name": "stdout",
          "text": [
            "0\n",
            "1\n",
            "2\n",
            "3\n",
            "4\n",
            "5\n",
            "6\n",
            "7\n",
            "8\n",
            "9\n"
          ]
        }
      ]
    },
    {
      "cell_type": "code",
      "source": [
        "# In addition to range function, For loop can iterate over Sequences as well - list,set,string,tuples"
      ],
      "metadata": {
        "id": "l_3MJNBgxNf2"
      },
      "execution_count": 26,
      "outputs": []
    },
    {
      "cell_type": "code",
      "source": [
        "for i in \"omkar\":\n",
        "  print(i)"
      ],
      "metadata": {
        "colab": {
          "base_uri": "https://localhost:8080/"
        },
        "id": "hHSA1DOfxs3j",
        "outputId": "0eb42dd0-cbc3-4de0-f396-57b4b3d20755"
      },
      "execution_count": 22,
      "outputs": [
        {
          "output_type": "stream",
          "name": "stdout",
          "text": [
            "o\n",
            "m\n",
            "k\n",
            "a\n",
            "r\n"
          ]
        }
      ]
    },
    {
      "cell_type": "code",
      "source": [
        "list=['list1','list2','list3','list4']\n",
        "for j in list:\n",
        "  print(j)"
      ],
      "metadata": {
        "colab": {
          "base_uri": "https://localhost:8080/"
        },
        "id": "SqdXtpBdx3iF",
        "outputId": "74611c21-4e48-488a-d9ac-40efc9768c7a"
      },
      "execution_count": 23,
      "outputs": [
        {
          "output_type": "stream",
          "name": "stdout",
          "text": [
            "list1\n",
            "list2\n",
            "list3\n",
            "list4\n"
          ]
        }
      ]
    },
    {
      "cell_type": "code",
      "source": [
        "for i in [1,2,3,4,5]:\n",
        "  print(i)"
      ],
      "metadata": {
        "colab": {
          "base_uri": "https://localhost:8080/"
        },
        "id": "eTqfrrkLyBgG",
        "outputId": "6a06575f-cd71-40a2-f2c9-83db74104a8e"
      },
      "execution_count": 25,
      "outputs": [
        {
          "output_type": "stream",
          "name": "stdout",
          "text": [
            "1\n",
            "2\n",
            "3\n",
            "4\n",
            "5\n"
          ]
        }
      ]
    },
    {
      "cell_type": "code",
      "source": [
        "for i in (1,2,3,4,5):\n",
        "  print(i)"
      ],
      "metadata": {
        "colab": {
          "base_uri": "https://localhost:8080/"
        },
        "id": "elC-8KrJyTEO",
        "outputId": "9aaad037-d22b-4c77-9de9-823fe8edf009"
      },
      "execution_count": 27,
      "outputs": [
        {
          "output_type": "stream",
          "name": "stdout",
          "text": [
            "1\n",
            "2\n",
            "3\n",
            "4\n",
            "5\n"
          ]
        }
      ]
    },
    {
      "cell_type": "code",
      "source": [
        "for i in {1,2,3,4,5}:\n",
        "  print(i)"
      ],
      "metadata": {
        "colab": {
          "base_uri": "https://localhost:8080/"
        },
        "id": "FJMmgozRyZqU",
        "outputId": "be3ade37-5e04-4123-a652-f14bec2bcae7"
      },
      "execution_count": 28,
      "outputs": [
        {
          "output_type": "stream",
          "name": "stdout",
          "text": [
            "1\n",
            "2\n",
            "3\n",
            "4\n",
            "5\n"
          ]
        }
      ]
    },
    {
      "cell_type": "markdown",
      "source": [
        "Nested loops"
      ],
      "metadata": {
        "id": "PLcLZGH-0a2H"
      }
    },
    {
      "cell_type": "code",
      "source": [
        "# Nested loops are not a very great solution, because time complexity of a two layer nested loop is n^2. For a three layered nested loops, time complexity will be n^3."
      ],
      "metadata": {
        "id": "TZj9yG6n0dRV"
      },
      "execution_count": null,
      "outputs": []
    },
    {
      "cell_type": "markdown",
      "source": [
        "Eg. if you want info about all the transactions from your bank, one loop iterate for all the customers, another loop will run for each transaction done by each customer."
      ],
      "metadata": {
        "id": "jumkpZ8B3CNK"
      }
    },
    {
      "cell_type": "code",
      "source": [
        "# Program to create pascal's triangle."
      ],
      "metadata": {
        "id": "pT77Rjlu3UjI"
      },
      "execution_count": 38,
      "outputs": []
    },
    {
      "cell_type": "code",
      "source": [
        "rows=int(input(\"Input the number of rows you need\"))\n",
        "for i in range(1,rows+1):\n",
        "  for j in range(0,i):\n",
        "    print(\"*\",end=\" \")\n",
        "  print(\" \")\n"
      ],
      "metadata": {
        "colab": {
          "base_uri": "https://localhost:8080/"
        },
        "id": "NRzz63723hNT",
        "outputId": "3c9e6468-fa25-49a7-863e-37d379488fa6"
      },
      "execution_count": 44,
      "outputs": [
        {
          "output_type": "stream",
          "name": "stdout",
          "text": [
            "Input the number of rows you need6\n",
            "*  \n",
            "* *  \n",
            "* * *  \n",
            "* * * *  \n",
            "* * * * *  \n",
            "* * * * * *  \n"
          ]
        }
      ]
    },
    {
      "cell_type": "markdown",
      "source": [
        "Break, Continue, Pass."
      ],
      "metadata": {
        "id": "z0x_1J4zIraq"
      }
    },
    {
      "cell_type": "code",
      "source": [
        "for i in range(1,11):\n",
        "  if i==5:\n",
        "    break\n",
        "  print(i)\n",
        "  "
      ],
      "metadata": {
        "colab": {
          "base_uri": "https://localhost:8080/"
        },
        "id": "rWHm7Erc36rC",
        "outputId": "159145be-9719-4e80-dab5-bf4896e4f368"
      },
      "execution_count": 47,
      "outputs": [
        {
          "output_type": "stream",
          "name": "stdout",
          "text": [
            "1\n",
            "2\n",
            "3\n",
            "4\n"
          ]
        }
      ]
    },
    {
      "cell_type": "code",
      "source": [
        "# Where can we use break? - Linear Searching. When you find your match, you can break out."
      ],
      "metadata": {
        "id": "ohPUzQtMI45A"
      },
      "execution_count": null,
      "outputs": []
    },
    {
      "cell_type": "code",
      "source": [
        "for i in range(1,11):\n",
        "  if i==5:\n",
        "    continue\n",
        "  print(i)\n"
      ],
      "metadata": {
        "colab": {
          "base_uri": "https://localhost:8080/"
        },
        "id": "-r5I1iTSQks4",
        "outputId": "32bc3997-b9fc-45d6-b6ed-8bcc00bacd40"
      },
      "execution_count": 49,
      "outputs": [
        {
          "output_type": "stream",
          "name": "stdout",
          "text": [
            "1\n",
            "2\n",
            "3\n",
            "4\n",
            "6\n",
            "7\n",
            "8\n",
            "9\n",
            "10\n"
          ]
        }
      ]
    },
    {
      "cell_type": "code",
      "source": [
        "# while creating app for showing in stock products, skip for the products which are not there in stock. For those stocks, use continue statement."
      ],
      "metadata": {
        "id": "-GCNTNcOQxSK"
      },
      "execution_count": 50,
      "outputs": []
    },
    {
      "cell_type": "code",
      "source": [
        "for i in range(1,11):\n",
        "  pass"
      ],
      "metadata": {
        "id": "K0fhjFD5RAbX"
      },
      "execution_count": 51,
      "outputs": []
    },
    {
      "cell_type": "code",
      "source": [
        "# will write the code after sometime"
      ],
      "metadata": {
        "id": "DcDaV4F0RQ2m"
      },
      "execution_count": 52,
      "outputs": []
    },
    {
      "cell_type": "markdown",
      "source": [
        "# Built-in functions"
      ],
      "metadata": {
        "id": "xGslmNZgRaHJ"
      }
    },
    {
      "cell_type": "code",
      "source": [
        "# print\n",
        "print(\"hello\")"
      ],
      "metadata": {
        "colab": {
          "base_uri": "https://localhost:8080/"
        },
        "id": "i0kfaCL-RPZ6",
        "outputId": "27224869-13ff-4790-9b2f-eb61a998e6d3"
      },
      "execution_count": 53,
      "outputs": [
        {
          "output_type": "stream",
          "name": "stdout",
          "text": [
            "hello\n"
          ]
        }
      ]
    },
    {
      "cell_type": "code",
      "source": [
        "# input - here the inout is receive in a string format\n",
        "input(\"enter your name \")"
      ],
      "metadata": {
        "colab": {
          "base_uri": "https://localhost:8080/",
          "height": 53
        },
        "id": "CttWS9U7Rgn-",
        "outputId": "7875d945-a595-4bf9-e577-e258f9a18cf7"
      },
      "execution_count": 55,
      "outputs": [
        {
          "name": "stdout",
          "output_type": "stream",
          "text": [
            "enter your name omk\n"
          ]
        },
        {
          "output_type": "execute_result",
          "data": {
            "text/plain": [
              "'omk'"
            ],
            "application/vnd.google.colaboratory.intrinsic+json": {
              "type": "string"
            }
          },
          "metadata": {},
          "execution_count": 55
        }
      ]
    },
    {
      "cell_type": "code",
      "source": [
        "# type\n",
        "a=3\n",
        "type(a)"
      ],
      "metadata": {
        "colab": {
          "base_uri": "https://localhost:8080/"
        },
        "id": "Z3MSz47TRjnv",
        "outputId": "7350bf45-227c-4a68-871e-ca498727e5a7"
      },
      "execution_count": 56,
      "outputs": [
        {
          "output_type": "execute_result",
          "data": {
            "text/plain": [
              "int"
            ]
          },
          "metadata": {},
          "execution_count": 56
        }
      ]
    },
    {
      "cell_type": "code",
      "source": [
        "# Type cinversion functions- 1.int 2.str 3.float 4.list 5.tuple\n",
        "int(5.6)"
      ],
      "metadata": {
        "colab": {
          "base_uri": "https://localhost:8080/"
        },
        "id": "TfoeKO2vRxbL",
        "outputId": "a26f3995-eaf6-49cc-efe1-cf8292607b1c"
      },
      "execution_count": 58,
      "outputs": [
        {
          "output_type": "execute_result",
          "data": {
            "text/plain": [
              "5"
            ]
          },
          "metadata": {},
          "execution_count": 58
        }
      ]
    },
    {
      "cell_type": "code",
      "source": [
        "# absolute function\n",
        "abs(-4)"
      ],
      "metadata": {
        "colab": {
          "base_uri": "https://localhost:8080/"
        },
        "id": "IMIfS2IRR_S4",
        "outputId": "3ab75243-58db-4601-f87e-0cd05a1450aa"
      },
      "execution_count": 59,
      "outputs": [
        {
          "output_type": "execute_result",
          "data": {
            "text/plain": [
              "4"
            ]
          },
          "metadata": {},
          "execution_count": 59
        }
      ]
    },
    {
      "cell_type": "code",
      "source": [
        "# pow\n",
        "pow(2,3)"
      ],
      "metadata": {
        "colab": {
          "base_uri": "https://localhost:8080/"
        },
        "id": "xqIFnXN-SIuS",
        "outputId": "1e87c7e0-5ec1-477d-d806-37e331659442"
      },
      "execution_count": 60,
      "outputs": [
        {
          "output_type": "execute_result",
          "data": {
            "text/plain": [
              "8"
            ]
          },
          "metadata": {},
          "execution_count": 60
        }
      ]
    },
    {
      "cell_type": "code",
      "source": [
        "# min\n",
        "print(min([2,5,3,4]))\n",
        "# max\n",
        "print(max([3,5,6,7,8]))\n",
        "# min with strings\n",
        "print(min('omkar'))\n",
        "# max with strings\n",
        "print(max('omkar'))"
      ],
      "metadata": {
        "colab": {
          "base_uri": "https://localhost:8080/"
        },
        "id": "c-qR-mULSMPk",
        "outputId": "86b2948e-e6f3-49b8-b442-607ce4b627ae"
      },
      "execution_count": 64,
      "outputs": [
        {
          "output_type": "stream",
          "name": "stdout",
          "text": [
            "2\n",
            "8\n",
            "a\n",
            "r\n"
          ]
        }
      ]
    },
    {
      "cell_type": "code",
      "source": [
        "# round\n",
        "round(3.6)"
      ],
      "metadata": {
        "colab": {
          "base_uri": "https://localhost:8080/"
        },
        "id": "YQxuc7YpSRlR",
        "outputId": "5fcc4d7d-9a7d-4e97-beac-80324d80e1e9"
      },
      "execution_count": 65,
      "outputs": [
        {
          "output_type": "execute_result",
          "data": {
            "text/plain": [
              "4"
            ]
          },
          "metadata": {},
          "execution_count": 65
        }
      ]
    },
    {
      "cell_type": "code",
      "source": [
        "# divmod ( results of integer and modulus value in a tuple)\n",
        "divmod(5,2)"
      ],
      "metadata": {
        "colab": {
          "base_uri": "https://localhost:8080/"
        },
        "id": "J0DZ7B8fSrXe",
        "outputId": "ca4de8d8-f174-4bbd-fa25-20b07effc5ff"
      },
      "execution_count": 69,
      "outputs": [
        {
          "output_type": "execute_result",
          "data": {
            "text/plain": [
              "(2, 1)"
            ]
          },
          "metadata": {},
          "execution_count": 69
        }
      ]
    },
    {
      "cell_type": "code",
      "source": [
        "#bin/oct/hex\n",
        "bin(10)"
      ],
      "metadata": {
        "colab": {
          "base_uri": "https://localhost:8080/",
          "height": 36
        },
        "id": "rPOSMNN9Uu7J",
        "outputId": "9ea920e7-8dee-497b-8893-7f15132ccc59"
      },
      "execution_count": 71,
      "outputs": [
        {
          "output_type": "execute_result",
          "data": {
            "text/plain": [
              "'0b1010'"
            ],
            "application/vnd.google.colaboratory.intrinsic+json": {
              "type": "string"
            }
          },
          "metadata": {},
          "execution_count": 71
        }
      ]
    },
    {
      "cell_type": "code",
      "source": [
        "oct(10)"
      ],
      "metadata": {
        "colab": {
          "base_uri": "https://localhost:8080/",
          "height": 36
        },
        "id": "_oXqhdHkWcSI",
        "outputId": "4d617634-10b3-4235-c27b-fc25ee7875d0"
      },
      "execution_count": 72,
      "outputs": [
        {
          "output_type": "execute_result",
          "data": {
            "text/plain": [
              "'0o12'"
            ],
            "application/vnd.google.colaboratory.intrinsic+json": {
              "type": "string"
            }
          },
          "metadata": {},
          "execution_count": 72
        }
      ]
    },
    {
      "cell_type": "code",
      "source": [
        "hex(10)"
      ],
      "metadata": {
        "colab": {
          "base_uri": "https://localhost:8080/",
          "height": 36
        },
        "id": "GsEp3nEPWgRR",
        "outputId": "67138971-a48e-40a4-9876-3e8b2ad97a96"
      },
      "execution_count": 73,
      "outputs": [
        {
          "output_type": "execute_result",
          "data": {
            "text/plain": [
              "'0xa'"
            ],
            "application/vnd.google.colaboratory.intrinsic+json": {
              "type": "string"
            }
          },
          "metadata": {},
          "execution_count": 73
        }
      ]
    },
    {
      "cell_type": "code",
      "source": [
        "#id -address in the memory\n",
        "a=13\n",
        "id(a)"
      ],
      "metadata": {
        "colab": {
          "base_uri": "https://localhost:8080/"
        },
        "id": "hXNxco3RWg84",
        "outputId": "76711f69-8db7-43cd-dc79-b5a516350f01"
      },
      "execution_count": 74,
      "outputs": [
        {
          "output_type": "execute_result",
          "data": {
            "text/plain": [
              "11256448"
            ]
          },
          "metadata": {},
          "execution_count": 74
        }
      ]
    },
    {
      "cell_type": "code",
      "source": [
        "#ord - gives aski code for any character\n",
        "ord('D')"
      ],
      "metadata": {
        "colab": {
          "base_uri": "https://localhost:8080/"
        },
        "id": "BdqkNow2WoUy",
        "outputId": "81d8d509-0f06-4f74-fed9-dbcfab709dd1"
      },
      "execution_count": 76,
      "outputs": [
        {
          "output_type": "execute_result",
          "data": {
            "text/plain": [
              "68"
            ]
          },
          "metadata": {},
          "execution_count": 76
        }
      ]
    },
    {
      "cell_type": "code",
      "source": [
        "# len -gives length\n",
        "len(\"kolkata\")"
      ],
      "metadata": {
        "colab": {
          "base_uri": "https://localhost:8080/"
        },
        "id": "znxnH5lyW0bK",
        "outputId": "84dd1803-29de-4269-be3c-cf8302c619fb"
      },
      "execution_count": 77,
      "outputs": [
        {
          "output_type": "execute_result",
          "data": {
            "text/plain": [
              "7"
            ]
          },
          "metadata": {},
          "execution_count": 77
        }
      ]
    },
    {
      "cell_type": "code",
      "source": [
        "#sum \n",
        "print(sum([1,5,6,7,8]))\n",
        "print(sum((3,6,7,8,4)))\n",
        "print(sum({2,4,5,7,5,4,8}))"
      ],
      "metadata": {
        "colab": {
          "base_uri": "https://localhost:8080/"
        },
        "id": "_plzv7W2W6cK",
        "outputId": "da560b1f-b91e-45b8-f9e7-7e978fdb6942"
      },
      "execution_count": 79,
      "outputs": [
        {
          "output_type": "stream",
          "name": "stdout",
          "text": [
            "27\n",
            "28\n",
            "26\n"
          ]
        }
      ]
    },
    {
      "cell_type": "code",
      "source": [
        "# help - gives info about a function\n",
        "help(print())"
      ],
      "metadata": {
        "colab": {
          "base_uri": "https://localhost:8080/"
        },
        "id": "rWDiPXDAXGDK",
        "outputId": "5931c426-6227-412f-f9ca-c7fed3845ca5"
      },
      "execution_count": 80,
      "outputs": [
        {
          "output_type": "stream",
          "name": "stdout",
          "text": [
            "\n",
            "Help on NoneType object:\n",
            "\n",
            "class NoneType(object)\n",
            " |  Methods defined here:\n",
            " |  \n",
            " |  __bool__(self, /)\n",
            " |      self != 0\n",
            " |  \n",
            " |  __repr__(self, /)\n",
            " |      Return repr(self).\n",
            " |  \n",
            " |  ----------------------------------------------------------------------\n",
            " |  Static methods defined here:\n",
            " |  \n",
            " |  __new__(*args, **kwargs) from builtins.type\n",
            " |      Create and return a new object.  See help(type) for accurate signature.\n",
            "\n"
          ]
        }
      ]
    },
    {
      "cell_type": "markdown",
      "source": [
        "# Built in Modules"
      ],
      "metadata": {
        "id": "7waXYvy6XbFz"
      }
    },
    {
      "cell_type": "code",
      "source": [
        "# What are modules?  Module is a file containing a set of functions you want to include in your applications.\n",
        "# Examples of python modules which can be used in our code.\n",
        "#1.Math - module that has all the mathematical fucntions pre defined\n",
        "#2.Random\n",
        "#3.os\n",
        "#4.time"
      ],
      "metadata": {
        "id": "0VuUceSvXUbw"
      },
      "execution_count": null,
      "outputs": []
    },
    {
      "cell_type": "code",
      "source": [
        "help('modules')"
      ],
      "metadata": {
        "id": "5t17YwOIdPVO"
      },
      "execution_count": null,
      "outputs": []
    },
    {
      "cell_type": "code",
      "source": [
        "import math\n",
        "math.pi"
      ],
      "metadata": {
        "colab": {
          "base_uri": "https://localhost:8080/"
        },
        "id": "vPbMfC7hdQTn",
        "outputId": "0668ab8d-387e-497d-9400-e8a3e4e6779f"
      },
      "execution_count": 87,
      "outputs": [
        {
          "output_type": "execute_result",
          "data": {
            "text/plain": [
              "3.141592653589793"
            ]
          },
          "metadata": {},
          "execution_count": 87
        }
      ]
    },
    {
      "cell_type": "code",
      "source": [
        "math.ceil(7.1)"
      ],
      "metadata": {
        "colab": {
          "base_uri": "https://localhost:8080/"
        },
        "id": "YmdKWFmnhSvh",
        "outputId": "08f20e36-7d9e-481a-8d92-154bfc1df25a"
      },
      "execution_count": 90,
      "outputs": [
        {
          "output_type": "execute_result",
          "data": {
            "text/plain": [
              "8"
            ]
          },
          "metadata": {},
          "execution_count": 90
        }
      ]
    },
    {
      "cell_type": "code",
      "source": [
        "math.floor(9.99)"
      ],
      "metadata": {
        "colab": {
          "base_uri": "https://localhost:8080/"
        },
        "id": "7yG8ohwjhZRL",
        "outputId": "c8601f5c-2c8b-4e03-9ed3-8ccab47e62e9"
      },
      "execution_count": 91,
      "outputs": [
        {
          "output_type": "execute_result",
          "data": {
            "text/plain": [
              "9"
            ]
          },
          "metadata": {},
          "execution_count": 91
        }
      ]
    },
    {
      "cell_type": "code",
      "source": [
        "import os"
      ],
      "metadata": {
        "id": "XY04w1j_de2D"
      },
      "execution_count": 84,
      "outputs": []
    },
    {
      "cell_type": "code",
      "source": [
        "os.getcwd()"
      ],
      "metadata": {
        "colab": {
          "base_uri": "https://localhost:8080/",
          "height": 36
        },
        "id": "znUzECCAjkV_",
        "outputId": "481ed9c2-2fa0-49f7-981f-aa47c9893a50"
      },
      "execution_count": 107,
      "outputs": [
        {
          "output_type": "execute_result",
          "data": {
            "text/plain": [
              "'/content'"
            ],
            "application/vnd.google.colaboratory.intrinsic+json": {
              "type": "string"
            }
          },
          "metadata": {},
          "execution_count": 107
        }
      ]
    },
    {
      "cell_type": "code",
      "source": [
        "os.listdir()"
      ],
      "metadata": {
        "colab": {
          "base_uri": "https://localhost:8080/"
        },
        "id": "CaS-2fNljpGV",
        "outputId": "89fdc5c2-6a01-4fbe-8c20-16698fb0408d"
      },
      "execution_count": 108,
      "outputs": [
        {
          "output_type": "execute_result",
          "data": {
            "text/plain": [
              "['.config', 'sample_data']"
            ]
          },
          "metadata": {},
          "execution_count": 108
        }
      ]
    },
    {
      "cell_type": "code",
      "source": [
        "import time"
      ],
      "metadata": {
        "id": "SOcoFh0YdgQ3"
      },
      "execution_count": 85,
      "outputs": []
    },
    {
      "cell_type": "code",
      "source": [
        "time.time()"
      ],
      "metadata": {
        "colab": {
          "base_uri": "https://localhost:8080/"
        },
        "id": "p5WJm0m-i2N6",
        "outputId": "561f1fda-651a-46a8-95a0-a31683b457ca"
      },
      "execution_count": 103,
      "outputs": [
        {
          "output_type": "execute_result",
          "data": {
            "text/plain": [
              "1655970688.5266883"
            ]
          },
          "metadata": {},
          "execution_count": 103
        }
      ]
    },
    {
      "cell_type": "code",
      "source": [
        "time.time()"
      ],
      "metadata": {
        "colab": {
          "base_uri": "https://localhost:8080/"
        },
        "id": "yXEySEE1i9Om",
        "outputId": "7e245f81-e43f-446f-a1c3-c1fc703c0412"
      },
      "execution_count": 105,
      "outputs": [
        {
          "output_type": "execute_result",
          "data": {
            "text/plain": [
              "1655970717.385511"
            ]
          },
          "metadata": {},
          "execution_count": 105
        }
      ]
    },
    {
      "cell_type": "code",
      "source": [
        "time.ctime()"
      ],
      "metadata": {
        "colab": {
          "base_uri": "https://localhost:8080/",
          "height": 36
        },
        "id": "Vay-hd9ai4D-",
        "outputId": "5627c0c9-c476-439b-964c-60ff729aac6f"
      },
      "execution_count": 104,
      "outputs": [
        {
          "output_type": "execute_result",
          "data": {
            "text/plain": [
              "'Thu Jun 23 07:51:37 2022'"
            ],
            "application/vnd.google.colaboratory.intrinsic+json": {
              "type": "string"
            }
          },
          "metadata": {},
          "execution_count": 104
        }
      ]
    },
    {
      "cell_type": "code",
      "source": [
        "print('hello')\n",
        "time.sleep(10)\n",
        "print(\"omkar this side\")"
      ],
      "metadata": {
        "colab": {
          "base_uri": "https://localhost:8080/"
        },
        "id": "69QtvbbojC3a",
        "outputId": "06f28665-5e0d-47fd-8d1b-b9675f71d3e1"
      },
      "execution_count": 106,
      "outputs": [
        {
          "output_type": "stream",
          "name": "stdout",
          "text": [
            "hello\n",
            "omkar this side\n"
          ]
        }
      ]
    },
    {
      "cell_type": "code",
      "source": [
        "import random\n",
        "print(random.randint(1,1000))\n",
        "a=[11,22,56,78,54]\n",
        "print(a)\n",
        "random.shuffle(a)\n",
        "print(a)\n",
        "# randomshuffle is making permanenet changes to the list"
      ],
      "metadata": {
        "colab": {
          "base_uri": "https://localhost:8080/"
        },
        "id": "2r3pD5gFdjFp",
        "outputId": "56722d0b-abc7-4a82-d955-468386f320e3"
      },
      "execution_count": 101,
      "outputs": [
        {
          "output_type": "stream",
          "name": "stdout",
          "text": [
            "991\n",
            "[11, 22, 56, 78, 54]\n",
            "[22, 56, 11, 54, 78]\n"
          ]
        }
      ]
    },
    {
      "cell_type": "code",
      "source": [
        "import numpy"
      ],
      "metadata": {
        "id": "uwZaV-tIdk7b"
      },
      "execution_count": 102,
      "outputs": []
    },
    {
      "cell_type": "markdown",
      "source": [
        "# String"
      ],
      "metadata": {
        "id": "tV1mOvdkj7lk"
      }
    },
    {
      "cell_type": "code",
      "source": [
        "# creating strings\n",
        "# Accessing strings\n",
        "# Addind characters to string\n",
        "# Editing strings\n",
        "# Deleting strings\n",
        "# Operations on strings\n",
        "# String functions"
      ],
      "metadata": {
        "id": "WgikCaLhhLbL"
      },
      "execution_count": 1,
      "outputs": []
    },
    {
      "cell_type": "code",
      "source": [
        "# Ceating strings\n",
        "string1='OMkar'\n",
        "string2=\"OMkar\"\n",
        "string3=\"\"\" Multilne string \"\"\"\n",
        "string4=str(\"omkar katare\")"
      ],
      "metadata": {
        "id": "zEQ69bs5yF2a"
      },
      "execution_count": 4,
      "outputs": []
    },
    {
      "cell_type": "code",
      "source": [
        "# Accesing substrings from a string\n",
        "# indexing\n",
        "# positive indexing\n",
        "# negative indexing\n",
        "c='hello This is OMmkar'\n",
        "print(c[0])\n",
        "print(c[1:4])\n",
        "print(c[-4:-2])\n",
        "print(c[0:-1:2])\n",
        "print(c[::-1])"
      ],
      "metadata": {
        "colab": {
          "base_uri": "https://localhost:8080/"
        },
        "id": "LzDW5T-syM9d",
        "outputId": "a658a9c6-ac32-4e51-fd6b-bc7d8a299c89"
      },
      "execution_count": 12,
      "outputs": [
        {
          "output_type": "stream",
          "name": "stdout",
          "text": [
            "h\n",
            "ell\n",
            "mk\n",
            "hloTi sOma\n",
            "rakmMO si sihT olleh\n"
          ]
        }
      ]
    },
    {
      "cell_type": "code",
      "source": [
        "  # Editing and deleting strings"
      ],
      "metadata": {
        "id": "vDu21mDCytRX"
      },
      "execution_count": 13,
      "outputs": []
    },
    {
      "cell_type": "code",
      "source": [
        "c='Hello'\n",
        "c[0]=\"a\""
      ],
      "metadata": {
        "colab": {
          "base_uri": "https://localhost:8080/",
          "height": 182
        },
        "id": "0MlGstA7A4y2",
        "outputId": "e723aecc-2181-4079-dc63-bb2a0750c821"
      },
      "execution_count": 15,
      "outputs": [
        {
          "output_type": "error",
          "ename": "TypeError",
          "evalue": "ignored",
          "traceback": [
            "\u001b[0;31m---------------------------------------------------------------------------\u001b[0m",
            "\u001b[0;31mTypeError\u001b[0m                                 Traceback (most recent call last)",
            "\u001b[0;32m<ipython-input-15-49791de39387>\u001b[0m in \u001b[0;36m<module>\u001b[0;34m()\u001b[0m\n\u001b[1;32m      1\u001b[0m \u001b[0mc\u001b[0m\u001b[0;34m=\u001b[0m\u001b[0;34m'Hello'\u001b[0m\u001b[0;34m\u001b[0m\u001b[0;34m\u001b[0m\u001b[0m\n\u001b[0;32m----> 2\u001b[0;31m \u001b[0mc\u001b[0m\u001b[0;34m[\u001b[0m\u001b[0;36m0\u001b[0m\u001b[0;34m]\u001b[0m\u001b[0;34m=\u001b[0m\u001b[0;34m\"a\"\u001b[0m\u001b[0;34m\u001b[0m\u001b[0;34m\u001b[0m\u001b[0m\n\u001b[0m",
            "\u001b[0;31mTypeError\u001b[0m: 'str' object does not support item assignment"
          ]
        }
      ]
    },
    {
      "cell_type": "code",
      "source": [
        "# strings are immutable"
      ],
      "metadata": {
        "id": "OZqfkjtFA8O5"
      },
      "execution_count": 16,
      "outputs": []
    },
    {
      "cell_type": "code",
      "source": [
        "# "
      ],
      "metadata": {
        "id": "E7qRzEtXLkGD"
      },
      "execution_count": null,
      "outputs": []
    }
  ]
}