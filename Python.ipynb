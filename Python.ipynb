{
  "nbformat": 4,
  "nbformat_minor": 0,
  "metadata": {
    "colab": {
      "name": "Python.ipynb",
      "provenance": [],
      "authorship_tag": "ABX9TyONGbciHHqibkejksbxYam0",
      "include_colab_link": true
    },
    "kernelspec": {
      "name": "python3",
      "display_name": "Python 3"
    },
    "language_info": {
      "name": "python"
    }
  },
  "cells": [
    {
      "cell_type": "markdown",
      "metadata": {
        "id": "view-in-github",
        "colab_type": "text"
      },
      "source": [
        "<a href=\"https://colab.research.google.com/github/omkar123katare/Python/blob/main/Python.ipynb\" target=\"_parent\"><img src=\"https://colab.research.google.com/assets/colab-badge.svg\" alt=\"Open In Colab\"/></a>"
      ]
    },
    {
      "cell_type": "markdown",
      "source": [
        "# Print"
      ],
      "metadata": {
        "id": "DsQ-cIjNa-x_"
      }
    },
    {
      "cell_type": "code",
      "execution_count": null,
      "metadata": {
        "colab": {
          "base_uri": "https://localhost:8080/"
        },
        "id": "Kyjs2TeDVYGf",
        "outputId": "e2457430-1e5a-43b0-d7c8-e2d561414294"
      },
      "outputs": [
        {
          "output_type": "stream",
          "name": "stdout",
          "text": [
            "india pakistan nepal shrilanka\n"
          ]
        }
      ],
      "source": [
        "print(\"india\",\"pakistan\",'nepal',\"shrilanka\")"
      ]
    },
    {
      "cell_type": "code",
      "source": [
        "print('india',5,True)"
      ],
      "metadata": {
        "colab": {
          "base_uri": "https://localhost:8080/"
        },
        "id": "DqZA6Ec0Vl4d",
        "outputId": "624b3fa3-67dd-452e-d727-ed1afa6d2419"
      },
      "execution_count": null,
      "outputs": [
        {
          "output_type": "stream",
          "name": "stdout",
          "text": [
            "india 5 True\n"
          ]
        }
      ]
    },
    {
      "cell_type": "markdown",
      "source": [
        "sep parameter in the print fucntion"
      ],
      "metadata": {
        "id": "zatFMn4uZ3Cc"
      }
    },
    {
      "cell_type": "code",
      "source": [
        "print(\"india\",\"pakistan\",'nepal',\"china\",sep='*')"
      ],
      "metadata": {
        "colab": {
          "base_uri": "https://localhost:8080/"
        },
        "id": "Ojv10TMbVuZc",
        "outputId": "a9bd048f-03f3-4cab-df85-0dacf646e03c"
      },
      "execution_count": null,
      "outputs": [
        {
          "output_type": "stream",
          "name": "stdout",
          "text": [
            "india*pakistan*nepal*china\n"
          ]
        }
      ]
    },
    {
      "cell_type": "markdown",
      "source": [
        "end parameter in the print function.\n",
        "This function has default value : end='/n'"
      ],
      "metadata": {
        "id": "saQ968jcaL9l"
      }
    },
    {
      "cell_type": "code",
      "source": [
        "print('Hello')\n",
        "print('Omkar')"
      ],
      "metadata": {
        "colab": {
          "base_uri": "https://localhost:8080/"
        },
        "id": "B7jzJOwUZ1h3",
        "outputId": "14ff0201-c117-4137-9811-22ec8d21e871"
      },
      "execution_count": null,
      "outputs": [
        {
          "output_type": "stream",
          "name": "stdout",
          "text": [
            "Hello\n",
            "Omkar\n"
          ]
        }
      ]
    },
    {
      "cell_type": "markdown",
      "source": [
        "instead off deafault value end='/n', we will put end=' '"
      ],
      "metadata": {
        "id": "saOIYoGdae4x"
      }
    },
    {
      "cell_type": "code",
      "source": [
        "print('hello',end=' ')\n",
        "print('omkar')"
      ],
      "metadata": {
        "colab": {
          "base_uri": "https://localhost:8080/"
        },
        "id": "t6OV4szCaKf_",
        "outputId": "51f964e4-9c79-4c69-cbce-37e9fce32174"
      },
      "execution_count": null,
      "outputs": [
        {
          "output_type": "stream",
          "name": "stdout",
          "text": [
            "hello omkar\n"
          ]
        }
      ]
    },
    {
      "cell_type": "markdown",
      "source": [
        "# Data types"
      ],
      "metadata": {
        "id": "9BPVP0RkbBpD"
      }
    },
    {
      "cell_type": "markdown",
      "source": [
        "1. Basic- integer, float, complex, boolean, string\n",
        "2. Container- list, tuple, set, dictionary\n",
        "3. User defined- class\n",
        "\n",
        "\n"
      ],
      "metadata": {
        "id": "8dlKSc40bG_y"
      }
    },
    {
      "cell_type": "markdown",
      "source": [
        "In containers, Elements of multiple data types can be stored in a single data type"
      ],
      "metadata": {
        "id": "3QbYNSgMbjw8"
      }
    },
    {
      "cell_type": "code",
      "source": [
        "print(1e308)"
      ],
      "metadata": {
        "colab": {
          "base_uri": "https://localhost:8080/"
        },
        "id": "vnDYCBMladHC",
        "outputId": "717acb67-bd3c-4277-fd5f-c9c02bffcd50"
      },
      "execution_count": null,
      "outputs": [
        {
          "output_type": "stream",
          "name": "stdout",
          "text": [
            "1e+308\n"
          ]
        }
      ]
    },
    {
      "cell_type": "code",
      "source": [
        "print(1e309)"
      ],
      "metadata": {
        "colab": {
          "base_uri": "https://localhost:8080/"
        },
        "id": "ppxZyYsveNPL",
        "outputId": "412d5269-ee30-4d64-c014-eefc85e1e39c"
      },
      "execution_count": null,
      "outputs": [
        {
          "output_type": "stream",
          "name": "stdout",
          "text": [
            "inf\n"
          ]
        }
      ]
    },
    {
      "cell_type": "code",
      "source": [
        "print(3.5)"
      ],
      "metadata": {
        "colab": {
          "base_uri": "https://localhost:8080/"
        },
        "id": "VRsO8ZUoeO-b",
        "outputId": "592417f0-50d2-4aed-d81f-9e1175652c31"
      },
      "execution_count": null,
      "outputs": [
        {
          "output_type": "stream",
          "name": "stdout",
          "text": [
            "3.5\n"
          ]
        }
      ]
    },
    {
      "cell_type": "markdown",
      "source": [
        "# Comments"
      ],
      "metadata": {
        "id": "dhCuzObDe2S5"
      }
    },
    {
      "cell_type": "code",
      "source": [
        "# This a comment, compiler won't execute this comment\n"
      ],
      "metadata": {
        "id": "7dBXlQF9e4o1"
      },
      "execution_count": null,
      "outputs": []
    },
    {
      "cell_type": "markdown",
      "source": [
        "# Variables"
      ],
      "metadata": {
        "id": "-BLqkd3Qh4fB"
      }
    },
    {
      "cell_type": "code",
      "source": [
        "# Dynamic Typing - No need of specifying data type of new variable. ( In Python and PHP )\n",
        "# Static Typing - we need to specify the type of a variable.( In c )\n"
      ],
      "metadata": {
        "id": "q0eh7o1ce9qD"
      },
      "execution_count": null,
      "outputs": []
    },
    {
      "cell_type": "code",
      "source": [
        "# Dynamic Binding - \n",
        "name= 'Omkar'\n",
        "print(name)\n",
        "name=9\n",
        "print(name)\n",
        "name=True\n",
        "print(name)\n",
        "# Data type is not bound to any variable. We can change the type of variable stored in the variable without any issue."
      ],
      "metadata": {
        "colab": {
          "base_uri": "https://localhost:8080/"
        },
        "id": "v7kS9i-6h-Tz",
        "outputId": "4fd3c4fb-75dd-47a7-f52d-5e62a72354bb"
      },
      "execution_count": null,
      "outputs": [
        {
          "output_type": "stream",
          "name": "stdout",
          "text": [
            "Omkar\n",
            "9\n",
            "True\n"
          ]
        }
      ]
    },
    {
      "cell_type": "code",
      "source": [
        "# static binding - if a varible is declared as interger, we cannot store any value of other data type in the same variable."
      ],
      "metadata": {
        "id": "HO9eN2-mmoVS"
      },
      "execution_count": null,
      "outputs": []
    },
    {
      "cell_type": "code",
      "source": [
        "a=5;b=90;c=5\n",
        "print(a)\n",
        "print(b)\n",
        "print(c)"
      ],
      "metadata": {
        "colab": {
          "base_uri": "https://localhost:8080/"
        },
        "id": "o2p0upuLnzAE",
        "outputId": "7c1a2cbe-1ab7-4354-a4b6-cf105ae59ef4"
      },
      "execution_count": null,
      "outputs": [
        {
          "output_type": "stream",
          "name": "stdout",
          "text": [
            "5\n",
            "90\n",
            "5\n"
          ]
        }
      ]
    },
    {
      "cell_type": "code",
      "source": [
        "a,b,c=5,90,7\n",
        "print(a)\n",
        "print(b)\n",
        "print(c)"
      ],
      "metadata": {
        "colab": {
          "base_uri": "https://localhost:8080/"
        },
        "id": "PKhtcc40n6Cx",
        "outputId": "4e9caf90-b7d6-4416-97b7-2f7fc10cd456"
      },
      "execution_count": null,
      "outputs": [
        {
          "output_type": "stream",
          "name": "stdout",
          "text": [
            "5\n",
            "90\n",
            "7\n"
          ]
        }
      ]
    },
    {
      "cell_type": "code",
      "source": [
        "a=b=c=87\n",
        "print(a)\n",
        "print(b)\n",
        "print(c)"
      ],
      "metadata": {
        "colab": {
          "base_uri": "https://localhost:8080/"
        },
        "id": "Q_VMJlCCn_-b",
        "outputId": "bd23f773-a2ab-4c71-f6de-a28869785854"
      },
      "execution_count": null,
      "outputs": [
        {
          "output_type": "stream",
          "name": "stdout",
          "text": [
            "87\n",
            "87\n",
            "87\n"
          ]
        }
      ]
    },
    {
      "cell_type": "markdown",
      "source": [
        "# Keywords in Python"
      ],
      "metadata": {
        "id": "ljJZzCyFoqc_"
      }
    },
    {
      "cell_type": "code",
      "source": [
        "import keyword\n",
        "keyword.kwlist"
      ],
      "metadata": {
        "colab": {
          "base_uri": "https://localhost:8080/"
        },
        "id": "jXNGG5Y7oKGF",
        "outputId": "42ba0a38-0450-412b-976e-4ab30d289e6f"
      },
      "execution_count": null,
      "outputs": [
        {
          "output_type": "execute_result",
          "data": {
            "text/plain": [
              "['False',\n",
              " 'None',\n",
              " 'True',\n",
              " 'and',\n",
              " 'as',\n",
              " 'assert',\n",
              " 'async',\n",
              " 'await',\n",
              " 'break',\n",
              " 'class',\n",
              " 'continue',\n",
              " 'def',\n",
              " 'del',\n",
              " 'elif',\n",
              " 'else',\n",
              " 'except',\n",
              " 'finally',\n",
              " 'for',\n",
              " 'from',\n",
              " 'global',\n",
              " 'if',\n",
              " 'import',\n",
              " 'in',\n",
              " 'is',\n",
              " 'lambda',\n",
              " 'nonlocal',\n",
              " 'not',\n",
              " 'or',\n",
              " 'pass',\n",
              " 'raise',\n",
              " 'return',\n",
              " 'try',\n",
              " 'while',\n",
              " 'with',\n",
              " 'yield']"
            ]
          },
          "metadata": {},
          "execution_count": 16
        }
      ]
    },
    {
      "cell_type": "code",
      "source": [
        "len(keyword.kwlist)"
      ],
      "metadata": {
        "colab": {
          "base_uri": "https://localhost:8080/"
        },
        "id": "ArUUkH1u_61x",
        "outputId": "e58f9279-a7aa-4063-80c7-e84c7d6ac344"
      },
      "execution_count": null,
      "outputs": [
        {
          "output_type": "execute_result",
          "data": {
            "text/plain": [
              "35"
            ]
          },
          "metadata": {},
          "execution_count": 17
        }
      ]
    },
    {
      "cell_type": "code",
      "source": [
        "# Dont use these names for your variables. Because compiler gest confused between these and these reserved keyworkds. If done error will occur."
      ],
      "metadata": {
        "id": "0p5m5PIKojXr"
      },
      "execution_count": null,
      "outputs": []
    },
    {
      "cell_type": "markdown",
      "source": [
        "# Identifiers"
      ],
      "metadata": {
        "id": "XpAVY9z2Cfmq"
      }
    },
    {
      "cell_type": "code",
      "source": [
        "# An identifier is a name used to identify a variable, function, class, module, other object.\n",
        "''' Rules for naming identifiers - \n",
        "1. Can only start with an alphabet or _ only\n",
        "2. Can end with digit,_,alphabet. Special characters are not allowed.\n",
        "3. Variable names canot be from Keywords \n",
        "'''"
      ],
      "metadata": {
        "colab": {
          "base_uri": "https://localhost:8080/"
        },
        "id": "9axszZlW_oTl",
        "outputId": "fd8dcb38-c13f-4a27-d0c5-4fa6cbabe218"
      },
      "execution_count": null,
      "outputs": [
        {
          "output_type": "execute_result",
          "data": {
            "text/plain": [
              "' Rules for naming identifiers - \\n1. Can only start with an alphabet or _ only\\n2. Can end with digit,_,alphabet. Special characters are not allowed.\\n3. Variable names canot be from Keywords \\n'"
            ],
            "application/vnd.google.colaboratory.intrinsic+json": {
              "type": "string"
            }
          },
          "metadata": {},
          "execution_count": 19
        }
      ]
    },
    {
      "cell_type": "markdown",
      "source": [
        "# Taking user input"
      ],
      "metadata": {
        "id": "GluXynI3EPRi"
      }
    },
    {
      "cell_type": "code",
      "source": [
        "input(\"What is Your Name?\")"
      ],
      "metadata": {
        "colab": {
          "base_uri": "https://localhost:8080/",
          "height": 53
        },
        "id": "BCLXjlHRDa_g",
        "outputId": "7c346fc2-f05a-4117-d8e8-443300b4b7e2"
      },
      "execution_count": null,
      "outputs": [
        {
          "name": "stdout",
          "output_type": "stream",
          "text": [
            "What is Your Name?Omkar Dattatraya Katare\n"
          ]
        },
        {
          "output_type": "execute_result",
          "data": {
            "text/plain": [
              "'Omkar Dattatraya Katare'"
            ],
            "application/vnd.google.colaboratory.intrinsic+json": {
              "type": "string"
            }
          },
          "metadata": {},
          "execution_count": 20
        }
      ]
    },
    {
      "cell_type": "code",
      "source": [
        "num1=input(\"Enter first number \")\n",
        "print(type(num1))\n",
        "num2=input(\"Enter the second number \")\n",
        "print(type(num2))\n",
        "print(f\"product of these numbers is= {int(num1)*int(num2)}\")\n",
        "# Whenever user inputs anything, computer gets it in a string format. We need to change it everytime so as to avoid error."
      ],
      "metadata": {
        "colab": {
          "base_uri": "https://localhost:8080/"
        },
        "id": "7TJAQZJDHPvP",
        "outputId": "1faf4b50-d742-4216-bb48-18b4945d249f"
      },
      "execution_count": null,
      "outputs": [
        {
          "output_type": "stream",
          "name": "stdout",
          "text": [
            "Enter first number 43\n",
            "<class 'str'>\n",
            "Enter the second number 56\n",
            "<class 'str'>\n",
            "product of these numbers is= 2408\n"
          ]
        }
      ]
    },
    {
      "cell_type": "markdown",
      "source": [
        "# Type conversion"
      ],
      "metadata": {
        "id": "viJ-PD-lKR3f"
      }
    },
    {
      "cell_type": "markdown",
      "source": [
        "One data type can be converted into other data type. (if it is compatible)"
      ],
      "metadata": {
        "id": "0DpmDs_vgUnJ"
      }
    },
    {
      "cell_type": "markdown",
      "source": [
        "int()\n",
        "str()\n",
        "float()\n",
        "bool()\n",
        "complex()\n",
        "list()\n",
        "dict()"
      ],
      "metadata": {
        "id": "ZVQo03NEg00n"
      }
    },
    {
      "cell_type": "code",
      "source": [
        "x=str(5)\n",
        "print(x)\n",
        "print(type(x))\n",
        "y=int(x)\n",
        "print(y)\n",
        "print(type(y))\n",
        "z=bool(x)\n",
        "print(z)\n",
        "print(type(z))\n",
        "print(bool(0))\n",
        "print(bool([]))"
      ],
      "metadata": {
        "colab": {
          "base_uri": "https://localhost:8080/"
        },
        "id": "qgCS7YqAIgl-",
        "outputId": "ee001a8c-568b-4a6c-a613-23e2794c2f5b"
      },
      "execution_count": null,
      "outputs": [
        {
          "output_type": "stream",
          "name": "stdout",
          "text": [
            "5\n",
            "<class 'str'>\n",
            "5\n",
            "<class 'int'>\n",
            "True\n",
            "<class 'bool'>\n",
            "False\n",
            "False\n"
          ]
        }
      ]
    },
    {
      "cell_type": "code",
      "source": [
        "import numpy as np"
      ],
      "metadata": {
        "id": "lDAe0yAFm-7Y"
      },
      "execution_count": null,
      "outputs": []
    },
    {
      "cell_type": "code",
      "source": [
        "name='omkar_katare'\n",
        "print(name)\n",
        "print(list(name))\n",
        "print(set(name))\n"
      ],
      "metadata": {
        "colab": {
          "base_uri": "https://localhost:8080/"
        },
        "id": "Z8lTJflNhFUD",
        "outputId": "bb8cbd58-4287-441c-91b6-49e09a0f944d"
      },
      "execution_count": null,
      "outputs": [
        {
          "output_type": "stream",
          "name": "stdout",
          "text": [
            "omkar_katare\n",
            "['o', 'm', 'k', 'a', 'r', '_', 'k', 'a', 't', 'a', 'r', 'e']\n",
            "{'e', 'o', 'k', 't', 'a', '_', 'm', 'r'}\n"
          ]
        }
      ]
    },
    {
      "cell_type": "markdown",
      "source": [
        "# Literals"
      ],
      "metadata": {
        "id": "Q7STo3JGp6X8"
      }
    },
    {
      "cell_type": "code",
      "source": [
        "# Numeric Literals\n",
        "a=0b1010 # Binary Literal\n",
        "b=100 # Decimal Literal\n",
        "c=0o310 # Octal Literal\n",
        "d=0x12c # Hexagonal Literal\n",
        "\n",
        "print(a,b,c,d)"
      ],
      "metadata": {
        "colab": {
          "base_uri": "https://localhost:8080/"
        },
        "id": "qxALsQTgmzVi",
        "outputId": "95c85ac5-324a-458e-e613-6fc57a3443ac"
      },
      "execution_count": null,
      "outputs": [
        {
          "output_type": "stream",
          "name": "stdout",
          "text": [
            "10 100 200 300\n"
          ]
        }
      ]
    },
    {
      "cell_type": "code",
      "source": [
        "# Float Literals\n",
        "float1=1.5\n",
        "float2=1.5e2\n",
        "float3=1.5e-2\n",
        "\n",
        "print(float1,float2,float3)"
      ],
      "metadata": {
        "colab": {
          "base_uri": "https://localhost:8080/"
        },
        "id": "Lud2lqQEqDjC",
        "outputId": "7bad3339-d8e7-485e-84ae-f325512b282a"
      },
      "execution_count": null,
      "outputs": [
        {
          "output_type": "stream",
          "name": "stdout",
          "text": [
            "1.5 150.0 0.015\n"
          ]
        }
      ]
    },
    {
      "cell_type": "code",
      "source": [
        "# Complex Literal\n",
        "p=3.14j + 67\n",
        "print(p)\n",
        "print(p.imag)\n",
        "print(p.real)"
      ],
      "metadata": {
        "colab": {
          "base_uri": "https://localhost:8080/"
        },
        "id": "h3dMFxhZq1tM",
        "outputId": "84b3a861-f470-4962-e0bd-a91893fd695a"
      },
      "execution_count": null,
      "outputs": [
        {
          "output_type": "stream",
          "name": "stdout",
          "text": [
            "(67+3.14j)\n",
            "3.14\n",
            "67.0\n"
          ]
        }
      ]
    },
    {
      "cell_type": "code",
      "source": [
        "# string Literals\n",
        "sentence1='This is Python'\n",
        "sentence2=\" This is also Python\"\n",
        "multiline_string=''' This could be a multiline string. Like a paragraph '''\n",
        "unicode= u'\\U0001F600'\n",
        "raw_string=r\"raw /n string\""
      ],
      "metadata": {
        "id": "ZSHGnT94rDTd"
      },
      "execution_count": null,
      "outputs": []
    },
    {
      "cell_type": "code",
      "source": [
        "print(sentence1,sentence2,multiline_string,raw_string,sep='------')"
      ],
      "metadata": {
        "colab": {
          "base_uri": "https://localhost:8080/"
        },
        "id": "rIgH7wi-3UB4",
        "outputId": "8dace477-e56e-45e2-b54a-82ddfa1e2219"
      },
      "execution_count": null,
      "outputs": [
        {
          "output_type": "stream",
          "name": "stdout",
          "text": [
            "This is Python------ This is also Python------ This could be a multiline string. Like a paragraph ------raw /n string\n"
          ]
        }
      ]
    },
    {
      "cell_type": "code",
      "source": [
        "# Boolean Literal\n",
        "a= True +4\n",
        "b= False+4\n",
        "print('a : ',a)\n",
        "print('b : ',b)"
      ],
      "metadata": {
        "colab": {
          "base_uri": "https://localhost:8080/"
        },
        "id": "RjLr-VoYuIc5",
        "outputId": "6b9eeaa0-b2f1-41f9-8a66-73ab29f55409"
      },
      "execution_count": null,
      "outputs": [
        {
          "output_type": "stream",
          "name": "stdout",
          "text": [
            "a :  5\n",
            "b :  4\n"
          ]
        }
      ]
    },
    {
      "cell_type": "code",
      "source": [
        "# special literal\n",
        "a=None\n",
        "print(a)\n",
        "# Then why did we define a ? We kind of declared variable a which we will use in later point of our progeam."
      ],
      "metadata": {
        "colab": {
          "base_uri": "https://localhost:8080/"
        },
        "id": "gOvF6aGsuKf0",
        "outputId": "9f5339bd-4cd1-4967-a5e0-7f55d15a8b87"
      },
      "execution_count": null,
      "outputs": [
        {
          "output_type": "stream",
          "name": "stdout",
          "text": [
            "None\n"
          ]
        }
      ]
    },
    {
      "cell_type": "markdown",
      "source": [
        "# Operators\n",
        "1.Arithmetic Operators\n",
        "\n",
        "2.Comaprison Operators\n",
        "\n",
        "3.Logical Operators\n",
        "\n",
        "4.Bitwise Operators\n",
        "\n",
        "5.Assignment Operators\n",
        "\n",
        "6.Identity Operators\n",
        "\n",
        "7.Membership Operators\n"
      ],
      "metadata": {
        "id": "lFJDzAvimuGE"
      }
    },
    {
      "cell_type": "code",
      "source": [
        "# Arithmetic Operators\n",
        "x=5\n",
        "y=2\n",
        "\n",
        "print(x+y)\n",
        "print(x-y)\n",
        "print(x*y)\n",
        "print(x/y)\n",
        "print(x%y)\n",
        "print(x**y)\n",
        "print(x//y)\n"
      ],
      "metadata": {
        "colab": {
          "base_uri": "https://localhost:8080/"
        },
        "id": "ytWE225944Cl",
        "outputId": "8fb32427-5298-4317-a5f4-60e63a3029d7"
      },
      "execution_count": null,
      "outputs": [
        {
          "output_type": "stream",
          "name": "stdout",
          "text": [
            "7\n",
            "3\n",
            "10\n",
            "2.5\n",
            "1\n",
            "25\n",
            "2\n"
          ]
        }
      ]
    },
    {
      "cell_type": "code",
      "source": [
        "# Comparison or relational Operators\n",
        "print(x>y)\n",
        "print(x<y)\n",
        "print(x>=y)\n",
        "print(x<=y)\n",
        "print(x==y)\n",
        "print(x!=y)"
      ],
      "metadata": {
        "colab": {
          "base_uri": "https://localhost:8080/"
        },
        "id": "6D8T1dHKm-h3",
        "outputId": "9bbb265d-ab1c-4c41-9533-635511c7fdb5"
      },
      "execution_count": null,
      "outputs": [
        {
          "output_type": "stream",
          "name": "stdout",
          "text": [
            "True\n",
            "False\n",
            "True\n",
            "False\n",
            "False\n",
            "True\n"
          ]
        }
      ]
    },
    {
      "cell_type": "code",
      "source": [
        "# Logical Operators\n",
        "x = True\n",
        "y= False\n",
        "\n",
        "print(x and y)\n",
        "print(x or y)\n",
        "print(not y)\n",
        "print(not x)"
      ],
      "metadata": {
        "colab": {
          "base_uri": "https://localhost:8080/"
        },
        "id": "GVEs38IBoMmt",
        "outputId": "2b2f587f-880c-4d42-ee7c-449249aa6640"
      },
      "execution_count": null,
      "outputs": [
        {
          "output_type": "stream",
          "name": "stdout",
          "text": [
            "False\n",
            "True\n",
            "True\n",
            "False\n"
          ]
        }
      ]
    },
    {
      "cell_type": "code",
      "source": [
        "# Bitwise opearators - used in image processing while applying filters, image is converted into binary form. \n",
        "x=2  # 0010\n",
        "y=3  # 0011\n",
        "    \n",
        "print(x & y)  # 0010\n",
        "print(x | y)  # 0011\n",
        "print(x >> 2) # 0000\n",
        "print(x << 2) # 1000\n",
        "print(~x) # 1101 "
      ],
      "metadata": {
        "colab": {
          "base_uri": "https://localhost:8080/"
        },
        "id": "1mFuYgmqomfs",
        "outputId": "f9afb947-0d6e-47c0-bc60-4732d37d1796"
      },
      "execution_count": null,
      "outputs": [
        {
          "output_type": "stream",
          "name": "stdout",
          "text": [
            "2\n",
            "3\n",
            "0\n",
            "8\n",
            "-3\n"
          ]
        }
      ]
    },
    {
      "cell_type": "code",
      "source": [
        "# Assignment operator\n",
        "\n",
        "a=5\n",
        "print(a)\n",
        "a+=4\n",
        "print(a)\n",
        "a-=2\n",
        "print(a)"
      ],
      "metadata": {
        "colab": {
          "base_uri": "https://localhost:8080/"
        },
        "id": "ci23bQCLo6Ps",
        "outputId": "65bfc4f8-eeae-476f-c984-2de741ebf64e"
      },
      "execution_count": null,
      "outputs": [
        {
          "output_type": "stream",
          "name": "stdout",
          "text": [
            "5\n",
            "9\n",
            "7\n"
          ]
        }
      ]
    },
    {
      "cell_type": "code",
      "source": [
        "# Identity operator - are the values stored in the same memory location or not?\n",
        "a=8\n",
        "b=8\n",
        "a is b"
      ],
      "metadata": {
        "colab": {
          "base_uri": "https://localhost:8080/"
        },
        "id": "OKcnddpLsS4q",
        "outputId": "11225094-8855-499d-e219-1d1f2cd467fa"
      },
      "execution_count": null,
      "outputs": [
        {
          "output_type": "execute_result",
          "data": {
            "text/plain": [
              "True"
            ]
          },
          "metadata": {},
          "execution_count": 37
        }
      ]
    },
    {
      "cell_type": "code",
      "source": [
        "a='hello'\n",
        "b='hello'\n",
        "a is b"
      ],
      "metadata": {
        "colab": {
          "base_uri": "https://localhost:8080/"
        },
        "id": "f7xuksqgtTPc",
        "outputId": "01d94202-ada7-462b-de29-f9c7fc8f37fe"
      },
      "execution_count": null,
      "outputs": [
        {
          "output_type": "execute_result",
          "data": {
            "text/plain": [
              "True"
            ]
          },
          "metadata": {},
          "execution_count": 38
        }
      ]
    },
    {
      "cell_type": "code",
      "source": [
        "a='hello-world'\n",
        "b='hello-world'\n",
        "a is b"
      ],
      "metadata": {
        "colab": {
          "base_uri": "https://localhost:8080/"
        },
        "id": "N2kpox63ybut",
        "outputId": "2e155a76-6ecc-4ef7-d0c8-6f5eb4916230"
      },
      "execution_count": null,
      "outputs": [
        {
          "output_type": "execute_result",
          "data": {
            "text/plain": [
              "False"
            ]
          },
          "metadata": {},
          "execution_count": 39
        }
      ]
    },
    {
      "cell_type": "code",
      "source": [
        "a is not b"
      ],
      "metadata": {
        "colab": {
          "base_uri": "https://localhost:8080/"
        },
        "id": "jVnqsMKNz-6A",
        "outputId": "803fca43-0c90-44b2-c66a-b28ffcbebd24"
      },
      "execution_count": null,
      "outputs": [
        {
          "output_type": "execute_result",
          "data": {
            "text/plain": [
              "True"
            ]
          },
          "metadata": {},
          "execution_count": 40
        }
      ]
    },
    {
      "cell_type": "code",
      "source": [
        "a=[10,20,30]\n",
        "b=[10,20,30]\n",
        "a is b"
      ],
      "metadata": {
        "colab": {
          "base_uri": "https://localhost:8080/"
        },
        "id": "emYP6I3LyjIs",
        "outputId": "2bf4092f-d22a-46b3-d479-9789b95cdb53"
      },
      "execution_count": null,
      "outputs": [
        {
          "output_type": "execute_result",
          "data": {
            "text/plain": [
              "False"
            ]
          },
          "metadata": {},
          "execution_count": 41
        }
      ]
    },
    {
      "cell_type": "code",
      "source": [
        "a=3\n",
        "b=3\n",
        "a is b"
      ],
      "metadata": {
        "colab": {
          "base_uri": "https://localhost:8080/"
        },
        "id": "Vu-cFtZbynRR",
        "outputId": "d8a4bc4a-2623-4cbe-d590-0690af2d6e76"
      },
      "execution_count": null,
      "outputs": [
        {
          "output_type": "execute_result",
          "data": {
            "text/plain": [
              "True"
            ]
          },
          "metadata": {},
          "execution_count": 42
        }
      ]
    },
    {
      "cell_type": "code",
      "source": [
        "# Membership oparators- In other languages we need to use a for loop. But, in python, we just use this member ship operator- 'in' and get solution.\n",
        "\"d\" in \"delhi\""
      ],
      "metadata": {
        "colab": {
          "base_uri": "https://localhost:8080/"
        },
        "id": "ZaEBXkmsypyZ",
        "outputId": "3a3310cd-cdbf-4dfe-c766-4e99b89b2c04"
      },
      "execution_count": null,
      "outputs": [
        {
          "output_type": "execute_result",
          "data": {
            "text/plain": [
              "True"
            ]
          },
          "metadata": {},
          "execution_count": 43
        }
      ]
    },
    {
      "cell_type": "code",
      "source": [
        "\"D\" not in \"delhi\""
      ],
      "metadata": {
        "colab": {
          "base_uri": "https://localhost:8080/"
        },
        "id": "VtJMiSB7y0Ai",
        "outputId": "6d65d4ee-842b-4924-f5c4-1d05473d71eb"
      },
      "execution_count": null,
      "outputs": [
        {
          "output_type": "execute_result",
          "data": {
            "text/plain": [
              "True"
            ]
          },
          "metadata": {},
          "execution_count": 44
        }
      ]
    },
    {
      "cell_type": "code",
      "source": [
        "list=[2,5,6,7,8]\n",
        "2 in list"
      ],
      "metadata": {
        "colab": {
          "base_uri": "https://localhost:8080/"
        },
        "id": "gFhUlAJiy4oS",
        "outputId": "d6450e10-a706-4be8-f677-c39a2dc9d181"
      },
      "execution_count": null,
      "outputs": [
        {
          "output_type": "execute_result",
          "data": {
            "text/plain": [
              "True"
            ]
          },
          "metadata": {},
          "execution_count": 45
        }
      ]
    },
    {
      "cell_type": "markdown",
      "source": [
        "# if else"
      ],
      "metadata": {
        "id": "Exlrc9Yi6luZ"
      }
    },
    {
      "cell_type": "code",
      "source": [
        "#correct email= omkarkatare123@gmal.com\n",
        "#correct password= dakvdkgdkvdkodk\n",
        "email=input(\"apna email bata \")\n",
        "if '@' in email:\n",
        "  \n",
        "  password=input(\"apna password bhi bata \")\n",
        "\n",
        "\n",
        "  if email==\"omkarkatare123@gmail.com\"  and password ==\"dakvdkgdkvdkodk\":\n",
        "    print(\"Sahi hai\")\n",
        "  elif email==\"omkarkatare123@gmail.com\"  and password !=\"dakvdkgdkvdkodk\":\n",
        "    print(\"Email sahi hai password sahi se bata \")\n",
        "    password=input(\"password sang \")\n",
        "    if password==\"dakvdkgdkvdkodk\":\n",
        "      print(\"finaaly correct\")\n",
        "    else:\n",
        "      print(\"phirse password galat\")\n",
        "  elif email!=\"omkarkatare123@gmail.com\"  and password ==\"dakvdkgdkvdkodk\":\n",
        "    email=input(\"email sang ata \")\n",
        "    print(\"email galat hai password thik hai\")\n",
        "    if email=='omkarkatare123@gmail.com':\n",
        "      print(\"finnaly correct\")\n",
        "    else:\n",
        "      print(\"phirse email galat\")\n",
        "\n",
        "else:\n",
        "  print(\"Email is wrong\")"
      ],
      "metadata": {
        "colab": {
          "base_uri": "https://localhost:8080/"
        },
        "id": "E6vp4W77y-EW",
        "outputId": "f5f8cc17-5d99-4869-e2ad-a22451665dee"
      },
      "execution_count": null,
      "outputs": [
        {
          "output_type": "stream",
          "name": "stdout",
          "text": [
            "apna email bata omkarkatare123@gmail.com\n",
            "apna password bhi bata dakvdkgdkvdkodk\n",
            "Sahi hai\n"
          ]
        }
      ]
    },
    {
      "cell_type": "markdown",
      "source": [
        "# Indentation"
      ],
      "metadata": {
        "id": "H54oI-wy4xjQ"
      }
    },
    {
      "cell_type": "code",
      "source": [
        "# In python we dont use ; and {} . Here we use indentation\n"
      ],
      "metadata": {
        "id": "vmSik9mB8UWt"
      },
      "execution_count": null,
      "outputs": []
    },
    {
      "cell_type": "markdown",
      "source": [
        "# Loop"
      ],
      "metadata": {
        "id": "1RoQhZTw7cJJ"
      }
    },
    {
      "cell_type": "code",
      "source": [
        "# loop use - containers for flipkart webpage.\n",
        "#you wont make 1000s of containers. You just make one and using loops we loop this one over 1000s of containers."
      ],
      "metadata": {
        "id": "tHjsqwQi7i_r"
      },
      "execution_count": null,
      "outputs": []
    },
    {
      "cell_type": "markdown",
      "source": [
        "While loop"
      ],
      "metadata": {
        "id": "hfeVnNxcjCwR"
      }
    },
    {
      "cell_type": "code",
      "source": [
        "number=int(input(\"Enter a number\"))\n",
        "i=1\n",
        "while i<11:\n",
        "  print(number*i)\n",
        "  i=i+1"
      ],
      "metadata": {
        "colab": {
          "base_uri": "https://localhost:8080/"
        },
        "id": "AnQ35f2ZjIHi",
        "outputId": "d8292e09-22b0-4b20-b20a-e1b6a94bbc2e"
      },
      "execution_count": null,
      "outputs": [
        {
          "output_type": "stream",
          "name": "stdout",
          "text": [
            "Enter a number3\n",
            "3\n",
            "6\n",
            "9\n",
            "12\n",
            "15\n",
            "18\n",
            "21\n",
            "24\n",
            "27\n",
            "30\n"
          ]
        }
      ]
    },
    {
      "cell_type": "markdown",
      "source": [
        "Guessing Game"
      ],
      "metadata": {
        "id": "MS1azwgukfT1"
      }
    },
    {
      "cell_type": "code",
      "source": [
        "import random"
      ],
      "metadata": {
        "id": "MYGfZuBDjcyk"
      },
      "execution_count": null,
      "outputs": []
    },
    {
      "cell_type": "code",
      "source": [
        "#indefinite loop - while loop. (we dont know in advance the number of time loop is to be executed)"
      ],
      "metadata": {
        "id": "cObPiPXNpDGG"
      },
      "execution_count": null,
      "outputs": []
    },
    {
      "cell_type": "code",
      "source": [
        "jackpot=random.randint(1,100)\n",
        "counter=1\n",
        "guess=int(input(\"chal guess kar\"))\n",
        "while guess != jackpot:\n",
        "  \n",
        "  if guess<jackpot:\n",
        "    print(\"Guess Higher\")\n",
        "  else: \n",
        "    print(\"Guess lower\")\n",
        "  \n",
        "  counter+=1\n",
        "  guess=int(input(\"Chal guess kar phirse\"))\n",
        "\n",
        "print(\"Sahi Jawab. You took\",counter,\"Number of attmpts\")"
      ],
      "metadata": {
        "colab": {
          "base_uri": "https://localhost:8080/"
        },
        "id": "U7QftnYEpNRr",
        "outputId": "a880160c-dd11-444f-a409-9d0c3be21f90"
      },
      "execution_count": null,
      "outputs": [
        {
          "output_type": "stream",
          "name": "stdout",
          "text": [
            "chal guess kar34\n",
            "Guess lower\n",
            "Chal guess kar phirse20\n",
            "Guess lower\n",
            "Chal guess kar phirse10\n",
            "Guess Higher\n",
            "Chal guess kar phirse15\n",
            "Guess Higher\n",
            "Chal guess kar phirse18\n",
            "Guess lower\n",
            "Chal guess kar phirse19\n",
            "Guess lower\n",
            "Chal guess kar phirse17\n",
            "Guess lower\n",
            "Chal guess kar phirse16\n",
            "Sahi Jawab. You took 8 Number of attmpts\n"
          ]
        }
      ]
    },
    {
      "cell_type": "code",
      "source": [
        "i=input('Enter i')\n",
        "j=input('Enter j')\n",
        "counter=1\n",
        "while i==j:\n",
        "  print('both are the same')\n",
        "  i=input('input i')\n",
        "  j=input('input j')\n",
        "  counter=counter+1\n",
        "print(f'You tried {counter} times')"
      ],
      "metadata": {
        "colab": {
          "base_uri": "https://localhost:8080/"
        },
        "id": "K6pqUNxt0DLD",
        "outputId": "5cc2d297-5e2e-4a64-a7a1-c984637f66ad"
      },
      "execution_count": null,
      "outputs": [
        {
          "output_type": "stream",
          "name": "stdout",
          "text": [
            "Enter i4\n",
            "Enter j4\n",
            "both are the same\n",
            "input i5\n",
            "input j6\n",
            "You tried 2 times\n"
          ]
        }
      ]
    },
    {
      "cell_type": "markdown",
      "source": [
        "For loop\n"
      ],
      "metadata": {
        "id": "nOAfv_HZrUbv"
      }
    },
    {
      "cell_type": "markdown",
      "source": [
        "For loop iterated over range function OR a sequence. No need of termination, no need of incrementing, everythin will happen on its own. Unlike while loops, here we know how many times our loop will run before starting."
      ],
      "metadata": {
        "id": "1rdZLZeMxSo9"
      }
    },
    {
      "cell_type": "code",
      "source": [
        "# range fuction"
      ],
      "metadata": {
        "id": "AvocP5nFxyBt"
      },
      "execution_count": null,
      "outputs": []
    },
    {
      "cell_type": "code",
      "source": [
        "\n",
        "set(range(1,11))"
      ],
      "metadata": {
        "colab": {
          "base_uri": "https://localhost:8080/"
        },
        "id": "HHGbHyhrsIg7",
        "outputId": "317be5c4-bc32-4d4e-8396-a9a0f8646d43"
      },
      "execution_count": null,
      "outputs": [
        {
          "output_type": "execute_result",
          "data": {
            "text/plain": [
              "{1, 2, 3, 4, 5, 6, 7, 8, 9, 10}"
            ]
          },
          "metadata": {},
          "execution_count": 57
        }
      ]
    },
    {
      "cell_type": "code",
      "source": [
        "list(range(1,11))"
      ],
      "metadata": {
        "colab": {
          "base_uri": "https://localhost:8080/",
          "height": 165
        },
        "id": "1BMDsb9FrY93",
        "outputId": "4a5feac8-ac34-4038-bec2-37434c739090"
      },
      "execution_count": null,
      "outputs": [
        {
          "output_type": "error",
          "ename": "TypeError",
          "evalue": "ignored",
          "traceback": [
            "\u001b[0;31m---------------------------------------------------------------------------\u001b[0m",
            "\u001b[0;31mTypeError\u001b[0m                                 Traceback (most recent call last)",
            "\u001b[0;32m<ipython-input-59-d6a41fa432fa>\u001b[0m in \u001b[0;36m<module>\u001b[0;34m()\u001b[0m\n\u001b[0;32m----> 1\u001b[0;31m \u001b[0mlist\u001b[0m\u001b[0;34m(\u001b[0m\u001b[0mrange\u001b[0m\u001b[0;34m(\u001b[0m\u001b[0;36m1\u001b[0m\u001b[0;34m,\u001b[0m\u001b[0;36m11\u001b[0m\u001b[0;34m)\u001b[0m\u001b[0;34m)\u001b[0m\u001b[0;34m\u001b[0m\u001b[0;34m\u001b[0m\u001b[0m\n\u001b[0m",
            "\u001b[0;31mTypeError\u001b[0m: 'list' object is not callable"
          ]
        }
      ]
    },
    {
      "cell_type": "code",
      "source": [
        "list(range(1,11,2))"
      ],
      "metadata": {
        "colab": {
          "base_uri": "https://localhost:8080/",
          "height": 165
        },
        "id": "4vEwui4lrkKn",
        "outputId": "04a88c7d-b4e4-4e2d-a56e-9ab017a35ce1"
      },
      "execution_count": null,
      "outputs": [
        {
          "output_type": "error",
          "ename": "TypeError",
          "evalue": "ignored",
          "traceback": [
            "\u001b[0;31m---------------------------------------------------------------------------\u001b[0m",
            "\u001b[0;31mTypeError\u001b[0m                                 Traceback (most recent call last)",
            "\u001b[0;32m<ipython-input-61-0fcbb266616b>\u001b[0m in \u001b[0;36m<module>\u001b[0;34m()\u001b[0m\n\u001b[0;32m----> 1\u001b[0;31m \u001b[0mlist\u001b[0m\u001b[0;34m(\u001b[0m\u001b[0mrange\u001b[0m\u001b[0;34m(\u001b[0m\u001b[0;36m1\u001b[0m\u001b[0;34m,\u001b[0m\u001b[0;36m11\u001b[0m\u001b[0;34m,\u001b[0m\u001b[0;36m2\u001b[0m\u001b[0;34m)\u001b[0m\u001b[0;34m)\u001b[0m\u001b[0;34m\u001b[0m\u001b[0;34m\u001b[0m\u001b[0m\n\u001b[0m",
            "\u001b[0;31mTypeError\u001b[0m: 'list' object is not callable"
          ]
        }
      ]
    },
    {
      "cell_type": "code",
      "source": [
        "list(range(11,1,-1))"
      ],
      "metadata": {
        "colab": {
          "base_uri": "https://localhost:8080/",
          "height": 165
        },
        "id": "meD8zOXlrnBM",
        "outputId": "61e3170e-13a3-4945-93dc-f64b06e858ec"
      },
      "execution_count": null,
      "outputs": [
        {
          "output_type": "error",
          "ename": "TypeError",
          "evalue": "ignored",
          "traceback": [
            "\u001b[0;31m---------------------------------------------------------------------------\u001b[0m",
            "\u001b[0;31mTypeError\u001b[0m                                 Traceback (most recent call last)",
            "\u001b[0;32m<ipython-input-65-91aa2c2908b5>\u001b[0m in \u001b[0;36m<module>\u001b[0;34m()\u001b[0m\n\u001b[0;32m----> 1\u001b[0;31m \u001b[0mlist\u001b[0m\u001b[0;34m(\u001b[0m\u001b[0mrange\u001b[0m\u001b[0;34m(\u001b[0m\u001b[0;36m11\u001b[0m\u001b[0;34m,\u001b[0m\u001b[0;36m1\u001b[0m\u001b[0;34m,\u001b[0m\u001b[0;34m-\u001b[0m\u001b[0;36m1\u001b[0m\u001b[0;34m)\u001b[0m\u001b[0;34m)\u001b[0m\u001b[0;34m\u001b[0m\u001b[0;34m\u001b[0m\u001b[0m\n\u001b[0m",
            "\u001b[0;31mTypeError\u001b[0m: 'list' object is not callable"
          ]
        }
      ]
    },
    {
      "cell_type": "code",
      "source": [
        "for i in range(0,10):\n",
        "  print(i)"
      ],
      "metadata": {
        "colab": {
          "base_uri": "https://localhost:8080/"
        },
        "id": "OSH2uc8prwJZ",
        "outputId": "e4c8edfd-e1d9-4c6d-f70b-9b65ae26667d"
      },
      "execution_count": null,
      "outputs": [
        {
          "output_type": "stream",
          "name": "stdout",
          "text": [
            "0\n",
            "1\n",
            "2\n",
            "3\n",
            "4\n",
            "5\n",
            "6\n",
            "7\n",
            "8\n",
            "9\n"
          ]
        }
      ]
    },
    {
      "cell_type": "code",
      "source": [
        "# In addition to range function, For loop can iterate over Sequences as well - list,set,string,tuples"
      ],
      "metadata": {
        "id": "l_3MJNBgxNf2"
      },
      "execution_count": null,
      "outputs": []
    },
    {
      "cell_type": "code",
      "source": [
        "for i in \"omkar\":\n",
        "  print(i)"
      ],
      "metadata": {
        "colab": {
          "base_uri": "https://localhost:8080/"
        },
        "id": "hHSA1DOfxs3j",
        "outputId": "9aeb0f0c-a0d1-4872-db23-b23730d3fc03"
      },
      "execution_count": null,
      "outputs": [
        {
          "output_type": "stream",
          "name": "stdout",
          "text": [
            "o\n",
            "m\n",
            "k\n",
            "a\n",
            "r\n"
          ]
        }
      ]
    },
    {
      "cell_type": "code",
      "source": [
        "list=['list1','list2','list3','list4']\n",
        "for j in list:\n",
        "  print(j)"
      ],
      "metadata": {
        "colab": {
          "base_uri": "https://localhost:8080/"
        },
        "id": "SqdXtpBdx3iF",
        "outputId": "3d18645c-fbbd-4be1-eb3d-a787207d02dc"
      },
      "execution_count": null,
      "outputs": [
        {
          "output_type": "stream",
          "name": "stdout",
          "text": [
            "list1\n",
            "list2\n",
            "list3\n",
            "list4\n"
          ]
        }
      ]
    },
    {
      "cell_type": "code",
      "source": [
        "for i in [1,2,3,4,5]:\n",
        "  print(i)"
      ],
      "metadata": {
        "colab": {
          "base_uri": "https://localhost:8080/"
        },
        "id": "eTqfrrkLyBgG",
        "outputId": "2344af28-ffe3-4cf7-c14b-76b43e992af2"
      },
      "execution_count": null,
      "outputs": [
        {
          "output_type": "stream",
          "name": "stdout",
          "text": [
            "1\n",
            "2\n",
            "3\n",
            "4\n",
            "5\n"
          ]
        }
      ]
    },
    {
      "cell_type": "code",
      "source": [
        "for i in (1,2,3,4,5):\n",
        "  print(i)"
      ],
      "metadata": {
        "colab": {
          "base_uri": "https://localhost:8080/"
        },
        "id": "elC-8KrJyTEO",
        "outputId": "f0199c2f-4570-47ee-fb4e-9e04f02f147b"
      },
      "execution_count": null,
      "outputs": [
        {
          "output_type": "stream",
          "name": "stdout",
          "text": [
            "1\n",
            "2\n",
            "3\n",
            "4\n",
            "5\n"
          ]
        }
      ]
    },
    {
      "cell_type": "code",
      "source": [
        "for i in {1,2,3,4,5}:\n",
        "  print(i)"
      ],
      "metadata": {
        "colab": {
          "base_uri": "https://localhost:8080/"
        },
        "id": "FJMmgozRyZqU",
        "outputId": "c5dd407f-eaa9-423d-b188-d5be5b0133ed"
      },
      "execution_count": null,
      "outputs": [
        {
          "output_type": "stream",
          "name": "stdout",
          "text": [
            "1\n",
            "2\n",
            "3\n",
            "4\n",
            "5\n"
          ]
        }
      ]
    },
    {
      "cell_type": "markdown",
      "source": [
        "Nested loops"
      ],
      "metadata": {
        "id": "PLcLZGH-0a2H"
      }
    },
    {
      "cell_type": "code",
      "source": [
        "# Nested loops are not a very great solution, because time complexity of a two layer nested loop is n^2. For a three layered nested loops, time complexity will be n^3."
      ],
      "metadata": {
        "id": "TZj9yG6n0dRV"
      },
      "execution_count": null,
      "outputs": []
    },
    {
      "cell_type": "markdown",
      "source": [
        "Eg. if you want info about all the transactions from your bank, one loop iterate for all the customers, another loop will run for each transaction done by each customer."
      ],
      "metadata": {
        "id": "jumkpZ8B3CNK"
      }
    },
    {
      "cell_type": "code",
      "source": [
        "# Program to create pascal's triangle."
      ],
      "metadata": {
        "id": "pT77Rjlu3UjI"
      },
      "execution_count": null,
      "outputs": []
    },
    {
      "cell_type": "code",
      "source": [
        "rows=int(input(\"Input the number of rows you need\"))\n",
        "for i in range(1,rows+1):\n",
        "  for j in range(0,i):\n",
        "    print(\"*\",end=\" \")\n",
        "  print(\" \")\n"
      ],
      "metadata": {
        "colab": {
          "base_uri": "https://localhost:8080/"
        },
        "id": "NRzz63723hNT",
        "outputId": "be4b2636-b35e-438c-b7dd-a35e470829b3"
      },
      "execution_count": null,
      "outputs": [
        {
          "output_type": "stream",
          "name": "stdout",
          "text": [
            "Input the number of rows you need5\n",
            "*  \n",
            "* *  \n",
            "* * *  \n",
            "* * * *  \n",
            "* * * * *  \n"
          ]
        }
      ]
    },
    {
      "cell_type": "markdown",
      "source": [
        "Break, Continue, Pass."
      ],
      "metadata": {
        "id": "z0x_1J4zIraq"
      }
    },
    {
      "cell_type": "code",
      "source": [
        "for i in range(1,11):\n",
        "  if i==5:\n",
        "    break\n",
        "  print(i)\n",
        "  "
      ],
      "metadata": {
        "colab": {
          "base_uri": "https://localhost:8080/"
        },
        "id": "rWHm7Erc36rC",
        "outputId": "1fb7e181-9334-4164-9026-715efd552736"
      },
      "execution_count": null,
      "outputs": [
        {
          "output_type": "stream",
          "name": "stdout",
          "text": [
            "1\n",
            "2\n",
            "3\n",
            "4\n"
          ]
        }
      ]
    },
    {
      "cell_type": "code",
      "source": [
        "# Where can we use break? - Linear Searching. When you find your match, you can break out."
      ],
      "metadata": {
        "id": "ohPUzQtMI45A"
      },
      "execution_count": null,
      "outputs": []
    },
    {
      "cell_type": "code",
      "source": [
        "for i in range(1,11):\n",
        "  if i==5:\n",
        "    continue\n",
        "  print(i)\n"
      ],
      "metadata": {
        "colab": {
          "base_uri": "https://localhost:8080/"
        },
        "id": "-r5I1iTSQks4",
        "outputId": "68f66718-d034-4a27-a2d0-36d0c0c430b7"
      },
      "execution_count": null,
      "outputs": [
        {
          "output_type": "stream",
          "name": "stdout",
          "text": [
            "1\n",
            "2\n",
            "3\n",
            "4\n",
            "6\n",
            "7\n",
            "8\n",
            "9\n",
            "10\n"
          ]
        }
      ]
    },
    {
      "cell_type": "code",
      "source": [
        "# while creating app for showing in stock products, skip for the products which are not there in stock. For those stocks, use continue statement."
      ],
      "metadata": {
        "id": "-GCNTNcOQxSK"
      },
      "execution_count": null,
      "outputs": []
    },
    {
      "cell_type": "code",
      "source": [
        "for i in range(1,11):\n",
        "  pass"
      ],
      "metadata": {
        "id": "K0fhjFD5RAbX"
      },
      "execution_count": null,
      "outputs": []
    },
    {
      "cell_type": "code",
      "source": [
        "# will write the code after sometime"
      ],
      "metadata": {
        "id": "DcDaV4F0RQ2m"
      },
      "execution_count": null,
      "outputs": []
    },
    {
      "cell_type": "markdown",
      "source": [
        "# Built-in functions"
      ],
      "metadata": {
        "id": "xGslmNZgRaHJ"
      }
    },
    {
      "cell_type": "code",
      "source": [
        "# print\n",
        "print(\"hello\")"
      ],
      "metadata": {
        "colab": {
          "base_uri": "https://localhost:8080/"
        },
        "id": "i0kfaCL-RPZ6",
        "outputId": "a1cb22fc-9175-4a1b-e06d-b97348c46f43"
      },
      "execution_count": null,
      "outputs": [
        {
          "output_type": "stream",
          "name": "stdout",
          "text": [
            "hello\n"
          ]
        }
      ]
    },
    {
      "cell_type": "code",
      "source": [
        "# input - here the inout is receive in a string format\n",
        "input(\"enter your name \")"
      ],
      "metadata": {
        "colab": {
          "base_uri": "https://localhost:8080/",
          "height": 571
        },
        "id": "CttWS9U7Rgn-",
        "outputId": "dc44289a-2f58-4bb9-ae9d-5498ff0b9a66"
      },
      "execution_count": null,
      "outputs": [
        {
          "output_type": "error",
          "ename": "KeyboardInterrupt",
          "evalue": "ignored",
          "traceback": [
            "\u001b[0;31m---------------------------------------------------------------------------\u001b[0m",
            "\u001b[0;31mKeyboardInterrupt\u001b[0m                         Traceback (most recent call last)",
            "\u001b[0;32m/usr/local/lib/python3.7/dist-packages/ipykernel/kernelbase.py\u001b[0m in \u001b[0;36m_input_request\u001b[0;34m(self, prompt, ident, parent, password)\u001b[0m\n\u001b[1;32m    728\u001b[0m             \u001b[0;32mtry\u001b[0m\u001b[0;34m:\u001b[0m\u001b[0;34m\u001b[0m\u001b[0;34m\u001b[0m\u001b[0m\n\u001b[0;32m--> 729\u001b[0;31m                 \u001b[0mident\u001b[0m\u001b[0;34m,\u001b[0m \u001b[0mreply\u001b[0m \u001b[0;34m=\u001b[0m \u001b[0mself\u001b[0m\u001b[0;34m.\u001b[0m\u001b[0msession\u001b[0m\u001b[0;34m.\u001b[0m\u001b[0mrecv\u001b[0m\u001b[0;34m(\u001b[0m\u001b[0mself\u001b[0m\u001b[0;34m.\u001b[0m\u001b[0mstdin_socket\u001b[0m\u001b[0;34m,\u001b[0m \u001b[0;36m0\u001b[0m\u001b[0;34m)\u001b[0m\u001b[0;34m\u001b[0m\u001b[0;34m\u001b[0m\u001b[0m\n\u001b[0m\u001b[1;32m    730\u001b[0m             \u001b[0;32mexcept\u001b[0m \u001b[0mException\u001b[0m\u001b[0;34m:\u001b[0m\u001b[0;34m\u001b[0m\u001b[0;34m\u001b[0m\u001b[0m\n",
            "\u001b[0;32m/usr/local/lib/python3.7/dist-packages/jupyter_client/session.py\u001b[0m in \u001b[0;36mrecv\u001b[0;34m(self, socket, mode, content, copy)\u001b[0m\n\u001b[1;32m    802\u001b[0m         \u001b[0;32mtry\u001b[0m\u001b[0;34m:\u001b[0m\u001b[0;34m\u001b[0m\u001b[0;34m\u001b[0m\u001b[0m\n\u001b[0;32m--> 803\u001b[0;31m             \u001b[0mmsg_list\u001b[0m \u001b[0;34m=\u001b[0m \u001b[0msocket\u001b[0m\u001b[0;34m.\u001b[0m\u001b[0mrecv_multipart\u001b[0m\u001b[0;34m(\u001b[0m\u001b[0mmode\u001b[0m\u001b[0;34m,\u001b[0m \u001b[0mcopy\u001b[0m\u001b[0;34m=\u001b[0m\u001b[0mcopy\u001b[0m\u001b[0;34m)\u001b[0m\u001b[0;34m\u001b[0m\u001b[0;34m\u001b[0m\u001b[0m\n\u001b[0m\u001b[1;32m    804\u001b[0m         \u001b[0;32mexcept\u001b[0m \u001b[0mzmq\u001b[0m\u001b[0;34m.\u001b[0m\u001b[0mZMQError\u001b[0m \u001b[0;32mas\u001b[0m \u001b[0me\u001b[0m\u001b[0;34m:\u001b[0m\u001b[0;34m\u001b[0m\u001b[0;34m\u001b[0m\u001b[0m\n",
            "\u001b[0;32m/usr/local/lib/python3.7/dist-packages/zmq/sugar/socket.py\u001b[0m in \u001b[0;36mrecv_multipart\u001b[0;34m(self, flags, copy, track)\u001b[0m\n\u001b[1;32m    726\u001b[0m         \"\"\"\n\u001b[0;32m--> 727\u001b[0;31m         \u001b[0mparts\u001b[0m \u001b[0;34m=\u001b[0m \u001b[0;34m[\u001b[0m\u001b[0mself\u001b[0m\u001b[0;34m.\u001b[0m\u001b[0mrecv\u001b[0m\u001b[0;34m(\u001b[0m\u001b[0mflags\u001b[0m\u001b[0;34m,\u001b[0m \u001b[0mcopy\u001b[0m\u001b[0;34m=\u001b[0m\u001b[0mcopy\u001b[0m\u001b[0;34m,\u001b[0m \u001b[0mtrack\u001b[0m\u001b[0;34m=\u001b[0m\u001b[0mtrack\u001b[0m\u001b[0;34m)\u001b[0m\u001b[0;34m]\u001b[0m\u001b[0;34m\u001b[0m\u001b[0;34m\u001b[0m\u001b[0m\n\u001b[0m\u001b[1;32m    728\u001b[0m         \u001b[0;31m# have first part already, only loop while more to receive\u001b[0m\u001b[0;34m\u001b[0m\u001b[0;34m\u001b[0m\u001b[0;34m\u001b[0m\u001b[0m\n",
            "\u001b[0;32mzmq/backend/cython/socket.pyx\u001b[0m in \u001b[0;36mzmq.backend.cython.socket.Socket.recv\u001b[0;34m()\u001b[0m\n",
            "\u001b[0;32mzmq/backend/cython/socket.pyx\u001b[0m in \u001b[0;36mzmq.backend.cython.socket.Socket.recv\u001b[0;34m()\u001b[0m\n",
            "\u001b[0;32mzmq/backend/cython/socket.pyx\u001b[0m in \u001b[0;36mzmq.backend.cython.socket._recv_copy\u001b[0;34m()\u001b[0m\n",
            "\u001b[0;32m/usr/local/lib/python3.7/dist-packages/zmq/backend/cython/checkrc.pxd\u001b[0m in \u001b[0;36mzmq.backend.cython.checkrc._check_rc\u001b[0;34m()\u001b[0m\n",
            "\u001b[0;31mKeyboardInterrupt\u001b[0m: ",
            "\nDuring handling of the above exception, another exception occurred:\n",
            "\u001b[0;31mKeyboardInterrupt\u001b[0m                         Traceback (most recent call last)",
            "\u001b[0;32m<ipython-input-83-ac3dd6e09693>\u001b[0m in \u001b[0;36m<module>\u001b[0;34m()\u001b[0m\n\u001b[1;32m      1\u001b[0m \u001b[0;31m# input - here the inout is receive in a string format\u001b[0m\u001b[0;34m\u001b[0m\u001b[0;34m\u001b[0m\u001b[0;34m\u001b[0m\u001b[0m\n\u001b[0;32m----> 2\u001b[0;31m \u001b[0minput\u001b[0m\u001b[0;34m(\u001b[0m\u001b[0;34m\"enter your name \"\u001b[0m\u001b[0;34m)\u001b[0m\u001b[0;34m\u001b[0m\u001b[0;34m\u001b[0m\u001b[0m\n\u001b[0m",
            "\u001b[0;32m/usr/local/lib/python3.7/dist-packages/ipykernel/kernelbase.py\u001b[0m in \u001b[0;36mraw_input\u001b[0;34m(self, prompt)\u001b[0m\n\u001b[1;32m    702\u001b[0m             \u001b[0mself\u001b[0m\u001b[0;34m.\u001b[0m\u001b[0m_parent_ident\u001b[0m\u001b[0;34m,\u001b[0m\u001b[0;34m\u001b[0m\u001b[0;34m\u001b[0m\u001b[0m\n\u001b[1;32m    703\u001b[0m             \u001b[0mself\u001b[0m\u001b[0;34m.\u001b[0m\u001b[0m_parent_header\u001b[0m\u001b[0;34m,\u001b[0m\u001b[0;34m\u001b[0m\u001b[0;34m\u001b[0m\u001b[0m\n\u001b[0;32m--> 704\u001b[0;31m             \u001b[0mpassword\u001b[0m\u001b[0;34m=\u001b[0m\u001b[0;32mFalse\u001b[0m\u001b[0;34m,\u001b[0m\u001b[0;34m\u001b[0m\u001b[0;34m\u001b[0m\u001b[0m\n\u001b[0m\u001b[1;32m    705\u001b[0m         )\n\u001b[1;32m    706\u001b[0m \u001b[0;34m\u001b[0m\u001b[0m\n",
            "\u001b[0;32m/usr/local/lib/python3.7/dist-packages/ipykernel/kernelbase.py\u001b[0m in \u001b[0;36m_input_request\u001b[0;34m(self, prompt, ident, parent, password)\u001b[0m\n\u001b[1;32m    732\u001b[0m             \u001b[0;32mexcept\u001b[0m \u001b[0mKeyboardInterrupt\u001b[0m\u001b[0;34m:\u001b[0m\u001b[0;34m\u001b[0m\u001b[0;34m\u001b[0m\u001b[0m\n\u001b[1;32m    733\u001b[0m                 \u001b[0;31m# re-raise KeyboardInterrupt, to truncate traceback\u001b[0m\u001b[0;34m\u001b[0m\u001b[0;34m\u001b[0m\u001b[0;34m\u001b[0m\u001b[0m\n\u001b[0;32m--> 734\u001b[0;31m                 \u001b[0;32mraise\u001b[0m \u001b[0mKeyboardInterrupt\u001b[0m\u001b[0;34m\u001b[0m\u001b[0;34m\u001b[0m\u001b[0m\n\u001b[0m\u001b[1;32m    735\u001b[0m             \u001b[0;32melse\u001b[0m\u001b[0;34m:\u001b[0m\u001b[0;34m\u001b[0m\u001b[0;34m\u001b[0m\u001b[0m\n\u001b[1;32m    736\u001b[0m                 \u001b[0;32mbreak\u001b[0m\u001b[0;34m\u001b[0m\u001b[0;34m\u001b[0m\u001b[0m\n",
            "\u001b[0;31mKeyboardInterrupt\u001b[0m: "
          ]
        }
      ]
    },
    {
      "cell_type": "code",
      "source": [
        "# type\n",
        "a=3\n",
        "type(a)"
      ],
      "metadata": {
        "id": "Z3MSz47TRjnv"
      },
      "execution_count": null,
      "outputs": []
    },
    {
      "cell_type": "code",
      "source": [
        "# Type cinversion functions- 1.int 2.str 3.float 4.list 5.tuple\n",
        "int(5.6)"
      ],
      "metadata": {
        "id": "TfoeKO2vRxbL"
      },
      "execution_count": null,
      "outputs": []
    },
    {
      "cell_type": "code",
      "source": [
        "# absolute function\n",
        "abs(-4)"
      ],
      "metadata": {
        "id": "IMIfS2IRR_S4"
      },
      "execution_count": null,
      "outputs": []
    },
    {
      "cell_type": "code",
      "source": [
        "# pow\n",
        "pow(2,3)"
      ],
      "metadata": {
        "id": "xqIFnXN-SIuS"
      },
      "execution_count": null,
      "outputs": []
    },
    {
      "cell_type": "code",
      "source": [
        "# min\n",
        "print(min([2,5,3,4]))\n",
        "# max\n",
        "print(max([3,5,6,7,8]))\n",
        "# min with strings\n",
        "print(min('omkar'))\n",
        "# max with strings\n",
        "print(max('omkar'))"
      ],
      "metadata": {
        "id": "c-qR-mULSMPk"
      },
      "execution_count": null,
      "outputs": []
    },
    {
      "cell_type": "code",
      "source": [
        "# round\n",
        "round(3.6)"
      ],
      "metadata": {
        "id": "YQxuc7YpSRlR"
      },
      "execution_count": null,
      "outputs": []
    },
    {
      "cell_type": "code",
      "source": [
        "# divmod ( results of integer and modulus value in a tuple)\n",
        "divmod(5,2)"
      ],
      "metadata": {
        "id": "J0DZ7B8fSrXe"
      },
      "execution_count": null,
      "outputs": []
    },
    {
      "cell_type": "code",
      "source": [
        "#bin/oct/hex\n",
        "bin(10)"
      ],
      "metadata": {
        "id": "rPOSMNN9Uu7J"
      },
      "execution_count": null,
      "outputs": []
    },
    {
      "cell_type": "code",
      "source": [
        "oct(10)"
      ],
      "metadata": {
        "id": "_oXqhdHkWcSI"
      },
      "execution_count": null,
      "outputs": []
    },
    {
      "cell_type": "code",
      "source": [
        "hex(10)"
      ],
      "metadata": {
        "id": "GsEp3nEPWgRR"
      },
      "execution_count": null,
      "outputs": []
    },
    {
      "cell_type": "code",
      "source": [
        "#id -address in the memory\n",
        "a=13\n",
        "id(a)"
      ],
      "metadata": {
        "id": "hXNxco3RWg84"
      },
      "execution_count": null,
      "outputs": []
    },
    {
      "cell_type": "code",
      "source": [
        "#ord - gives aski code for any character\n",
        "ord('D')"
      ],
      "metadata": {
        "id": "BdqkNow2WoUy"
      },
      "execution_count": null,
      "outputs": []
    },
    {
      "cell_type": "code",
      "source": [
        "# len -gives length\n",
        "len(\"kolkata\")"
      ],
      "metadata": {
        "id": "znxnH5lyW0bK"
      },
      "execution_count": null,
      "outputs": []
    },
    {
      "cell_type": "code",
      "source": [
        "#sum \n",
        "print(sum([1,5,6,7,8]))\n",
        "print(sum((3,6,7,8,4)))\n",
        "print(sum({2,4,5,7,5,4,8}))"
      ],
      "metadata": {
        "id": "_plzv7W2W6cK"
      },
      "execution_count": null,
      "outputs": []
    },
    {
      "cell_type": "code",
      "source": [
        "# help - gives info about a function\n",
        "help(print())"
      ],
      "metadata": {
        "id": "rWDiPXDAXGDK"
      },
      "execution_count": null,
      "outputs": []
    },
    {
      "cell_type": "markdown",
      "source": [
        "# Built in Modules"
      ],
      "metadata": {
        "id": "7waXYvy6XbFz"
      }
    },
    {
      "cell_type": "code",
      "source": [
        "# What are modules?  Module is a file containing a set of functions you want to include in your applications.\n",
        "# Examples of python modules which can be used in our code.\n",
        "#1.Math - module that has all the mathematical fucntions pre defined\n",
        "#2.Random\n",
        "#3.os\n",
        "#4.time"
      ],
      "metadata": {
        "id": "0VuUceSvXUbw"
      },
      "execution_count": null,
      "outputs": []
    },
    {
      "cell_type": "code",
      "source": [
        "help('modules')"
      ],
      "metadata": {
        "id": "5t17YwOIdPVO"
      },
      "execution_count": null,
      "outputs": []
    },
    {
      "cell_type": "code",
      "source": [
        "import math\n",
        "math.pi"
      ],
      "metadata": {
        "id": "vPbMfC7hdQTn"
      },
      "execution_count": null,
      "outputs": []
    },
    {
      "cell_type": "code",
      "source": [
        "math.ceil(7.1)"
      ],
      "metadata": {
        "id": "YmdKWFmnhSvh"
      },
      "execution_count": null,
      "outputs": []
    },
    {
      "cell_type": "code",
      "source": [
        "math.floor(9.99)"
      ],
      "metadata": {
        "id": "7yG8ohwjhZRL"
      },
      "execution_count": null,
      "outputs": []
    },
    {
      "cell_type": "code",
      "source": [
        "import os"
      ],
      "metadata": {
        "id": "XY04w1j_de2D"
      },
      "execution_count": null,
      "outputs": []
    },
    {
      "cell_type": "code",
      "source": [
        "os.getcwd()"
      ],
      "metadata": {
        "id": "znUzECCAjkV_"
      },
      "execution_count": null,
      "outputs": []
    },
    {
      "cell_type": "code",
      "source": [
        "os.listdir()"
      ],
      "metadata": {
        "id": "CaS-2fNljpGV"
      },
      "execution_count": null,
      "outputs": []
    },
    {
      "cell_type": "code",
      "source": [
        "import time"
      ],
      "metadata": {
        "id": "SOcoFh0YdgQ3"
      },
      "execution_count": null,
      "outputs": []
    },
    {
      "cell_type": "code",
      "source": [
        "time.time()"
      ],
      "metadata": {
        "id": "p5WJm0m-i2N6"
      },
      "execution_count": null,
      "outputs": []
    },
    {
      "cell_type": "code",
      "source": [
        "time.time()"
      ],
      "metadata": {
        "id": "yXEySEE1i9Om"
      },
      "execution_count": null,
      "outputs": []
    },
    {
      "cell_type": "code",
      "source": [
        "time.ctime()"
      ],
      "metadata": {
        "id": "Vay-hd9ai4D-"
      },
      "execution_count": null,
      "outputs": []
    },
    {
      "cell_type": "code",
      "source": [
        "print('hello')\n",
        "time.sleep(10)\n",
        "print(\"omkar this side\")"
      ],
      "metadata": {
        "id": "69QtvbbojC3a"
      },
      "execution_count": null,
      "outputs": []
    },
    {
      "cell_type": "code",
      "source": [
        "import random\n",
        "print(random.randint(1,1000))\n",
        "a=[11,22,56,78,54]\n",
        "print(a)\n",
        "random.shuffle(a)\n",
        "print(a)\n",
        "# randomshuffle is making permanenet changes to the list"
      ],
      "metadata": {
        "id": "2r3pD5gFdjFp"
      },
      "execution_count": null,
      "outputs": []
    },
    {
      "cell_type": "code",
      "source": [
        "import numpy"
      ],
      "metadata": {
        "id": "uwZaV-tIdk7b"
      },
      "execution_count": null,
      "outputs": []
    },
    {
      "cell_type": "markdown",
      "source": [
        "# String"
      ],
      "metadata": {
        "id": "tV1mOvdkj7lk"
      }
    },
    {
      "cell_type": "code",
      "source": [
        "# creating strings\n",
        "# Accessing strings\n",
        "# Addind characters to string\n",
        "# Editing strings\n",
        "# Deleting strings\n",
        "# Operations on strings\n",
        "# String functions"
      ],
      "metadata": {
        "id": "WgikCaLhhLbL"
      },
      "execution_count": null,
      "outputs": []
    },
    {
      "cell_type": "code",
      "source": [
        "# Ceating strings\n",
        "string1='OMkar'\n",
        "string2=\"OMkar\"\n",
        "string3=\"\"\" Multilne string \"\"\"\n",
        "string4=str(\"omkar katare\")"
      ],
      "metadata": {
        "id": "zEQ69bs5yF2a"
      },
      "execution_count": null,
      "outputs": []
    },
    {
      "cell_type": "code",
      "source": [
        "# Accesing substrings from a string\n",
        "# indexing\n",
        "# positive indexing\n",
        "# negative indexing\n",
        "c='hello This is OMmkar'\n",
        "print(c[0])\n",
        "print(c[1:4])\n",
        "print(c[-4:-2])\n",
        "print(c[0:-1:2])\n",
        "print(c[::-1])"
      ],
      "metadata": {
        "id": "LzDW5T-syM9d"
      },
      "execution_count": null,
      "outputs": []
    },
    {
      "cell_type": "code",
      "source": [
        "  # Editing and deleting strings"
      ],
      "metadata": {
        "id": "vDu21mDCytRX"
      },
      "execution_count": null,
      "outputs": []
    },
    {
      "cell_type": "code",
      "source": [
        "c='Hello'\n",
        "c[0]=\"a\""
      ],
      "metadata": {
        "id": "0MlGstA7A4y2"
      },
      "execution_count": null,
      "outputs": []
    },
    {
      "cell_type": "code",
      "source": [
        "# strings are immutable"
      ],
      "metadata": {
        "id": "OZqfkjtFA8O5"
      },
      "execution_count": null,
      "outputs": []
    },
    {
      "cell_type": "code",
      "source": [
        "# string are reassignamble, but we can alter the string (like changing/additing/deleting one character is not possible)"
      ],
      "metadata": {
        "id": "E7qRzEtXLkGD"
      },
      "execution_count": null,
      "outputs": []
    },
    {
      "cell_type": "code",
      "source": [
        "# strings can also be completely deleted by can not be  partially deleted."
      ],
      "metadata": {
        "id": "c2fJ2ZrMMgQG"
      },
      "execution_count": null,
      "outputs": []
    },
    {
      "cell_type": "code",
      "source": [
        "c"
      ],
      "metadata": {
        "id": "vhrKSD5VMKGY"
      },
      "execution_count": null,
      "outputs": []
    },
    {
      "cell_type": "code",
      "source": [
        "del c[0]"
      ],
      "metadata": {
        "id": "DgjTaQIzMXyK"
      },
      "execution_count": null,
      "outputs": []
    },
    {
      "cell_type": "code",
      "source": [
        "# String operations.\n",
        "''' 1. Arithmetic Operations. 2. Relational Operations. 3.Logical Operations. 4.Loopas on strings. 5.Membership Operations.'''"
      ],
      "metadata": {
        "id": "ECtKy8VDMZQt"
      },
      "execution_count": null,
      "outputs": []
    },
    {
      "cell_type": "code",
      "source": [
        "# Arithmetic operarions\n",
        "\"omkar\"+\"katare\""
      ],
      "metadata": {
        "id": "9KVPIg_PNKVe"
      },
      "execution_count": null,
      "outputs": []
    },
    {
      "cell_type": "code",
      "source": [
        "\"omkar\"+\" \"+\"katare\""
      ],
      "metadata": {
        "id": "7crO3fo4OW4j"
      },
      "execution_count": null,
      "outputs": []
    },
    {
      "cell_type": "code",
      "source": [
        "print('@'*10)"
      ],
      "metadata": {
        "id": "9cTVNXtCOc7q"
      },
      "execution_count": null,
      "outputs": []
    },
    {
      "cell_type": "code",
      "source": [
        "# Relational Operators\n",
        "\"omkar\"==\"Omkar\""
      ],
      "metadata": {
        "id": "OfqwyLa2Oe_v"
      },
      "execution_count": null,
      "outputs": []
    },
    {
      "cell_type": "code",
      "source": [
        "\"omkar\"!=\"Omkar\""
      ],
      "metadata": {
        "id": "qqc9Kq5oOkGo"
      },
      "execution_count": null,
      "outputs": []
    },
    {
      "cell_type": "code",
      "source": [
        "\"Mumbai\">\"Pune\"\n",
        "# Lexographical Comparison\n",
        "# Like Dictionaty . Word that will appear later is bigger."
      ],
      "metadata": {
        "id": "OYuf7iRiOrTX"
      },
      "execution_count": null,
      "outputs": []
    },
    {
      "cell_type": "markdown",
      "source": [
        "Lexographical order- A-Z > a-z"
      ],
      "metadata": {
        "id": "JHcVgbyPPGxo"
      }
    },
    {
      "cell_type": "code",
      "source": [
        "\"A\"<\"a\""
      ],
      "metadata": {
        "id": "ICe9dWv4Ouk1"
      },
      "execution_count": null,
      "outputs": []
    },
    {
      "cell_type": "markdown",
      "source": [
        "Python considers empty strings as \"FALSE\". and Non empty strings are \"TRUE\"."
      ],
      "metadata": {
        "id": "CFkdg8WyQRS0"
      }
    },
    {
      "cell_type": "code",
      "source": [
        "# Logical Operators\n",
        "\"\" and \"hello\""
      ],
      "metadata": {
        "id": "lrGFfvoOPiZL"
      },
      "execution_count": null,
      "outputs": []
    },
    {
      "cell_type": "code",
      "source": [
        "\"\" or \"hello\""
      ],
      "metadata": {
        "id": "PRFNvP2BPzjb"
      },
      "execution_count": null,
      "outputs": []
    },
    {
      "cell_type": "code",
      "source": [
        "\"hello\" and \"world\""
      ],
      "metadata": {
        "id": "pPETz5BTP5Wu"
      },
      "execution_count": null,
      "outputs": []
    },
    {
      "cell_type": "code",
      "source": [
        "\"hello\"or \"world\""
      ],
      "metadata": {
        "id": "4ukxQGW_P8Dl"
      },
      "execution_count": null,
      "outputs": []
    },
    {
      "cell_type": "code",
      "source": [
        "not \"hello\""
      ],
      "metadata": {
        "id": "mNh4ma1rQH5H"
      },
      "execution_count": null,
      "outputs": []
    },
    {
      "cell_type": "code",
      "source": [
        "not\"\""
      ],
      "metadata": {
        "id": "_DnEP-mrQK-c"
      },
      "execution_count": null,
      "outputs": []
    },
    {
      "cell_type": "code",
      "source": [
        "# loops on strings\n",
        "n=\"hello world\"\n",
        "for i in n:\n",
        "  print(i)"
      ],
      "metadata": {
        "id": "D32k69VqQPHm"
      },
      "execution_count": null,
      "outputs": []
    },
    {
      "cell_type": "code",
      "source": [
        "for j in n[-1:0:-1]:\n",
        "  print(j)"
      ],
      "metadata": {
        "id": "z-SYI6zURM2O"
      },
      "execution_count": null,
      "outputs": []
    },
    {
      "cell_type": "code",
      "source": [
        "# Membarship operations\n",
        "\"i\" in \"ioi\""
      ],
      "metadata": {
        "id": "BGiEN_IqQg5I"
      },
      "execution_count": null,
      "outputs": []
    },
    {
      "cell_type": "code",
      "source": [
        "\"I\" in \"ioi\""
      ],
      "metadata": {
        "id": "psQRlU6uRJUX"
      },
      "execution_count": null,
      "outputs": []
    },
    {
      "cell_type": "markdown",
      "source": [
        "String Functions"
      ],
      "metadata": {
        "id": "eye2PEEtUi9m"
      }
    },
    {
      "cell_type": "code",
      "source": [
        "# len\n",
        "# max\n",
        "# min\n",
        "# sorted"
      ],
      "metadata": {
        "id": "rn1PPTM1RmUo"
      },
      "execution_count": null,
      "outputs": []
    },
    {
      "cell_type": "code",
      "source": [
        "c=\"kolkata\""
      ],
      "metadata": {
        "id": "r5fFlr7LUp_F"
      },
      "execution_count": null,
      "outputs": []
    },
    {
      "cell_type": "code",
      "source": [
        "len(c)"
      ],
      "metadata": {
        "id": "0DlqqKg9UsPb"
      },
      "execution_count": null,
      "outputs": []
    },
    {
      "cell_type": "code",
      "source": [
        "min(c)"
      ],
      "metadata": {
        "id": "wvKba229Us-9"
      },
      "execution_count": null,
      "outputs": []
    },
    {
      "cell_type": "code",
      "source": [
        "max(c)"
      ],
      "metadata": {
        "id": "4TEm4p8vUtha"
      },
      "execution_count": null,
      "outputs": []
    },
    {
      "cell_type": "code",
      "source": [
        "sorted(c)"
      ],
      "metadata": {
        "id": "blXY3mfaUuG6"
      },
      "execution_count": null,
      "outputs": []
    },
    {
      "cell_type": "code",
      "source": [
        "sorted(c,reverse=True)"
      ],
      "metadata": {
        "id": "xI3VwiXmUu-n"
      },
      "execution_count": null,
      "outputs": []
    },
    {
      "cell_type": "code",
      "source": [
        "# 1. Capitalize/title/upper/lower/swapcase"
      ],
      "metadata": {
        "id": "Zw0yrrzJUzMl"
      },
      "execution_count": null,
      "outputs": []
    },
    {
      "cell_type": "code",
      "source": [
        "z='My name is omkar'"
      ],
      "metadata": {
        "id": "nzFgZof2U7Iu"
      },
      "execution_count": null,
      "outputs": []
    },
    {
      "cell_type": "code",
      "source": [
        "z.capitalize()"
      ],
      "metadata": {
        "id": "73Wyd024U9Yl"
      },
      "execution_count": null,
      "outputs": []
    },
    {
      "cell_type": "code",
      "source": [
        "z.title()"
      ],
      "metadata": {
        "id": "BVl66VuRVAo3"
      },
      "execution_count": null,
      "outputs": []
    },
    {
      "cell_type": "code",
      "source": [
        "z.upper()"
      ],
      "metadata": {
        "id": "5spWoxCDVFqe"
      },
      "execution_count": null,
      "outputs": []
    },
    {
      "cell_type": "code",
      "source": [
        "z.lower()"
      ],
      "metadata": {
        "id": "okAdR3d8VQwE"
      },
      "execution_count": null,
      "outputs": []
    },
    {
      "cell_type": "code",
      "source": [
        "z.swapcase()"
      ],
      "metadata": {
        "id": "oQUeoSFrVRdH"
      },
      "execution_count": null,
      "outputs": []
    },
    {
      "cell_type": "code",
      "source": [
        "# 2. count"
      ],
      "metadata": {
        "id": "bOnv7pF6emuT"
      },
      "execution_count": null,
      "outputs": []
    },
    {
      "cell_type": "code",
      "source": [
        "\"This is omkar\".count(\"kar\")"
      ],
      "metadata": {
        "id": "vc0jBfOKVTFf"
      },
      "execution_count": null,
      "outputs": []
    },
    {
      "cell_type": "code",
      "source": [
        "# 3. Find/Index"
      ],
      "metadata": {
        "id": "70MQaB6defhh"
      },
      "execution_count": null,
      "outputs": []
    },
    {
      "cell_type": "code",
      "source": [
        "\"This is Omkar\".find(\"O\")"
      ],
      "metadata": {
        "id": "zPC8H2kZeszI"
      },
      "execution_count": null,
      "outputs": []
    },
    {
      "cell_type": "code",
      "source": [
        "\"THIS IS OMKAR\".find(\"t\")"
      ],
      "metadata": {
        "id": "vw873-Y6e8NF"
      },
      "execution_count": null,
      "outputs": []
    },
    {
      "cell_type": "markdown",
      "source": [
        "find return -1 if string is not found. Index gives an error.\n"
      ],
      "metadata": {
        "id": "y-ieMwaSfBD3"
      }
    },
    {
      "cell_type": "code",
      "source": [
        "\"this is omkar\".index(\"T\")"
      ],
      "metadata": {
        "id": "YRpSErWHe2SL"
      },
      "execution_count": null,
      "outputs": []
    },
    {
      "cell_type": "code",
      "source": [
        "# 4. endswith/startswith"
      ],
      "metadata": {
        "id": "vB_pqgPdevVo"
      },
      "execution_count": null,
      "outputs": []
    },
    {
      "cell_type": "code",
      "source": [
        "\"It is raining\".endswith(\"ing\")"
      ],
      "metadata": {
        "id": "6NEWqG6efOiI"
      },
      "execution_count": null,
      "outputs": []
    },
    {
      "cell_type": "code",
      "source": [
        "\"It is raining\".startswith(\"It\")"
      ],
      "metadata": {
        "id": "XG2L9ZPofR5M"
      },
      "execution_count": null,
      "outputs": []
    },
    {
      "cell_type": "code",
      "source": [
        "# 5. format"
      ],
      "metadata": {
        "id": "dxRPZAuwfW7H"
      },
      "execution_count": null,
      "outputs": []
    },
    {
      "cell_type": "code",
      "source": [
        "\"Hello my name is {}, and my age is {}\".format(\"omkar\",24)"
      ],
      "metadata": {
        "id": "7J27jzlef3lU"
      },
      "execution_count": null,
      "outputs": []
    },
    {
      "cell_type": "code",
      "source": [
        "\"Hello my name is {1}, and my age is {0}\".format(\"omkar\",24)"
      ],
      "metadata": {
        "id": "UFwUSjyJgCnc"
      },
      "execution_count": null,
      "outputs": []
    },
    {
      "cell_type": "code",
      "source": [
        "\"Hello my name is {name}, and my age is {age}\".format(name=\"omkar\",age=24)"
      ],
      "metadata": {
        "id": "dSAuhMkfgNSq"
      },
      "execution_count": null,
      "outputs": []
    },
    {
      "cell_type": "code",
      "source": [
        "\"Hello my name is {name}, and my age is {age} and my weight is {weight}\".format(name=\"omkar\",age=24,weight=70)"
      ],
      "metadata": {
        "id": "XkhB_LzCgS6f"
      },
      "execution_count": null,
      "outputs": []
    },
    {
      "cell_type": "code",
      "source": [
        "# 6. isalnum/isalpha/isdecimal/isdigit/isidentifier - these are used to valiate the inputs"
      ],
      "metadata": {
        "id": "Ayhzd-Brganm"
      },
      "execution_count": null,
      "outputs": []
    },
    {
      "cell_type": "code",
      "source": [
        "\"Flat20\".isalnum()"
      ],
      "metadata": {
        "id": "mL3zuHoDkgOy"
      },
      "execution_count": null,
      "outputs": []
    },
    {
      "cell_type": "code",
      "source": [
        "\"omk\".isalpha()"
      ],
      "metadata": {
        "id": "RmT45sYAkpI4"
      },
      "execution_count": null,
      "outputs": []
    },
    {
      "cell_type": "code",
      "source": [
        "\"20\".isdigit()"
      ],
      "metadata": {
        "id": "uCj8-Oo7kriI"
      },
      "execution_count": null,
      "outputs": []
    },
    {
      "cell_type": "code",
      "source": [
        "# 7.split"
      ],
      "metadata": {
        "id": "TaZJoBtHkuv2"
      },
      "execution_count": null,
      "outputs": []
    },
    {
      "cell_type": "code",
      "source": [
        "\"Who is the prime minister of india\".split()"
      ],
      "metadata": {
        "id": "TTI1L076k8ah"
      },
      "execution_count": null,
      "outputs": []
    },
    {
      "cell_type": "code",
      "source": [
        "\"Who is the prime minister of india\".split(\"p\")"
      ],
      "metadata": {
        "id": "5LbKDk_HlJ17"
      },
      "execution_count": null,
      "outputs": []
    },
    {
      "cell_type": "code",
      "source": [
        "# 8.Join"
      ],
      "metadata": {
        "id": "ffW0MP25lBDH"
      },
      "execution_count": null,
      "outputs": []
    },
    {
      "cell_type": "code",
      "source": [
        "\"*\".join(['a','b','c','d'])"
      ],
      "metadata": {
        "id": "TN3ALzPXlcH0"
      },
      "execution_count": null,
      "outputs": []
    },
    {
      "cell_type": "code",
      "source": [
        "# 9.replace"
      ],
      "metadata": {
        "id": "IKjmHBDvlhx2"
      },
      "execution_count": null,
      "outputs": []
    },
    {
      "cell_type": "code",
      "source": [
        "\"Hi my name is Omkar\".replace(\"my\",\"Your\")"
      ],
      "metadata": {
        "id": "__ovDhx8ltgN"
      },
      "execution_count": null,
      "outputs": []
    },
    {
      "cell_type": "code",
      "source": [
        "# 10.strip"
      ],
      "metadata": {
        "id": "5PGDY0COl-K8"
      },
      "execution_count": null,
      "outputs": []
    },
    {
      "cell_type": "code",
      "source": [
        "variable='       omkar   katare'\n",
        "variable.strip()"
      ],
      "metadata": {
        "id": "5evwod3TmAYK"
      },
      "execution_count": null,
      "outputs": []
    },
    {
      "cell_type": "code",
      "source": [
        "variable1=\"     OMkar    \"\n",
        "variable1.strip()"
      ],
      "metadata": {
        "id": "w0VZYIyBxpdq"
      },
      "execution_count": null,
      "outputs": []
    },
    {
      "cell_type": "markdown",
      "source": [
        "# List"
      ],
      "metadata": {
        "id": "mkJx3lRRj-Ss"
      }
    },
    {
      "cell_type": "code",
      "source": [
        "# List\n",
        "# what is a list?\n",
        "# List vs array\n",
        "# create\n",
        "# acess\n",
        "# edit\n",
        "# add\n",
        "# delete\n",
        "# operations\n",
        "# functions"
      ],
      "metadata": {
        "id": "tXiDaiS_j_gZ"
      },
      "execution_count": null,
      "outputs": []
    },
    {
      "cell_type": "code",
      "source": [
        "# Array are homogenious but lists are not.\n",
        "# Arrays occupy consecutive memory spaces, lists do not.\n",
        "# Arrays are much faster because of occupying consecutive memory spaces.\n",
        "# Lists are programmer firendly."
      ],
      "metadata": {
        "id": "nga5eQ2vkiv7"
      },
      "execution_count": null,
      "outputs": []
    },
    {
      "cell_type": "code",
      "source": [
        "# empty list\n",
        "L=[]"
      ],
      "metadata": {
        "id": "G3N97cM1lBYN"
      },
      "execution_count": null,
      "outputs": []
    },
    {
      "cell_type": "code",
      "source": [
        "# himogenious list\n",
        "l=[1,2,3,4,5]"
      ],
      "metadata": {
        "id": "wqc4bmmBlD28"
      },
      "execution_count": null,
      "outputs": []
    },
    {
      "cell_type": "code",
      "source": [
        "# heterogenious list\n",
        "l1=[\"omkar\",\"1\",\"1.1\"]"
      ],
      "metadata": {
        "id": "ieQh1LozlFeX"
      },
      "execution_count": null,
      "outputs": []
    },
    {
      "cell_type": "code",
      "source": [
        "# Multidimantional list\n",
        "l2=[1,2,3,[2,3,4]]\n",
        "l3=[1,2,3,[3,4,[5,6,6]]]"
      ],
      "metadata": {
        "id": "5rhS6aBilI86"
      },
      "execution_count": null,
      "outputs": []
    },
    {
      "cell_type": "code",
      "source": [
        "# by type conversion\n",
        "l4=list(\"omkar\")\n",
        "print(l4)"
      ],
      "metadata": {
        "id": "kz2eAgiulYMN"
      },
      "execution_count": null,
      "outputs": []
    },
    {
      "cell_type": "code",
      "source": [
        "# indexing\n",
        "l4[2]"
      ],
      "metadata": {
        "id": "oWuvCSwelmzK"
      },
      "execution_count": null,
      "outputs": []
    },
    {
      "cell_type": "code",
      "source": [
        "# indxing in multidimesional list\n",
        "l3[3][2][0]"
      ],
      "metadata": {
        "id": "3bcl11NepgON"
      },
      "execution_count": null,
      "outputs": []
    },
    {
      "cell_type": "code",
      "source": [
        "l3[-1][-1]"
      ],
      "metadata": {
        "id": "3VGp4lklpqhW"
      },
      "execution_count": null,
      "outputs": []
    },
    {
      "cell_type": "code",
      "source": [
        "l4"
      ],
      "metadata": {
        "id": "7QRAa07npucf"
      },
      "execution_count": null,
      "outputs": []
    },
    {
      "cell_type": "code",
      "source": [
        "l4[0]=\"ZZZ\""
      ],
      "metadata": {
        "id": "XAzkcUCsqDdU"
      },
      "execution_count": null,
      "outputs": []
    },
    {
      "cell_type": "code",
      "source": [
        "l4"
      ],
      "metadata": {
        "id": "5b9YJnK3qFa0"
      },
      "execution_count": null,
      "outputs": []
    },
    {
      "cell_type": "code",
      "source": [
        "# we could change list contents becuase lists are mutable"
      ],
      "metadata": {
        "id": "uOQzOnL_qFzE"
      },
      "execution_count": null,
      "outputs": []
    },
    {
      "cell_type": "code",
      "source": [
        "# Adding new eleents in list\n",
        "# 1 .appends - add one element to last\n",
        "# 2 .insert -  Here we can add element to our desired index position.\n",
        "# 3 .extend - add mutiple elements at once. If we input a string, this first converts it into list by internally splitting and adds these elements to the current list."
      ],
      "metadata": {
        "id": "vaT2jBhOqJ28"
      },
      "execution_count": null,
      "outputs": []
    },
    {
      "cell_type": "code",
      "source": [
        "list5=[1,2,3,4,5]\n",
        "list5.append(1000)\n",
        "print(list5)\n",
        "list5.extend([11,22,33,4,5,5,6,6,6])\n",
        "print(list5)\n",
        "list5.extend(\"This used to be a string\")\n",
        "print(list5)\n",
        "\n",
        "# major issue- apped,extend,insert do not retunr anything, they just modify the original string. \"They do not retunr anything\""
      ],
      "metadata": {
        "id": "v7ZoP4vwq5XA"
      },
      "execution_count": null,
      "outputs": []
    },
    {
      "cell_type": "code",
      "source": [
        "# In insert, first parameter is the index position at which we want to add the element, and second paramet is the element whichc we want to add to the list.\n",
        "list5.insert(1,\"omkar\")\n",
        "print(list5)"
      ],
      "metadata": {
        "id": "nFMDmMKWxxIZ"
      },
      "execution_count": null,
      "outputs": []
    },
    {
      "cell_type": "code",
      "source": [
        "# DELETE\n",
        "# 1. Delete\n",
        "# 2. del\n",
        "# 3. remove\n",
        "# 4. pop\n",
        "# 5. clear"
      ],
      "metadata": {
        "id": "eaGJxxQ10IbS"
      },
      "execution_count": null,
      "outputs": []
    },
    {
      "cell_type": "code",
      "source": [
        "list_one=[1,2,3,4,5]"
      ],
      "metadata": {
        "id": "cGZFee4b086M"
      },
      "execution_count": null,
      "outputs": []
    },
    {
      "cell_type": "code",
      "source": [
        "del list_one"
      ],
      "metadata": {
        "id": "hkgfIVa_1CaK"
      },
      "execution_count": null,
      "outputs": []
    },
    {
      "cell_type": "code",
      "source": [
        "list_one"
      ],
      "metadata": {
        "id": "qWONFJsX1D_7"
      },
      "execution_count": null,
      "outputs": []
    },
    {
      "cell_type": "code",
      "source": [
        "list_two=[12,3,4,5,5,5]"
      ],
      "metadata": {
        "id": "y4OUpUoW1FTH"
      },
      "execution_count": null,
      "outputs": []
    },
    {
      "cell_type": "code",
      "source": [
        "del [list_two[0]]"
      ],
      "metadata": {
        "id": "_WE6tlkD1JMR"
      },
      "execution_count": null,
      "outputs": []
    },
    {
      "cell_type": "code",
      "source": [
        "list_two"
      ],
      "metadata": {
        "id": "80NtgGXR1NC-"
      },
      "execution_count": null,
      "outputs": []
    },
    {
      "cell_type": "code",
      "source": [
        "del list_two[-2:]"
      ],
      "metadata": {
        "id": "G8Lvfhnn1Oxn"
      },
      "execution_count": null,
      "outputs": []
    },
    {
      "cell_type": "code",
      "source": [
        "list_two"
      ],
      "metadata": {
        "id": "myLDgjGk2-0K"
      },
      "execution_count": null,
      "outputs": []
    },
    {
      "cell_type": "code",
      "source": [
        "# if want to delete a specific element, and we dont know th eindex position of that element."
      ],
      "metadata": {
        "id": "3RHIL8lo3A05"
      },
      "execution_count": null,
      "outputs": []
    },
    {
      "cell_type": "code",
      "source": [
        "list_two.remove(4)\n",
        "print(list_two)"
      ],
      "metadata": {
        "id": "TK2nJ8IY3MyJ"
      },
      "execution_count": null,
      "outputs": []
    },
    {
      "cell_type": "code",
      "source": [
        "#pop always removes th elast elelemnt of a list\n",
        "list_two.pop()\n",
        "print(list_two)"
      ],
      "metadata": {
        "id": "Tt8hsQ_E3RMv"
      },
      "execution_count": null,
      "outputs": []
    },
    {
      "cell_type": "code",
      "source": [
        "# clear does not delete the variable, it just emptris the list\n",
        "list_two.clear()"
      ],
      "metadata": {
        "id": "QHThlG4e3eU5"
      },
      "execution_count": null,
      "outputs": []
    },
    {
      "cell_type": "code",
      "source": [
        "list_two"
      ],
      "metadata": {
        "id": "woumgtQh7C-2"
      },
      "execution_count": null,
      "outputs": []
    },
    {
      "cell_type": "code",
      "source": [
        "# Operations\n",
        "#1. concatenation\n",
        "#2. Mutiplication\n",
        "#3. run a loop\n",
        "#4. membership "
      ],
      "metadata": {
        "id": "JTNNJ6la7Edn"
      },
      "execution_count": null,
      "outputs": []
    },
    {
      "cell_type": "code",
      "source": [
        "list_1=[1,2,3,4,5]\n",
        "list_2=[3,4,5,6,7]\n",
        "list_1+list_2"
      ],
      "metadata": {
        "id": "xPZD-xHK92hU"
      },
      "execution_count": null,
      "outputs": []
    },
    {
      "cell_type": "code",
      "source": [
        "list_1*3"
      ],
      "metadata": {
        "id": "k4RE_c9698HP"
      },
      "execution_count": null,
      "outputs": []
    },
    {
      "cell_type": "code",
      "source": [
        "for i in list_1:\n",
        "  print(\"hello\")"
      ],
      "metadata": {
        "id": "gBuZfcTR9_93"
      },
      "execution_count": null,
      "outputs": []
    },
    {
      "cell_type": "code",
      "source": [
        "# membershipl\n",
        "2 in list_1"
      ],
      "metadata": {
        "id": "vQhsFsm0-FSX"
      },
      "execution_count": null,
      "outputs": []
    },
    {
      "cell_type": "code",
      "source": [
        "min(list_1)"
      ],
      "metadata": {
        "id": "Qw7YghOVEKQp"
      },
      "execution_count": null,
      "outputs": []
    },
    {
      "cell_type": "code",
      "source": [
        "max(list_1)"
      ],
      "metadata": {
        "id": "AyMAofRtEXvj"
      },
      "execution_count": null,
      "outputs": []
    },
    {
      "cell_type": "code",
      "source": [
        "# sorted This is a temporary operation\n",
        "sorted(list_1)"
      ],
      "metadata": {
        "id": "Jyxx88gXEeJK"
      },
      "execution_count": null,
      "outputs": []
    },
    {
      "cell_type": "code",
      "source": [
        "sorted(list_1,reverse =True)"
      ],
      "metadata": {
        "id": "vGXscS1xEf15"
      },
      "execution_count": null,
      "outputs": []
    },
    {
      "cell_type": "code",
      "source": [
        "# sort is a permanent change\n",
        "list_sort=[3,6,8,4,3,5]\n",
        "list_sort.sort()\n"
      ],
      "metadata": {
        "id": "fAvT1J57EkbK"
      },
      "execution_count": null,
      "outputs": []
    },
    {
      "cell_type": "code",
      "source": [
        "list_sort.index(8)"
      ],
      "metadata": {
        "id": "0yjQYLqebAq_"
      },
      "execution_count": null,
      "outputs": []
    },
    {
      "cell_type": "code",
      "source": [
        "# writing a code to do the job of method - title()\n",
        "\n",
        "string=input(\"Enter the sentence\")\n",
        "list1=[]\n",
        "list=string.split(\" \")\n",
        "for elem in list:\n",
        "  x=elem[0].upper()\n",
        "  y=elem[1:]\n",
        "  list1.append(x+y)\n",
        "print(\" \".join(list1))"
      ],
      "metadata": {
        "id": "7e_2HpTcbMd3"
      },
      "execution_count": null,
      "outputs": []
    },
    {
      "cell_type": "code",
      "source": [
        "# wrinting a code to get characters befinre @ in email id\n",
        "mail_id=input(\"enter the email id\")\n",
        "list=mail_id.split(\"@\")\n",
        "list[0]"
      ],
      "metadata": {
        "id": "QHtJutPVcTRY"
      },
      "execution_count": null,
      "outputs": []
    },
    {
      "cell_type": "code",
      "source": [
        "# wrinting a code to get characters befinre @ in email id\n",
        "input=input(\"enter mail id\")\n",
        "required_string=input[0:input.find(\"@\")]\n",
        "print(required_string)"
      ],
      "metadata": {
        "id": "LbEhjTnNdnN0"
      },
      "execution_count": null,
      "outputs": []
    },
    {
      "cell_type": "code",
      "source": [
        "# write a code to return a list after removing all the duplicate items\n",
        "input_list=input(\"enter numbers\")\n",
        "okay_set=set(input_list.split(\" \"))\n",
        "list=[]\n",
        "for elem in okay_set:\n",
        "  list.append(elem)\n",
        "print(list)\n",
        "list1=[]\n",
        "for elem in list:\n",
        "  list1.append(int(elem))\n",
        "print(list1)"
      ],
      "metadata": {
        "id": "bx1Yd6yvgxnY",
        "outputId": "8e070be1-1cd6-4481-b4aa-e1a81a39c010",
        "colab": {
          "base_uri": "https://localhost:8080/"
        }
      },
      "execution_count": null,
      "outputs": [
        {
          "output_type": "stream",
          "name": "stdout",
          "text": [
            "enter numbers23 45 7 55 77 8 77 77\n",
            "['77', '7', '23', '55', '8', '45']\n",
            "[77, 7, 23, 55, 8, 45]\n"
          ]
        }
      ]
    },
    {
      "cell_type": "markdown",
      "source": [
        "# Tuple"
      ],
      "metadata": {
        "id": "VkciV-MIzrtt"
      }
    },
    {
      "cell_type": "code",
      "source": [
        "#create\n",
        "#acess\n",
        "#edit\n",
        "#add\n",
        "#delete\n",
        "#oparations\n",
        "#functions"
      ],
      "metadata": {
        "id": "27AaBHQ_zubJ"
      },
      "execution_count": 110,
      "outputs": []
    },
    {
      "cell_type": "code",
      "source": [
        "#creating tuple\n",
        "#empty tuple\n",
        "tuple=()\n",
        "type(tuple)"
      ],
      "metadata": {
        "id": "7LX0wxRF-uma",
        "outputId": "ea3443e6-8613-4b67-ee12-a2ea7f654e7f",
        "colab": {
          "base_uri": "https://localhost:8080/"
        }
      },
      "execution_count": 113,
      "outputs": [
        {
          "output_type": "execute_result",
          "data": {
            "text/plain": [
              "tuple"
            ]
          },
          "metadata": {},
          "execution_count": 113
        }
      ]
    },
    {
      "cell_type": "code",
      "source": [
        "omkar=1,2,3,4\n",
        "type(omkar)"
      ],
      "metadata": {
        "id": "QJOnYWdF-2qV",
        "outputId": "23bdd8ba-14df-46cf-e5f1-949cfe242bbb",
        "colab": {
          "base_uri": "https://localhost:8080/"
        }
      },
      "execution_count": 115,
      "outputs": [
        {
          "output_type": "execute_result",
          "data": {
            "text/plain": [
              "tuple"
            ]
          },
          "metadata": {},
          "execution_count": 115
        }
      ]
    },
    {
      "cell_type": "code",
      "source": [
        "# Creating a tuple with only one element\n",
        "omkara=(1)\n",
        "type(omkara)"
      ],
      "metadata": {
        "id": "INH1kpFc_NWA",
        "outputId": "a9e0a2d4-c46e-443c-d1e3-5c8edeb9703d",
        "colab": {
          "base_uri": "https://localhost:8080/"
        }
      },
      "execution_count": 120,
      "outputs": [
        {
          "output_type": "execute_result",
          "data": {
            "text/plain": [
              "int"
            ]
          },
          "metadata": {},
          "execution_count": 120
        }
      ]
    },
    {
      "cell_type": "code",
      "source": [
        "omkarra=(1,)\n",
        "type(omkarra)"
      ],
      "metadata": {
        "id": "tzP80vmf_TGJ",
        "outputId": "13f82556-c310-4694-e1ac-cc12ac9cfdff",
        "colab": {
          "base_uri": "https://localhost:8080/"
        }
      },
      "execution_count": 121,
      "outputs": [
        {
          "output_type": "execute_result",
          "data": {
            "text/plain": [
              "tuple"
            ]
          },
          "metadata": {},
          "execution_count": 121
        }
      ]
    },
    {
      "cell_type": "code",
      "source": [
        "tuplee=(omkar,)\n",
        "type(tuplee)"
      ],
      "metadata": {
        "id": "7RBWNRg8_k3Q",
        "outputId": "f8dff016-680a-46d8-bac0-56e335e59382",
        "colab": {
          "base_uri": "https://localhost:8080/"
        }
      },
      "execution_count": 122,
      "outputs": [
        {
          "output_type": "execute_result",
          "data": {
            "text/plain": [
              "tuple"
            ]
          },
          "metadata": {},
          "execution_count": 122
        }
      ]
    },
    {
      "cell_type": "code",
      "source": [
        "\n",
        "omkarr=1,\n",
        "type(omkarr)"
      ],
      "metadata": {
        "id": "yWxX7TXa_AZj",
        "outputId": "b2a246ac-6da2-4946-d2d4-b4c72564562a",
        "colab": {
          "base_uri": "https://localhost:8080/"
        }
      },
      "execution_count": 118,
      "outputs": [
        {
          "output_type": "execute_result",
          "data": {
            "text/plain": [
              "tuple"
            ]
          },
          "metadata": {},
          "execution_count": 118
        }
      ]
    },
    {
      "cell_type": "code",
      "source": [
        "# creating tuples using type conversion\n",
        "T6=tuple(\"Goa\")"
      ],
      "metadata": {
        "id": "8gInzAVu_GAf"
      },
      "execution_count": 1,
      "outputs": []
    },
    {
      "cell_type": "code",
      "source": [
        "T6"
      ],
      "metadata": {
        "id": "YsSt35mGAAeI",
        "outputId": "b2851719-8bc8-4d8a-acf8-7cd29e68c0ff",
        "colab": {
          "base_uri": "https://localhost:8080/"
        }
      },
      "execution_count": 2,
      "outputs": [
        {
          "output_type": "execute_result",
          "data": {
            "text/plain": [
              "('G', 'o', 'a')"
            ]
          },
          "metadata": {},
          "execution_count": 2
        }
      ]
    },
    {
      "cell_type": "code",
      "source": [
        "T5=tuple({1,2,3,4,5,6})"
      ],
      "metadata": {
        "id": "WT40qLLTBrPB"
      },
      "execution_count": 3,
      "outputs": []
    },
    {
      "cell_type": "code",
      "source": [
        "T5"
      ],
      "metadata": {
        "id": "MRYFPuY-BwY3",
        "outputId": "3f7f4057-2cb5-4604-f31a-8cc1947ee6e0",
        "colab": {
          "base_uri": "https://localhost:8080/"
        }
      },
      "execution_count": 4,
      "outputs": [
        {
          "output_type": "execute_result",
          "data": {
            "text/plain": [
              "(1, 2, 3, 4, 5, 6)"
            ]
          },
          "metadata": {},
          "execution_count": 4
        }
      ]
    },
    {
      "cell_type": "code",
      "source": [
        "T5[0]"
      ],
      "metadata": {
        "id": "ATqlX-POBxPu",
        "outputId": "0b425b04-7ed7-430f-945b-e5196a066199",
        "colab": {
          "base_uri": "https://localhost:8080/"
        }
      },
      "execution_count": 6,
      "outputs": [
        {
          "output_type": "execute_result",
          "data": {
            "text/plain": [
              "1"
            ]
          },
          "metadata": {},
          "execution_count": 6
        }
      ]
    },
    {
      "cell_type": "code",
      "source": [
        "# Difference between list and tuple- \n",
        "#- we cant edit tuple elements.(cant add elements or alter elements from tuple)\n",
        "#- single item lists and single item tuples defining is different. ( we need extra comma in tuples).\n",
        "#- brackets are different for both"
      ],
      "metadata": {
        "id": "F-eVWbAZBzQ4"
      },
      "execution_count": 9,
      "outputs": []
    },
    {
      "cell_type": "code",
      "source": [
        "# Deleting ( we can completely delete a tuple, but cant delete a single element of a tuple)"
      ],
      "metadata": {
        "id": "87yui_DoB9mH"
      },
      "execution_count": 10,
      "outputs": []
    },
    {
      "cell_type": "code",
      "source": [
        "del T5[0]"
      ],
      "metadata": {
        "id": "CgkU1rN_CorR",
        "outputId": "6baa1838-0ea1-4551-890e-4f7d908ac7ea",
        "colab": {
          "base_uri": "https://localhost:8080/",
          "height": 165
        }
      },
      "execution_count": 11,
      "outputs": [
        {
          "output_type": "error",
          "ename": "TypeError",
          "evalue": "ignored",
          "traceback": [
            "\u001b[0;31m---------------------------------------------------------------------------\u001b[0m",
            "\u001b[0;31mTypeError\u001b[0m                                 Traceback (most recent call last)",
            "\u001b[0;32m<ipython-input-11-dd9a4c52f885>\u001b[0m in \u001b[0;36m<module>\u001b[0;34m()\u001b[0m\n\u001b[0;32m----> 1\u001b[0;31m \u001b[0;32mdel\u001b[0m \u001b[0mT5\u001b[0m\u001b[0;34m[\u001b[0m\u001b[0;36m0\u001b[0m\u001b[0;34m]\u001b[0m\u001b[0;34m\u001b[0m\u001b[0;34m\u001b[0m\u001b[0m\n\u001b[0m",
            "\u001b[0;31mTypeError\u001b[0m: 'tuple' object doesn't support item deletion"
          ]
        }
      ]
    },
    {
      "cell_type": "code",
      "source": [
        "del T5"
      ],
      "metadata": {
        "id": "NsY8ax1UCta8"
      },
      "execution_count": 12,
      "outputs": []
    },
    {
      "cell_type": "code",
      "source": [
        "# Oparations\n",
        "T3=(1,2,3,4,5)\n",
        "T4=(2,3,4,5,6,7)"
      ],
      "metadata": {
        "id": "wyIuKahxCuQk"
      },
      "execution_count": 15,
      "outputs": []
    },
    {
      "cell_type": "code",
      "source": [
        "# concatenation\n",
        "T3+T4"
      ],
      "metadata": {
        "id": "RoHU5Gz_Cv8g",
        "outputId": "af053e59-217a-45ae-c591-0221677841f1",
        "colab": {
          "base_uri": "https://localhost:8080/"
        }
      },
      "execution_count": 20,
      "outputs": [
        {
          "output_type": "execute_result",
          "data": {
            "text/plain": [
              "(1, 2, 3, 4, 5, 2, 3, 4, 5, 6, 7)"
            ]
          },
          "metadata": {},
          "execution_count": 20
        }
      ]
    },
    {
      "cell_type": "code",
      "source": [
        "# Multiplication\n",
        "T3*3"
      ],
      "metadata": {
        "id": "O5cY8kb2C6Mr",
        "outputId": "4f2b8032-4a10-470c-cd18-9f9a61e13fde",
        "colab": {
          "base_uri": "https://localhost:8080/"
        }
      },
      "execution_count": 21,
      "outputs": [
        {
          "output_type": "execute_result",
          "data": {
            "text/plain": [
              "(1, 2, 3, 4, 5, 1, 2, 3, 4, 5, 1, 2, 3, 4, 5)"
            ]
          },
          "metadata": {},
          "execution_count": 21
        }
      ]
    },
    {
      "cell_type": "code",
      "source": [
        "# running a loop\n",
        "for i in T3:\n",
        "  print(\"Heelo\")"
      ],
      "metadata": {
        "id": "P9cSYJaAC9lj",
        "outputId": "ca0eb73f-2fdd-4180-f5d8-37f54093f734",
        "colab": {
          "base_uri": "https://localhost:8080/"
        }
      },
      "execution_count": 23,
      "outputs": [
        {
          "output_type": "stream",
          "name": "stdout",
          "text": [
            "Heelo\n",
            "Heelo\n",
            "Heelo\n",
            "Heelo\n",
            "Heelo\n"
          ]
        }
      ]
    },
    {
      "cell_type": "code",
      "source": [
        "# membership operator\n",
        "3 in T3"
      ],
      "metadata": {
        "id": "iiqmATWdDJ6L",
        "outputId": "cafccf3a-171a-4fda-b42a-fc62316d94d9",
        "colab": {
          "base_uri": "https://localhost:8080/"
        }
      },
      "execution_count": 24,
      "outputs": [
        {
          "output_type": "execute_result",
          "data": {
            "text/plain": [
              "True"
            ]
          },
          "metadata": {},
          "execution_count": 24
        }
      ]
    },
    {
      "cell_type": "code",
      "source": [
        "len(T3)"
      ],
      "metadata": {
        "id": "oleIL7NLDQee",
        "outputId": "a47d545f-4a5f-45ac-a00e-c1d28110e3c0",
        "colab": {
          "base_uri": "https://localhost:8080/"
        }
      },
      "execution_count": 25,
      "outputs": [
        {
          "output_type": "execute_result",
          "data": {
            "text/plain": [
              "5"
            ]
          },
          "metadata": {},
          "execution_count": 25
        }
      ]
    },
    {
      "cell_type": "code",
      "source": [
        "min(T3)"
      ],
      "metadata": {
        "id": "zE5zpoZ0DVF_",
        "outputId": "27ab4bbe-73f7-4fdd-c107-7d5877ef5460",
        "colab": {
          "base_uri": "https://localhost:8080/"
        }
      },
      "execution_count": 26,
      "outputs": [
        {
          "output_type": "execute_result",
          "data": {
            "text/plain": [
              "1"
            ]
          },
          "metadata": {},
          "execution_count": 26
        }
      ]
    },
    {
      "cell_type": "code",
      "source": [
        "max(T3)"
      ],
      "metadata": {
        "id": "Qhr2HOKBDVt5",
        "outputId": "b9700fb3-8376-4830-cdd8-3df14aed896b",
        "colab": {
          "base_uri": "https://localhost:8080/"
        }
      },
      "execution_count": 27,
      "outputs": [
        {
          "output_type": "execute_result",
          "data": {
            "text/plain": [
              "5"
            ]
          },
          "metadata": {},
          "execution_count": 27
        }
      ]
    },
    {
      "cell_type": "code",
      "source": [
        "sorted(T3)\n",
        "# Sorted funciton converts tuple into a list"
      ],
      "metadata": {
        "id": "vQj1JTOVDW4M",
        "outputId": "d77873d1-25b4-4530-96d7-03343fa5effa",
        "colab": {
          "base_uri": "https://localhost:8080/"
        }
      },
      "execution_count": 29,
      "outputs": [
        {
          "output_type": "execute_result",
          "data": {
            "text/plain": [
              "[1, 2, 3, 4, 5]"
            ]
          },
          "metadata": {},
          "execution_count": 29
        }
      ]
    },
    {
      "cell_type": "code",
      "source": [
        "sorted(T3, reverse= True)"
      ],
      "metadata": {
        "id": "czD7fFkTDX1U",
        "outputId": "f8d1c44f-2165-4269-8ef4-2dd317e25c5d",
        "colab": {
          "base_uri": "https://localhost:8080/"
        }
      },
      "execution_count": 30,
      "outputs": [
        {
          "output_type": "execute_result",
          "data": {
            "text/plain": [
              "[5, 4, 3, 2, 1]"
            ]
          },
          "metadata": {},
          "execution_count": 30
        }
      ]
    },
    {
      "cell_type": "code",
      "source": [
        "# Difference in tuple sand list\n",
        "# tuples are immutable\n",
        "# \"write\" opearations wont work on tuples.\n",
        "# tuples are read only data types\n",
        "# used where data integritiy is imporatant"
      ],
      "metadata": {
        "id": "VqiKutJGDiCe"
      },
      "execution_count": 31,
      "outputs": []
    },
    {
      "cell_type": "markdown",
      "source": [
        "# Sets"
      ],
      "metadata": {
        "id": "vbY_FGHmEHnE"
      }
    },
    {
      "cell_type": "code",
      "source": [
        "# Rule 1. sets do not allow duplictes\n",
        "# Rule 2. Sets do not have indexing or slicing\n",
        "# Rule 3. Sets do not allow mutable data types to be an element of sets.\n",
        "# Rule 4. Set itself is a mutable data type"
      ],
      "metadata": {
        "id": "tSaUlNM1D-sU"
      },
      "execution_count": 1,
      "outputs": []
    },
    {
      "cell_type": "code",
      "source": [
        "\n",
        "#create set"
      ],
      "metadata": {
        "id": "UA9SOqK6paSB"
      },
      "execution_count": 9,
      "outputs": []
    },
    {
      "cell_type": "code",
      "source": [
        "set_create={}"
      ],
      "metadata": {
        "id": "4VtKMak8rRQw"
      },
      "execution_count": 10,
      "outputs": []
    },
    {
      "cell_type": "code",
      "source": [
        "type(set_create)"
      ],
      "metadata": {
        "id": "enLZTqW6rTUv",
        "outputId": "e69e670b-9b1c-4e26-87ed-dc1544896620",
        "colab": {
          "base_uri": "https://localhost:8080/"
        }
      },
      "execution_count": 11,
      "outputs": [
        {
          "output_type": "execute_result",
          "data": {
            "text/plain": [
              "dict"
            ]
          },
          "metadata": {},
          "execution_count": 11
        }
      ]
    },
    {
      "cell_type": "code",
      "source": [
        "my_set=set()"
      ],
      "metadata": {
        "id": "MXy0BmfrrUzF"
      },
      "execution_count": 13,
      "outputs": []
    },
    {
      "cell_type": "code",
      "source": [
        "s3={1,2,3,3,3,3}\n",
        "print(s3)\n",
        "s4={\"omkar\",1,2,3,(\"ji\",5,3)}\n",
        "print(type(s4))"
      ],
      "metadata": {
        "id": "RahrUhpYt-6A",
        "outputId": "71b0dcd5-2f5a-428a-95e9-f206a3db124b",
        "colab": {
          "base_uri": "https://localhost:8080/"
        }
      },
      "execution_count": 19,
      "outputs": [
        {
          "output_type": "stream",
          "name": "stdout",
          "text": [
            "{1, 2, 3}\n",
            "<class 'set'>\n"
          ]
        }
      ]
    },
    {
      "cell_type": "code",
      "source": [
        "s5={1,2,3,\"string\",[1,2,\"list\"]}"
      ],
      "metadata": {
        "id": "h1wCm8kFuNx7",
        "outputId": "c785e045-5672-405f-944e-996d3403e459",
        "colab": {
          "base_uri": "https://localhost:8080/",
          "height": 165
        }
      },
      "execution_count": 20,
      "outputs": [
        {
          "output_type": "error",
          "ename": "TypeError",
          "evalue": "ignored",
          "traceback": [
            "\u001b[0;31m---------------------------------------------------------------------------\u001b[0m",
            "\u001b[0;31mTypeError\u001b[0m                                 Traceback (most recent call last)",
            "\u001b[0;32m<ipython-input-20-79cfaab7a122>\u001b[0m in \u001b[0;36m<module>\u001b[0;34m()\u001b[0m\n\u001b[0;32m----> 1\u001b[0;31m \u001b[0ms5\u001b[0m\u001b[0;34m=\u001b[0m\u001b[0;34m{\u001b[0m\u001b[0;36m1\u001b[0m\u001b[0;34m,\u001b[0m\u001b[0;36m2\u001b[0m\u001b[0;34m,\u001b[0m\u001b[0;36m3\u001b[0m\u001b[0;34m,\u001b[0m\u001b[0;34m\"string\"\u001b[0m\u001b[0;34m,\u001b[0m\u001b[0;34m[\u001b[0m\u001b[0;36m1\u001b[0m\u001b[0;34m,\u001b[0m\u001b[0;36m2\u001b[0m\u001b[0;34m,\u001b[0m\u001b[0;34m\"list\"\u001b[0m\u001b[0;34m]\u001b[0m\u001b[0;34m}\u001b[0m\u001b[0;34m\u001b[0m\u001b[0;34m\u001b[0m\u001b[0m\n\u001b[0m",
            "\u001b[0;31mTypeError\u001b[0m: unhashable type: 'list'"
          ]
        }
      ]
    },
    {
      "cell_type": "markdown",
      "source": [
        "Multidimensional sets are also not possible, because we canit have set inside set, as set is a mutable data type"
      ],
      "metadata": {
        "id": "bAFjUZH4uhfT"
      }
    },
    {
      "cell_type": "code",
      "source": [
        "# accessing items"
      ],
      "metadata": {
        "id": "Ue90C0pKuPXY"
      },
      "execution_count": 21,
      "outputs": []
    },
    {
      "cell_type": "code",
      "source": [
        "s3[0]"
      ],
      "metadata": {
        "id": "nMF4lsYvutxu",
        "outputId": "8a30f3c4-6204-4875-825d-68bbeefe19ce",
        "colab": {
          "base_uri": "https://localhost:8080/",
          "height": 165
        }
      },
      "execution_count": 22,
      "outputs": [
        {
          "output_type": "error",
          "ename": "TypeError",
          "evalue": "ignored",
          "traceback": [
            "\u001b[0;31m---------------------------------------------------------------------------\u001b[0m",
            "\u001b[0;31mTypeError\u001b[0m                                 Traceback (most recent call last)",
            "\u001b[0;32m<ipython-input-22-e48481fcb92e>\u001b[0m in \u001b[0;36m<module>\u001b[0;34m()\u001b[0m\n\u001b[0;32m----> 1\u001b[0;31m \u001b[0ms3\u001b[0m\u001b[0;34m[\u001b[0m\u001b[0;36m0\u001b[0m\u001b[0;34m]\u001b[0m\u001b[0;34m\u001b[0m\u001b[0;34m\u001b[0m\u001b[0m\n\u001b[0m",
            "\u001b[0;31mTypeError\u001b[0m: 'set' object is not subscriptable"
          ]
        }
      ]
    },
    {
      "cell_type": "code",
      "source": [
        "# we caanot access items from a set"
      ],
      "metadata": {
        "id": "eZzyPcomuvTt"
      },
      "execution_count": 23,
      "outputs": []
    },
    {
      "cell_type": "code",
      "source": [
        "# adding items in a set\n",
        "s3.add(5)\n",
        "print(s3)"
      ],
      "metadata": {
        "id": "wbapkV0Huy6r",
        "outputId": "6534ea2a-6e15-4dc9-aea3-af455d29b489",
        "colab": {
          "base_uri": "https://localhost:8080/"
        }
      },
      "execution_count": 29,
      "outputs": [
        {
          "output_type": "stream",
          "name": "stdout",
          "text": [
            "{1, 2, 3, 5}\n"
          ]
        }
      ]
    },
    {
      "cell_type": "code",
      "source": [
        "# Delete"
      ],
      "metadata": {
        "id": "yEeKoJr1u25n"
      },
      "execution_count": 30,
      "outputs": []
    },
    {
      "cell_type": "markdown",
      "source": [
        "we can delete by del, remove, pop"
      ],
      "metadata": {
        "id": "fRUSfZhWvNkQ"
      }
    },
    {
      "cell_type": "code",
      "source": [
        "#del"
      ],
      "metadata": {
        "id": "GuZYLJUovlZr"
      },
      "execution_count": null,
      "outputs": []
    },
    {
      "cell_type": "code",
      "source": [
        "s3"
      ],
      "metadata": {
        "id": "6i2f_YZsvKf9",
        "outputId": "d7c898bf-010b-445c-c7b3-36a8d157c429",
        "colab": {
          "base_uri": "https://localhost:8080/"
        }
      },
      "execution_count": 31,
      "outputs": [
        {
          "output_type": "execute_result",
          "data": {
            "text/plain": [
              "{1, 2, 3, 5}"
            ]
          },
          "metadata": {},
          "execution_count": 31
        }
      ]
    },
    {
      "cell_type": "code",
      "source": [
        "del s3"
      ],
      "metadata": {
        "id": "wBr9Z-ByvT9W"
      },
      "execution_count": 32,
      "outputs": []
    },
    {
      "cell_type": "code",
      "source": [
        "s3"
      ],
      "metadata": {
        "id": "hcjFSGnVvX8U",
        "outputId": "0bfa4653-8414-41a5-a032-c305bdbe26a2",
        "colab": {
          "base_uri": "https://localhost:8080/",
          "height": 165
        }
      },
      "execution_count": 33,
      "outputs": [
        {
          "output_type": "error",
          "ename": "NameError",
          "evalue": "ignored",
          "traceback": [
            "\u001b[0;31m---------------------------------------------------------------------------\u001b[0m",
            "\u001b[0;31mNameError\u001b[0m                                 Traceback (most recent call last)",
            "\u001b[0;32m<ipython-input-33-99e5fac9ea42>\u001b[0m in \u001b[0;36m<module>\u001b[0;34m()\u001b[0m\n\u001b[0;32m----> 1\u001b[0;31m \u001b[0ms3\u001b[0m\u001b[0;34m\u001b[0m\u001b[0;34m\u001b[0m\u001b[0m\n\u001b[0m",
            "\u001b[0;31mNameError\u001b[0m: name 's3' is not defined"
          ]
        }
      ]
    },
    {
      "cell_type": "code",
      "source": [
        "#remove"
      ],
      "metadata": {
        "id": "okJnmNHUvoAr"
      },
      "execution_count": 37,
      "outputs": []
    },
    {
      "cell_type": "code",
      "source": [
        "s4"
      ],
      "metadata": {
        "id": "5gvW30GFvZCW",
        "outputId": "b2735851-7c8c-4740-feb8-86d25df6f363",
        "colab": {
          "base_uri": "https://localhost:8080/"
        }
      },
      "execution_count": 34,
      "outputs": [
        {
          "output_type": "execute_result",
          "data": {
            "text/plain": [
              "{('ji', 5, 3), 1, 2, 3, 'omkar'}"
            ]
          },
          "metadata": {},
          "execution_count": 34
        }
      ]
    },
    {
      "cell_type": "code",
      "source": [
        "s4.remove(\"omkar\")"
      ],
      "metadata": {
        "id": "D73VctT6ve2D"
      },
      "execution_count": 35,
      "outputs": []
    },
    {
      "cell_type": "code",
      "source": [
        "s4"
      ],
      "metadata": {
        "id": "szETkaCJvggb",
        "outputId": "a2d17ebc-2ca7-4a84-dcb3-275c7fbd57c5",
        "colab": {
          "base_uri": "https://localhost:8080/"
        }
      },
      "execution_count": 36,
      "outputs": [
        {
          "output_type": "execute_result",
          "data": {
            "text/plain": [
              "{('ji', 5, 3), 1, 2, 3}"
            ]
          },
          "metadata": {},
          "execution_count": 36
        }
      ]
    },
    {
      "cell_type": "code",
      "source": [
        "#pop - in set elements are arranges inside according to hashing logic. Pop will get us the last element ordered according to hashing"
      ],
      "metadata": {
        "id": "A7vmA108vhZC"
      },
      "execution_count": 39,
      "outputs": []
    },
    {
      "cell_type": "code",
      "source": [
        "s4.pop()"
      ],
      "metadata": {
        "id": "UeWlRhuLvr_V",
        "outputId": "afe1746a-c424-445d-b5b2-843407b3fcab",
        "colab": {
          "base_uri": "https://localhost:8080/"
        }
      },
      "execution_count": 40,
      "outputs": [
        {
          "output_type": "execute_result",
          "data": {
            "text/plain": [
              "1"
            ]
          },
          "metadata": {},
          "execution_count": 40
        }
      ]
    },
    {
      "cell_type": "code",
      "source": [
        "# set operations"
      ],
      "metadata": {
        "id": "P6H5K26Rv5dF"
      },
      "execution_count": 41,
      "outputs": []
    },
    {
      "cell_type": "code",
      "source": [
        "s1={1,2,3,4,5}\n",
        "s2={3,10000,5,6,8}\n",
        "# we cant concatenate in sets, we cant multiply sets.\n",
        "# but we can run loops according to elemments in sets\n",
        "for elem in s2:\n",
        "  print(elem)"
      ],
      "metadata": {
        "id": "dcgTE_buv-mF",
        "outputId": "dc775622-bddc-45e3-b7c1-7c16c295d3af",
        "colab": {
          "base_uri": "https://localhost:8080/"
        }
      },
      "execution_count": 44,
      "outputs": [
        {
          "output_type": "stream",
          "name": "stdout",
          "text": [
            "3\n",
            "5\n",
            "6\n",
            "8\n",
            "10000\n"
          ]
        }
      ]
    },
    {
      "cell_type": "code",
      "source": [
        "# membership operation in sets\n",
        "10000 in s2"
      ],
      "metadata": {
        "id": "39CM6wi5wSH9",
        "outputId": "7ee0781a-90ad-4178-92f4-463bbbb1b368",
        "colab": {
          "base_uri": "https://localhost:8080/"
        }
      },
      "execution_count": 45,
      "outputs": [
        {
          "output_type": "execute_result",
          "data": {
            "text/plain": [
              "True"
            ]
          },
          "metadata": {},
          "execution_count": 45
        }
      ]
    },
    {
      "cell_type": "code",
      "source": [
        "# functions"
      ],
      "metadata": {
        "id": "8TI4d_aiwdLZ"
      },
      "execution_count": 46,
      "outputs": []
    },
    {
      "cell_type": "code",
      "source": [
        "len(s2)"
      ],
      "metadata": {
        "id": "vF7AK9SP1VgA",
        "outputId": "9f9fcee7-f044-4882-a9ad-6691ff220873",
        "colab": {
          "base_uri": "https://localhost:8080/"
        }
      },
      "execution_count": 47,
      "outputs": [
        {
          "output_type": "execute_result",
          "data": {
            "text/plain": [
              "5"
            ]
          },
          "metadata": {},
          "execution_count": 47
        }
      ]
    },
    {
      "cell_type": "code",
      "source": [
        "min(s2)"
      ],
      "metadata": {
        "id": "EP8GHD2n1WFY",
        "outputId": "4a844650-4a3a-466c-84ba-29f7beaf994f",
        "colab": {
          "base_uri": "https://localhost:8080/"
        }
      },
      "execution_count": 65,
      "outputs": [
        {
          "output_type": "execute_result",
          "data": {
            "text/plain": [
              "3"
            ]
          },
          "metadata": {},
          "execution_count": 65
        }
      ]
    },
    {
      "cell_type": "code",
      "source": [
        "max(s2)"
      ],
      "metadata": {
        "id": "6mbgq4dH1W5R",
        "outputId": "00566481-96db-4be9-fd86-fba34b9adb66",
        "colab": {
          "base_uri": "https://localhost:8080/"
        }
      },
      "execution_count": 49,
      "outputs": [
        {
          "output_type": "execute_result",
          "data": {
            "text/plain": [
              "10000"
            ]
          },
          "metadata": {},
          "execution_count": 49
        }
      ]
    },
    {
      "cell_type": "code",
      "source": [
        "sum(s2)"
      ],
      "metadata": {
        "id": "8jkVD0eF1X0n",
        "outputId": "b341fd03-7faa-4ffc-bab9-fd0553e1a817",
        "colab": {
          "base_uri": "https://localhost:8080/"
        }
      },
      "execution_count": 50,
      "outputs": [
        {
          "output_type": "execute_result",
          "data": {
            "text/plain": [
              "10022"
            ]
          },
          "metadata": {},
          "execution_count": 50
        }
      ]
    },
    {
      "cell_type": "code",
      "source": [
        "sorted(s2)"
      ],
      "metadata": {
        "id": "VBtOCfSj1Yet",
        "outputId": "2716ffb8-ee79-45c6-8b1d-8deb59a29bf8",
        "colab": {
          "base_uri": "https://localhost:8080/"
        }
      },
      "execution_count": 51,
      "outputs": [
        {
          "output_type": "execute_result",
          "data": {
            "text/plain": [
              "[3, 5, 6, 8, 10000]"
            ]
          },
          "metadata": {},
          "execution_count": 51
        }
      ]
    },
    {
      "cell_type": "code",
      "source": [
        "s1.union(s2)"
      ],
      "metadata": {
        "id": "xpSZuhfs1Z6L",
        "outputId": "42a28e3f-5c7e-4489-d432-3c6d32df5fa9",
        "colab": {
          "base_uri": "https://localhost:8080/"
        }
      },
      "execution_count": 52,
      "outputs": [
        {
          "output_type": "execute_result",
          "data": {
            "text/plain": [
              "{1, 2, 3, 4, 5, 6, 8, 10000}"
            ]
          },
          "metadata": {},
          "execution_count": 52
        }
      ]
    },
    {
      "cell_type": "code",
      "source": [
        "s1.intersection(s2)"
      ],
      "metadata": {
        "id": "TQB2GhpF1eVq",
        "outputId": "8256d063-ec3c-49c6-cc3e-3508acfacce8",
        "colab": {
          "base_uri": "https://localhost:8080/"
        }
      },
      "execution_count": 53,
      "outputs": [
        {
          "output_type": "execute_result",
          "data": {
            "text/plain": [
              "{3, 5}"
            ]
          },
          "metadata": {},
          "execution_count": 53
        }
      ]
    },
    {
      "cell_type": "code",
      "source": [
        "s1.difference(s2)"
      ],
      "metadata": {
        "id": "RAoNGxKQ1fxA",
        "outputId": "4d9b1ed4-444c-4cb4-ba36-f799224837e0",
        "colab": {
          "base_uri": "https://localhost:8080/"
        }
      },
      "execution_count": 54,
      "outputs": [
        {
          "output_type": "execute_result",
          "data": {
            "text/plain": [
              "{1, 2, 4}"
            ]
          },
          "metadata": {},
          "execution_count": 54
        }
      ]
    },
    {
      "cell_type": "code",
      "source": [
        "s2.difference(s1)"
      ],
      "metadata": {
        "id": "gPq5X-1X1hJ2",
        "outputId": "2f5b1e78-b5b7-4642-e4d9-3894b9233f9f",
        "colab": {
          "base_uri": "https://localhost:8080/"
        }
      },
      "execution_count": 55,
      "outputs": [
        {
          "output_type": "execute_result",
          "data": {
            "text/plain": [
              "{6, 8, 10000}"
            ]
          },
          "metadata": {},
          "execution_count": 55
        }
      ]
    },
    {
      "cell_type": "code",
      "source": [
        "s1.symmetric_difference(s2)"
      ],
      "metadata": {
        "id": "DdIxYxGC1jnN",
        "outputId": "8a1468c1-291b-4b34-99e7-cc09c97048cd",
        "colab": {
          "base_uri": "https://localhost:8080/"
        }
      },
      "execution_count": 64,
      "outputs": [
        {
          "output_type": "execute_result",
          "data": {
            "text/plain": [
              "{1, 2, 4, 6, 8, 10000}"
            ]
          },
          "metadata": {},
          "execution_count": 64
        }
      ]
    },
    {
      "cell_type": "code",
      "source": [
        "s1.isdisjoint(s2)"
      ],
      "metadata": {
        "id": "HQf-YY-61mEQ",
        "outputId": "533d7f11-72bf-4a64-f6a1-c79c76581e42",
        "colab": {
          "base_uri": "https://localhost:8080/"
        }
      },
      "execution_count": 62,
      "outputs": [
        {
          "output_type": "execute_result",
          "data": {
            "text/plain": [
              "False"
            ]
          },
          "metadata": {},
          "execution_count": 62
        }
      ]
    },
    {
      "cell_type": "code",
      "source": [
        "s1.issubset(s2)"
      ],
      "metadata": {
        "id": "ism_qCTB1oPq",
        "outputId": "3c482969-7f15-4c13-ff97-48d53257f0df",
        "colab": {
          "base_uri": "https://localhost:8080/"
        }
      },
      "execution_count": 59,
      "outputs": [
        {
          "output_type": "execute_result",
          "data": {
            "text/plain": [
              "False"
            ]
          },
          "metadata": {},
          "execution_count": 59
        }
      ]
    },
    {
      "cell_type": "code",
      "source": [
        "s1.issuperset(s2)"
      ],
      "metadata": {
        "id": "-MoP-nSe1qFk",
        "outputId": "59d6c0bc-8701-4e90-ef08-4c7138395de1",
        "colab": {
          "base_uri": "https://localhost:8080/"
        }
      },
      "execution_count": 60,
      "outputs": [
        {
          "output_type": "execute_result",
          "data": {
            "text/plain": [
              "False"
            ]
          },
          "metadata": {},
          "execution_count": 60
        }
      ]
    },
    {
      "cell_type": "code",
      "source": [
        "s1.clear()"
      ],
      "metadata": {
        "id": "Wpof9Qvg2Gqj"
      },
      "execution_count": 66,
      "outputs": []
    },
    {
      "cell_type": "code",
      "source": [
        "s1"
      ],
      "metadata": {
        "id": "tCBqNymB2IPD",
        "outputId": "8b91265d-3d4d-4edf-c4e4-836fe891f43d",
        "colab": {
          "base_uri": "https://localhost:8080/"
        }
      },
      "execution_count": 67,
      "outputs": [
        {
          "output_type": "execute_result",
          "data": {
            "text/plain": [
              "set()"
            ]
          },
          "metadata": {},
          "execution_count": 67
        }
      ]
    },
    {
      "cell_type": "markdown",
      "source": [
        "# Dictionary"
      ],
      "metadata": {
        "id": "nlr0jpS72CGT"
      }
    },
    {
      "cell_type": "code",
      "source": [
        "d={\"name\":\"omkar\",\"age\":\"24\"}\n",
        "# Rule 1 : Dictionary has no indexing\n",
        "# Rule 2 : Dictionaty is  mutable  \n",
        "# Rule 3 : \"Keys\" are immutable i.e.(a list or dictionary caanit be a key. Only immutable data structures can be a key of dictionary like string,tuple and values can be mutable or immutable.\n",
        "# Rule 4 : Keys should be \"unique\""
      ],
      "metadata": {
        "id": "Xa2zFFNr1uhg"
      },
      "execution_count": 78,
      "outputs": []
    },
    {
      "cell_type": "code",
      "source": [
        "# create empty dictionay\n",
        "dict={}\n",
        "type(dict)"
      ],
      "metadata": {
        "id": "495FF5DyBH6j",
        "outputId": "ee542500-58ae-49a3-d4d5-0ff3ea76fd3b",
        "colab": {
          "base_uri": "https://localhost:8080/"
        }
      },
      "execution_count": 72,
      "outputs": [
        {
          "output_type": "execute_result",
          "data": {
            "text/plain": [
              "dict"
            ]
          },
          "metadata": {},
          "execution_count": 72
        }
      ]
    },
    {
      "cell_type": "code",
      "source": [
        "d['name']"
      ],
      "metadata": {
        "id": "p4Fhhl4rBN8g",
        "outputId": "2c0da1a0-6242-4deb-913a-082897062b82",
        "colab": {
          "base_uri": "https://localhost:8080/",
          "height": 36
        }
      },
      "execution_count": 74,
      "outputs": [
        {
          "output_type": "execute_result",
          "data": {
            "text/plain": [
              "'omkar'"
            ],
            "application/vnd.google.colaboratory.intrinsic+json": {
              "type": "string"
            }
          },
          "metadata": {},
          "execution_count": 74
        }
      ]
    },
    {
      "cell_type": "code",
      "source": [
        "d1={(1,2,3):\"ok\",\"this\":\"45\"}"
      ],
      "metadata": {
        "id": "FP6lob0GBoqM"
      },
      "execution_count": 76,
      "outputs": []
    },
    {
      "cell_type": "code",
      "source": [
        "d1[(1,2,3)]"
      ],
      "metadata": {
        "id": "gCPsLCuYB9Lq",
        "outputId": "c861ee76-6a2a-4dda-a9c3-00ca64ef8ca6",
        "colab": {
          "base_uri": "https://localhost:8080/",
          "height": 36
        }
      },
      "execution_count": 77,
      "outputs": [
        {
          "output_type": "execute_result",
          "data": {
            "text/plain": [
              "'ok'"
            ],
            "application/vnd.google.colaboratory.intrinsic+json": {
              "type": "string"
            }
          },
          "metadata": {},
          "execution_count": 77
        }
      ]
    },
    {
      "cell_type": "code",
      "source": [
        "d2={\"omk\":12,\"omk\":5000}"
      ],
      "metadata": {
        "id": "FfFXx76ZB-15"
      },
      "execution_count": 81,
      "outputs": []
    },
    {
      "cell_type": "code",
      "source": [
        "d2"
      ],
      "metadata": {
        "id": "xwC8nNJeJptj",
        "outputId": "cb6f5064-09a1-43e0-c3e8-aad77f9d9148",
        "colab": {
          "base_uri": "https://localhost:8080/"
        }
      },
      "execution_count": 82,
      "outputs": [
        {
          "output_type": "execute_result",
          "data": {
            "text/plain": [
              "{'omk': 5000}"
            ]
          },
          "metadata": {},
          "execution_count": 82
        }
      ]
    },
    {
      "cell_type": "code",
      "source": [
        "# if two keys are same, python assigns latest values to the key"
      ],
      "metadata": {
        "id": "04EKIBF3JqM6"
      },
      "execution_count": 83,
      "outputs": []
    },
    {
      "cell_type": "code",
      "source": [
        "# creating 2D dictionaries"
      ],
      "metadata": {
        "id": "B_3USBK0Jzo6"
      },
      "execution_count": 84,
      "outputs": []
    },
    {
      "cell_type": "code",
      "source": [
        "D3={\"name\":\"omkar\",\"college\":\"PVG\",\"Marks\":{\"m1\":10,\"s1\":23,\"f1\":67}}"
      ],
      "metadata": {
        "id": "4CRT2Qf_J4hR"
      },
      "execution_count": 85,
      "outputs": []
    },
    {
      "cell_type": "code",
      "source": [
        "D3['Marks']"
      ],
      "metadata": {
        "id": "ORbepL1vKJco",
        "outputId": "493e96a4-3ff4-406c-b4ec-d0838b14f83c",
        "colab": {
          "base_uri": "https://localhost:8080/"
        }
      },
      "execution_count": 88,
      "outputs": [
        {
          "output_type": "execute_result",
          "data": {
            "text/plain": [
              "{'f1': 67, 'm1': 10, 's1': 23}"
            ]
          },
          "metadata": {},
          "execution_count": 88
        }
      ]
    },
    {
      "cell_type": "code",
      "source": [
        "\n",
        "D3['Marks']['m1']"
      ],
      "metadata": {
        "id": "yHyGPWBkKLm1",
        "outputId": "9f7914d7-ec15-4fac-a655-4bc281dbac2a",
        "colab": {
          "base_uri": "https://localhost:8080/"
        }
      },
      "execution_count": 91,
      "outputs": [
        {
          "output_type": "execute_result",
          "data": {
            "text/plain": [
              "10"
            ]
          },
          "metadata": {},
          "execution_count": 91
        }
      ]
    },
    {
      "cell_type": "code",
      "source": [
        "# similar thing can be done using .get() method"
      ],
      "metadata": {
        "id": "C4YvZocWMDCi"
      },
      "execution_count": 92,
      "outputs": []
    },
    {
      "cell_type": "code",
      "source": [
        "D3.get(\"Marks\")"
      ],
      "metadata": {
        "id": "LarB6z1iMj2p",
        "outputId": "957efa98-bb16-46b3-d98e-0ed14c3c4da3",
        "colab": {
          "base_uri": "https://localhost:8080/"
        }
      },
      "execution_count": 93,
      "outputs": [
        {
          "output_type": "execute_result",
          "data": {
            "text/plain": [
              "{'f1': 67, 'm1': 10, 's1': 23}"
            ]
          },
          "metadata": {},
          "execution_count": 93
        }
      ]
    },
    {
      "cell_type": "code",
      "source": [
        "D3[\"Marks\"][\"z1\"]=500000"
      ],
      "metadata": {
        "id": "OvTaaeWwMmSR"
      },
      "execution_count": 94,
      "outputs": []
    },
    {
      "cell_type": "code",
      "source": [
        "D3"
      ],
      "metadata": {
        "id": "vq9mFDFNM6w0",
        "outputId": "c42dbbcb-c9c5-40a9-db13-b149d3fe21c2",
        "colab": {
          "base_uri": "https://localhost:8080/"
        }
      },
      "execution_count": 95,
      "outputs": [
        {
          "output_type": "execute_result",
          "data": {
            "text/plain": [
              "{'Marks': {'f1': 67, 'm1': 10, 's1': 23, 'z1': 500000},\n",
              " 'college': 'PVG',\n",
              " 'name': 'omkar'}"
            ]
          },
          "metadata": {},
          "execution_count": 95
        }
      ]
    },
    {
      "cell_type": "code",
      "source": [
        "# Delete"
      ],
      "metadata": {
        "id": "DcDVE6OlM7Xs"
      },
      "execution_count": 96,
      "outputs": []
    },
    {
      "cell_type": "code",
      "source": [
        "del D3[\"Marks\"]"
      ],
      "metadata": {
        "id": "8kKRscVxNBcf"
      },
      "execution_count": 98,
      "outputs": []
    },
    {
      "cell_type": "code",
      "source": [
        "D3"
      ],
      "metadata": {
        "id": "_Jv6M2TSNE-s",
        "outputId": "1a1caee8-c2f7-458b-b5ad-5e41c7a3840a",
        "colab": {
          "base_uri": "https://localhost:8080/"
        }
      },
      "execution_count": 99,
      "outputs": [
        {
          "output_type": "execute_result",
          "data": {
            "text/plain": [
              "{'college': 'PVG', 'name': 'omkar'}"
            ]
          },
          "metadata": {},
          "execution_count": 99
        }
      ]
    },
    {
      "cell_type": "code",
      "source": [
        "D3.clear()"
      ],
      "metadata": {
        "id": "WFT4Y8K9NIFU"
      },
      "execution_count": 100,
      "outputs": []
    },
    {
      "cell_type": "code",
      "source": [
        "D3"
      ],
      "metadata": {
        "id": "VJlP-9STNJE-",
        "outputId": "2005742a-7ba2-4672-f357-bafd4412f22f",
        "colab": {
          "base_uri": "https://localhost:8080/"
        }
      },
      "execution_count": 101,
      "outputs": [
        {
          "output_type": "execute_result",
          "data": {
            "text/plain": [
              "{}"
            ]
          },
          "metadata": {},
          "execution_count": 101
        }
      ]
    },
    {
      "cell_type": "code",
      "source": [
        "# Opeartions\n"
      ],
      "metadata": {
        "id": "DbVcPpfpNJ4b"
      },
      "execution_count": null,
      "outputs": []
    },
    {
      "cell_type": "code",
      "source": [
        "# we can run loops for dictionary elements"
      ],
      "metadata": {
        "id": "EbrnyQLcNOo3"
      },
      "execution_count": 102,
      "outputs": []
    },
    {
      "cell_type": "code",
      "source": [
        "D4={'ok':30,\"jk\":90,'dk':90}"
      ],
      "metadata": {
        "id": "ScM_oq6sNSy2"
      },
      "execution_count": 106,
      "outputs": []
    },
    {
      "cell_type": "code",
      "source": [
        "for elem in D4:\n",
        "  print(elem)\n",
        "# from this we get the keys for the dictionary"
      ],
      "metadata": {
        "id": "Ev0hsJelNaBe",
        "outputId": "8a7d4635-9d67-490d-e98f-4a12e15903d2",
        "colab": {
          "base_uri": "https://localhost:8080/"
        }
      },
      "execution_count": 107,
      "outputs": [
        {
          "output_type": "stream",
          "name": "stdout",
          "text": [
            "ok\n",
            "jk\n",
            "dk\n"
          ]
        }
      ]
    },
    {
      "cell_type": "code",
      "source": [
        "# By using loops iver dictionaries, we can run loops for keys of dictionaries"
      ],
      "metadata": {
        "id": "N-hjLXFnNcBf"
      },
      "execution_count": 108,
      "outputs": []
    },
    {
      "cell_type": "code",
      "source": [
        "for elem in D4:\n",
        "  print(D4[elem])\n",
        "# from this we can access values for the keys"
      ],
      "metadata": {
        "id": "fUlHuiivNoHe",
        "outputId": "5e6b93eb-dc53-4398-bd0b-bd4ae77a07f6",
        "colab": {
          "base_uri": "https://localhost:8080/"
        }
      },
      "execution_count": 112,
      "outputs": [
        {
          "output_type": "stream",
          "name": "stdout",
          "text": [
            "30\n",
            "90\n",
            "90\n"
          ]
        }
      ]
    },
    {
      "cell_type": "code",
      "source": [
        "# We have membership operators for dictionaries.\n",
        "# But here python checks for the preesence in the key values\n",
        "\n",
        "\"Marks\" not in D4"
      ],
      "metadata": {
        "id": "sVvhhqcZN0bj",
        "outputId": "2c10ed23-8f7a-4d31-d00c-db6480dc1bbf",
        "colab": {
          "base_uri": "https://localhost:8080/"
        }
      },
      "execution_count": 113,
      "outputs": [
        {
          "output_type": "execute_result",
          "data": {
            "text/plain": [
              "True"
            ]
          },
          "metadata": {},
          "execution_count": 113
        }
      ]
    },
    {
      "cell_type": "code",
      "source": [
        "len(D4)"
      ],
      "metadata": {
        "id": "MhXtWo0gOZdi",
        "outputId": "509cb89c-3137-464c-af14-3fbfb570d46c",
        "colab": {
          "base_uri": "https://localhost:8080/"
        }
      },
      "execution_count": 114,
      "outputs": [
        {
          "output_type": "execute_result",
          "data": {
            "text/plain": [
              "3"
            ]
          },
          "metadata": {},
          "execution_count": 114
        }
      ]
    },
    {
      "cell_type": "code",
      "source": [
        "min(D4)\n",
        "# operation on keys"
      ],
      "metadata": {
        "id": "p1LdJ7WMOfly",
        "outputId": "f49b8119-05ae-4264-e028-731877dca0e4",
        "colab": {
          "base_uri": "https://localhost:8080/",
          "height": 36
        }
      },
      "execution_count": 115,
      "outputs": [
        {
          "output_type": "execute_result",
          "data": {
            "text/plain": [
              "'dk'"
            ],
            "application/vnd.google.colaboratory.intrinsic+json": {
              "type": "string"
            }
          },
          "metadata": {},
          "execution_count": 115
        }
      ]
    },
    {
      "cell_type": "code",
      "source": [
        "max(D4)\n",
        "# operatio on keys"
      ],
      "metadata": {
        "id": "VjmXyJlvOhbw",
        "outputId": "36619ae4-8c06-4a46-909b-8c7b058e45ec",
        "colab": {
          "base_uri": "https://localhost:8080/",
          "height": 36
        }
      },
      "execution_count": 116,
      "outputs": [
        {
          "output_type": "execute_result",
          "data": {
            "text/plain": [
              "'ok'"
            ],
            "application/vnd.google.colaboratory.intrinsic+json": {
              "type": "string"
            }
          },
          "metadata": {},
          "execution_count": 116
        }
      ]
    },
    {
      "cell_type": "code",
      "source": [
        "sorted(D4)\n",
        "# operation on keys"
      ],
      "metadata": {
        "id": "Tk-48ygnOnxO",
        "outputId": "925bd832-f7e4-4c51-d2ea-3af2a110fed9",
        "colab": {
          "base_uri": "https://localhost:8080/"
        }
      },
      "execution_count": 117,
      "outputs": [
        {
          "output_type": "execute_result",
          "data": {
            "text/plain": [
              "['dk', 'jk', 'ok']"
            ]
          },
          "metadata": {},
          "execution_count": 117
        }
      ]
    },
    {
      "cell_type": "code",
      "source": [
        "sorted(D4,reverse=True)\n",
        "# opearion on keys"
      ],
      "metadata": {
        "id": "5iseZgXSOub6",
        "outputId": "6d0a8fc0-a5ab-475c-fbdc-0d611fb934e0",
        "colab": {
          "base_uri": "https://localhost:8080/"
        }
      },
      "execution_count": 118,
      "outputs": [
        {
          "output_type": "execute_result",
          "data": {
            "text/plain": [
              "['ok', 'jk', 'dk']"
            ]
          },
          "metadata": {},
          "execution_count": 118
        }
      ]
    },
    {
      "cell_type": "code",
      "source": [
        "D4.keys()"
      ],
      "metadata": {
        "id": "LVXEVIkFO0fV",
        "outputId": "78df7f79-4805-49cc-a230-ef59c03d1cc1",
        "colab": {
          "base_uri": "https://localhost:8080/"
        }
      },
      "execution_count": 119,
      "outputs": [
        {
          "output_type": "execute_result",
          "data": {
            "text/plain": [
              "dict_keys(['ok', 'jk', 'dk'])"
            ]
          },
          "metadata": {},
          "execution_count": 119
        }
      ]
    },
    {
      "cell_type": "code",
      "source": [
        "D4.values()"
      ],
      "metadata": {
        "id": "LOfpB0uWO6EB",
        "outputId": "6d455b81-627b-4888-c62b-39d75ec8716c",
        "colab": {
          "base_uri": "https://localhost:8080/"
        }
      },
      "execution_count": 120,
      "outputs": [
        {
          "output_type": "execute_result",
          "data": {
            "text/plain": [
              "dict_values([30, 90, 90])"
            ]
          },
          "metadata": {},
          "execution_count": 120
        }
      ]
    },
    {
      "cell_type": "code",
      "source": [
        "D4.items()"
      ],
      "metadata": {
        "id": "OY3h1yocO7s1",
        "outputId": "460ba588-e6c8-469f-c952-c8eb1d37777e",
        "colab": {
          "base_uri": "https://localhost:8080/"
        }
      },
      "execution_count": 121,
      "outputs": [
        {
          "output_type": "execute_result",
          "data": {
            "text/plain": [
              "dict_items([('ok', 30), ('jk', 90), ('dk', 90)])"
            ]
          },
          "metadata": {},
          "execution_count": 121
        }
      ]
    },
    {
      "cell_type": "code",
      "source": [
        "for a,b in D4.items():\n",
        "  print(a,b)"
      ],
      "metadata": {
        "id": "dVnXbyCdO9FG",
        "outputId": "9b90cd7b-ddff-4379-ea38-94028247f69b",
        "colab": {
          "base_uri": "https://localhost:8080/"
        }
      },
      "execution_count": 122,
      "outputs": [
        {
          "output_type": "stream",
          "name": "stdout",
          "text": [
            "ok 30\n",
            "jk 90\n",
            "dk 90\n"
          ]
        }
      ]
    },
    {
      "cell_type": "code",
      "source": [
        ""
      ],
      "metadata": {
        "id": "EZVELGF9PTBz"
      },
      "execution_count": null,
      "outputs": []
    }
  ]
}